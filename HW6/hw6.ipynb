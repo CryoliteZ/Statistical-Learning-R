{
 "cells": [
  {
   "cell_type": "code",
   "execution_count": 1,
   "metadata": {
    "scrolled": true
   },
   "outputs": [
    {
     "name": "stderr",
     "output_type": "stream",
     "text": [
      "randomForest 4.6-14\n",
      "Type rfNews() to see new features/changes/bug fixes.\n"
     ]
    }
   ],
   "source": [
    "library(randomForest)"
   ]
  },
  {
   "cell_type": "code",
   "execution_count": 62,
   "metadata": {},
   "outputs": [
    {
     "data": {
      "text/html": [
       "<strong>$`1`</strong> = <ol class=list-inline>\n",
       "\t<li>709</li>\n",
       "\t<li>116</li>\n",
       "\t<li>541</li>\n",
       "\t<li>245</li>\n",
       "\t<li>525</li>\n",
       "\t<li>542</li>\n",
       "\t<li>204</li>\n",
       "\t<li>488</li>\n",
       "\t<li>167</li>\n",
       "\t<li>728</li>\n",
       "\t<li>221</li>\n",
       "\t<li>228</li>\n",
       "\t<li>186</li>\n",
       "\t<li>187</li>\n",
       "\t<li>597</li>\n",
       "\t<li>197</li>\n",
       "\t<li>565</li>\n",
       "\t<li>32</li>\n",
       "\t<li>375</li>\n",
       "\t<li>241</li>\n",
       "\t<li>373</li>\n",
       "\t<li>587</li>\n",
       "\t<li>201</li>\n",
       "\t<li>370</li>\n",
       "\t<li>568</li>\n",
       "\t<li>76</li>\n",
       "\t<li>193</li>\n",
       "\t<li>77</li>\n",
       "\t<li>410</li>\n",
       "\t<li>534</li>\n",
       "\t<li>487</li>\n",
       "\t<li>766</li>\n",
       "\t<li>166</li>\n",
       "\t<li>467</li>\n",
       "\t<li>284</li>\n",
       "\t<li>628</li>\n",
       "\t<li>509</li>\n",
       "\t<li>225</li>\n",
       "\t<li>553</li>\n",
       "\t<li>45</li>\n",
       "\t<li>446</li>\n",
       "\t<li>742</li>\n",
       "\t<li>400</li>\n",
       "\t<li>585</li>\n",
       "\t<li>343</li>\n",
       "\t<li>1</li>\n",
       "\t<li>215</li>\n",
       "\t<li>220</li>\n",
       "\t<li>59</li>\n",
       "\t<li>387</li>\n",
       "\t<li>682</li>\n",
       "\t<li>591</li>\n",
       "\t<li>329</li>\n",
       "\t<li>174</li>\n",
       "\t<li>741</li>\n",
       "\t<li>326</li>\n",
       "\t<li>142</li>\n",
       "\t<li>669</li>\n",
       "\t<li>315</li>\n",
       "\t<li>397</li>\n",
       "\t<li>647</li>\n",
       "\t<li>615</li>\n",
       "\t<li>720</li>\n",
       "\t<li>5</li>\n",
       "\t<li>390</li>\n",
       "\t<li>433</li>\n",
       "\t<li>378</li>\n",
       "\t<li>127</li>\n",
       "\t<li>424</li>\n",
       "\t<li>712</li>\n",
       "\t<li>468</li>\n",
       "\t<li>666</li>\n",
       "\t<li>393</li>\n",
       "\t<li>725</li>\n",
       "\t<li>78</li>\n",
       "\t<li>317</li>\n",
       "\t<li>737</li>\n",
       "\t<li>423</li>\n",
       "</ol>\n"
      ],
      "text/latex": [
       "\\textbf{\\$`1`} = \\begin{enumerate*}\n",
       "\\item 709\n",
       "\\item 116\n",
       "\\item 541\n",
       "\\item 245\n",
       "\\item 525\n",
       "\\item 542\n",
       "\\item 204\n",
       "\\item 488\n",
       "\\item 167\n",
       "\\item 728\n",
       "\\item 221\n",
       "\\item 228\n",
       "\\item 186\n",
       "\\item 187\n",
       "\\item 597\n",
       "\\item 197\n",
       "\\item 565\n",
       "\\item 32\n",
       "\\item 375\n",
       "\\item 241\n",
       "\\item 373\n",
       "\\item 587\n",
       "\\item 201\n",
       "\\item 370\n",
       "\\item 568\n",
       "\\item 76\n",
       "\\item 193\n",
       "\\item 77\n",
       "\\item 410\n",
       "\\item 534\n",
       "\\item 487\n",
       "\\item 766\n",
       "\\item 166\n",
       "\\item 467\n",
       "\\item 284\n",
       "\\item 628\n",
       "\\item 509\n",
       "\\item 225\n",
       "\\item 553\n",
       "\\item 45\n",
       "\\item 446\n",
       "\\item 742\n",
       "\\item 400\n",
       "\\item 585\n",
       "\\item 343\n",
       "\\item 1\n",
       "\\item 215\n",
       "\\item 220\n",
       "\\item 59\n",
       "\\item 387\n",
       "\\item 682\n",
       "\\item 591\n",
       "\\item 329\n",
       "\\item 174\n",
       "\\item 741\n",
       "\\item 326\n",
       "\\item 142\n",
       "\\item 669\n",
       "\\item 315\n",
       "\\item 397\n",
       "\\item 647\n",
       "\\item 615\n",
       "\\item 720\n",
       "\\item 5\n",
       "\\item 390\n",
       "\\item 433\n",
       "\\item 378\n",
       "\\item 127\n",
       "\\item 424\n",
       "\\item 712\n",
       "\\item 468\n",
       "\\item 666\n",
       "\\item 393\n",
       "\\item 725\n",
       "\\item 78\n",
       "\\item 317\n",
       "\\item 737\n",
       "\\item 423\n",
       "\\end{enumerate*}\n"
      ],
      "text/markdown": [
       "**$`1`** = 1. 709\n",
       "2. 116\n",
       "3. 541\n",
       "4. 245\n",
       "5. 525\n",
       "6. 542\n",
       "7. 204\n",
       "8. 488\n",
       "9. 167\n",
       "10. 728\n",
       "11. 221\n",
       "12. 228\n",
       "13. 186\n",
       "14. 187\n",
       "15. 597\n",
       "16. 197\n",
       "17. 565\n",
       "18. 32\n",
       "19. 375\n",
       "20. 241\n",
       "21. 373\n",
       "22. 587\n",
       "23. 201\n",
       "24. 370\n",
       "25. 568\n",
       "26. 76\n",
       "27. 193\n",
       "28. 77\n",
       "29. 410\n",
       "30. 534\n",
       "31. 487\n",
       "32. 766\n",
       "33. 166\n",
       "34. 467\n",
       "35. 284\n",
       "36. 628\n",
       "37. 509\n",
       "38. 225\n",
       "39. 553\n",
       "40. 45\n",
       "41. 446\n",
       "42. 742\n",
       "43. 400\n",
       "44. 585\n",
       "45. 343\n",
       "46. 1\n",
       "47. 215\n",
       "48. 220\n",
       "49. 59\n",
       "50. 387\n",
       "51. 682\n",
       "52. 591\n",
       "53. 329\n",
       "54. 174\n",
       "55. 741\n",
       "56. 326\n",
       "57. 142\n",
       "58. 669\n",
       "59. 315\n",
       "60. 397\n",
       "61. 647\n",
       "62. 615\n",
       "63. 720\n",
       "64. 5\n",
       "65. 390\n",
       "66. 433\n",
       "67. 378\n",
       "68. 127\n",
       "69. 424\n",
       "70. 712\n",
       "71. 468\n",
       "72. 666\n",
       "73. 393\n",
       "74. 725\n",
       "75. 78\n",
       "76. 317\n",
       "77. 737\n",
       "78. 423\n",
       "\n",
       "\n"
      ],
      "text/plain": [
       "$`1`\n",
       " [1] 709 116 541 245 525 542 204 488 167 728 221 228 186 187 597 197 565  32 375\n",
       "[20] 241 373 587 201 370 568  76 193  77 410 534 487 766 166 467 284 628 509 225\n",
       "[39] 553  45 446 742 400 585 343   1 215 220  59 387 682 591 329 174 741 326 142\n",
       "[58] 669 315 397 647 615 720   5 390 433 378 127 424 712 468 666 393 725  78 317\n",
       "[77] 737 423\n"
      ]
     },
     "metadata": {},
     "output_type": "display_data"
    }
   ],
   "source": []
  },
  {
   "cell_type": "code",
   "execution_count": 15,
   "metadata": {},
   "outputs": [],
   "source": [
    "filter_chisq = function(dstrain, ypos=\"pos\", min_count=5,\n",
    "chi_threshold = 1e-5) {\n",
    " nugrams = ncol(dstrain) #number of unigram+1\n",
    " chiall = rep(-1, nugrams) \n",
    " yvec = as.numeric(dstrain[,1]==ypos)\n",
    " options(warn = -1) #silence the warning\n",
    " for(ii in 2:nugrams) {\n",
    " tmp1=cbind(yvec, as.numeric(dstrain[,ii]>0))\n",
    " tmp1a=table(tmp1[,1], tmp1[,2])\n",
    "\n",
    " if(nrow(tmp1a)<2 | ncol(tmp1a)<2) {\n",
    " #stop(\"tmp1a table dimension too small!\")\n",
    " chiall[ii] = 0\n",
    " } else if(sum(tmp1[,2])<=min_count) {\n",
    " chiall[ii] = 0\n",
    " #cat(\"feature\", ii, \"count too low, skip\\n\")\n",
    " } else {\n",
    " tmp2=chisq.test(tmp1a, correct=FALSE)\n",
    " chiall[ii] = tmp2$statistic\n",
    " }\n",
    " }\n",
    " options(warn = 0) #turn the warnings back on\n",
    " o1 = order(chiall, decreasing=TRUE)\n",
    "\n",
    " tmpind1 = chiall[o1] > chi_threshold\n",
    " if(sum(tmpind1) ==0) {\n",
    "\n",
    " return(list(colpos = NULL, colname=NULL, chistat=NULL))\n",
    " } else {\n",
    " o2=o1[tmpind1]\n",
    " retname = names(dstrain)[o2]\n",
    " return(list(colpos = o2, colname=retname, chistat=chiall[o2]))\n",
    " }\n",
    "}"
   ]
  },
  {
   "cell_type": "code",
   "execution_count": 16,
   "metadata": {
    "scrolled": true
   },
   "outputs": [
    {
     "ename": "ERROR",
     "evalue": "Error in rf_carton(ds1, cvfold, testfold = 7, debuglevel = 0): object 'ds1' not found\n",
     "output_type": "error",
     "traceback": [
      "Error in rf_carton(ds1, cvfold, testfold = 7, debuglevel = 0): object 'ds1' not found\nTraceback:\n",
      "1. rf_carton(ds1, cvfold, testfold = 7, debuglevel = 0)"
     ]
    }
   ],
   "source": [
    "rf_carton <- function(dsall, folds, testfold, ypos = \"pos\",  chi_threshold = 0.1, grid_length = 20,  grid_type = \"loglinear\", rfntree = 500 ,debuglevel=0){\n",
    "    \n",
    "    mytest <-function (confusion){\n",
    "        precision = (confusion[2,2])/(confusion[1,2] + confusion[2,2])\n",
    "        recall = (confusion[2,2])/(confusion[2,1] + confusion[2,2])\n",
    "        f1 = 2 * (precision * recall ) / (precision + recall)\n",
    "        return(list(precision=precision, recall=recall, f1 = f1))\n",
    "    }\n",
    "\n",
    "    ycol=1\n",
    "    #this is the training dataset\n",
    "    dstrain_all = dsall[-folds[[testfold]],]\n",
    "    dstrain_all_y = as.factor(dstrain_all[,ycol] == ypos)\n",
    "    #testing dataset\n",
    "    dstest = dsall[folds[[testfold]],]\n",
    "    dstest_y = as.factor(dstest[,ycol] == ypos)\n",
    "    if(testfold==1) {\n",
    "     tunefold=10\n",
    "    } else {1\n",
    "     tunefold=testfold-1\n",
    "    }\n",
    "    #tuning dataset\n",
    "    dstune = dsall[folds[[tunefold]],]\n",
    "    #this is the sub-train dataset\n",
    "    dstrain = dsall[-c(folds[[tunefold]], folds[[testfold]]),]\n",
    "    dstrain_y = as.factor(dstrain[,ycol] == ypos)\n",
    "    dstune_y = as.factor(dstune[,ycol] == ypos)\n",
    "\n",
    "    features = filter_chisq(dstrain, ypos, chi_threshold = chi_threshold)\n",
    "    dstrain_new = dstrain[features$colpos]\n",
    "    dstune_new = dstune[features$colpos]\n",
    "    ncol = dim(dstrain_new)[2]\n",
    "\n",
    "    m_min = 2\n",
    "    m_max = ncol\n",
    "    grids = NULL\n",
    "    if(grid_type == \"loglinear\"){\n",
    "        grids = unique(round(exp(seq(log(m_min), log(m_max),length=grid_length))))\n",
    "    }\n",
    "    else if(grid_type == 'equal'){\n",
    "        grids = unique(round(seq(m_min, m_max, length=grid_length )))\n",
    "    }\n",
    "    \n",
    "    f1_all = c()\n",
    "    best_mtry = 2\n",
    "    best_f1 = -1\n",
    "    best_test_result = NULL\n",
    "    for(mtry in grids){\n",
    "        result = randomForest(x = dstrain_new, y = dstrain_y, xtest=dstune_new,ytest= dstune_y, ntree = rfntree ,mtry = mtry)\n",
    "        test_result = mytest(result$test$confusion) \n",
    "        if(test_result$f1  > best_f1){\n",
    "            best_f1 = test_result$f1\n",
    "            best_mtry = mtry\n",
    "            best_test_result = test_result\n",
    "        }\n",
    "        f1_all = c(f1_all, test_result$f1)\n",
    "        return(result)\n",
    "    }\n",
    "    new_features = filter_chisq(dstrain_all, ypos, chi_threshold = chi_threshold)\n",
    "    dstrain_all = dstrain_all[new_features$colpos]\n",
    "    dstest = dstest[new_features$colpos]\n",
    "    final_rf_result = randomForest(x = dstrain_all, y = dstrain_all_y, xtest=dstest,ytest= dstest_y, mtry = best_mtry)\n",
    "    result = list(mgrids= grids, f1_all=f1_all, best_m=best_mtry, test= mytest(final_rf_result$test$confusion), fselect=new_features)\n",
    "    return(result)\n",
    "}\n",
    "\n",
    "set.seed(5556)\n",
    "rftest=rf_carton(ds1, cvfold, testfold=7,debuglevel=0)\n",
    "\n",
    "\n",
    "    \n",
    "\n",
    "\n"
   ]
  },
  {
   "cell_type": "code",
   "execution_count": 88,
   "metadata": {
    "scrolled": true
   },
   "outputs": [
    {
     "data": {
      "text/html": [
       "<table>\n",
       "<thead><tr><th></th><th scope=col>FALSE</th><th scope=col>TRUE</th><th scope=col>class.error</th></tr></thead>\n",
       "<tbody>\n",
       "\t<tr><th scope=row>FALSE</th><td>60       </td><td>0        </td><td>0.0000000</td></tr>\n",
       "\t<tr><th scope=row>TRUE</th><td>14       </td><td>3        </td><td>0.8235294</td></tr>\n",
       "</tbody>\n",
       "</table>\n"
      ],
      "text/latex": [
       "\\begin{tabular}{r|lll}\n",
       "  & FALSE & TRUE & class.error\\\\\n",
       "\\hline\n",
       "\tFALSE & 60        & 0         & 0.0000000\\\\\n",
       "\tTRUE & 14        & 3         & 0.8235294\\\\\n",
       "\\end{tabular}\n"
      ],
      "text/markdown": [
       "\n",
       "| <!--/--> | FALSE | TRUE | class.error | \n",
       "|---|---|\n",
       "| FALSE | 60        | 0         | 0.0000000 | \n",
       "| TRUE | 14        | 3         | 0.8235294 | \n",
       "\n",
       "\n"
      ],
      "text/plain": [
       "      FALSE TRUE class.error\n",
       "FALSE 60    0    0.0000000  \n",
       "TRUE  14    3    0.8235294  "
      ]
     },
     "metadata": {},
     "output_type": "display_data"
    },
    {
     "data": {
      "text/html": [
       "60"
      ],
      "text/latex": [
       "60"
      ],
      "text/markdown": [
       "60"
      ],
      "text/plain": [
       "[1] 60"
      ]
     },
     "metadata": {},
     "output_type": "display_data"
    },
    {
     "data": {
      "text/html": [
       "14"
      ],
      "text/latex": [
       "14"
      ],
      "text/markdown": [
       "14"
      ],
      "text/plain": [
       "[1] 14"
      ]
     },
     "metadata": {},
     "output_type": "display_data"
    },
    {
     "data": {
      "text/html": [
       "0"
      ],
      "text/latex": [
       "0"
      ],
      "text/markdown": [
       "0"
      ],
      "text/plain": [
       "[1] 0"
      ]
     },
     "metadata": {},
     "output_type": "display_data"
    },
    {
     "data": {
      "text/html": [
       "3"
      ],
      "text/latex": [
       "3"
      ],
      "text/markdown": [
       "3"
      ],
      "text/plain": [
       "[1] 3"
      ]
     },
     "metadata": {},
     "output_type": "display_data"
    },
    {
     "data": {
      "text/html": [
       "0"
      ],
      "text/latex": [
       "0"
      ],
      "text/markdown": [
       "0"
      ],
      "text/plain": [
       "[1] 0"
      ]
     },
     "metadata": {},
     "output_type": "display_data"
    },
    {
     "data": {
      "text/html": [
       "0.823529411764706"
      ],
      "text/latex": [
       "0.823529411764706"
      ],
      "text/markdown": [
       "0.823529411764706"
      ],
      "text/plain": [
       "[1] 0.8235294"
      ]
     },
     "metadata": {},
     "output_type": "display_data"
    }
   ],
   "source": [
    "z = rftest$test$confusion\n",
    "rftest$test$confusion\n",
    "z[1]\n",
    "z[2]\n",
    "z[3]\n",
    "z[4]\n",
    "z[5]\n",
    "z[6]"
   ]
  },
  {
   "cell_type": "code",
   "execution_count": 68,
   "metadata": {},
   "outputs": [
    {
     "data": {
      "text/html": [
       "346"
      ],
      "text/latex": [
       "346"
      ],
      "text/markdown": [
       "346"
      ],
      "text/plain": [
       "[1] 346"
      ]
     },
     "metadata": {},
     "output_type": "display_data"
    }
   ],
   "source": [
    "length(rftest$fselect$colpos)"
   ]
  },
  {
   "cell_type": "code",
   "execution_count": 31,
   "metadata": {
    "scrolled": true
   },
   "outputs": [
    {
     "data": {
      "text/html": [
       "<ol class=list-inline>\n",
       "\t<li>696</li>\n",
       "\t<li>347</li>\n",
       "</ol>\n"
      ],
      "text/latex": [
       "\\begin{enumerate*}\n",
       "\\item 696\n",
       "\\item 347\n",
       "\\end{enumerate*}\n"
      ],
      "text/markdown": [
       "1. 696\n",
       "2. 347\n",
       "\n",
       "\n"
      ],
      "text/plain": [
       "[1] 696 347"
      ]
     },
     "metadata": {},
     "output_type": "display_data"
    },
    {
     "data": {
      "text/plain": [
       "NULL"
      ]
     },
     "metadata": {},
     "output_type": "display_data"
    },
    {
     "data": {
      "text/html": [
       "<ol class=list-inline>\n",
       "\t<li>78</li>\n",
       "\t<li>4129</li>\n",
       "</ol>\n"
      ],
      "text/latex": [
       "\\begin{enumerate*}\n",
       "\\item 78\n",
       "\\item 4129\n",
       "\\end{enumerate*}\n"
      ],
      "text/markdown": [
       "1. 78\n",
       "2. 4129\n",
       "\n",
       "\n"
      ],
      "text/plain": [
       "[1]   78 4129"
      ]
     },
     "metadata": {},
     "output_type": "display_data"
    }
   ],
   "source": [
    "dim(dstrain_all)\n",
    "dim(dstrain_y_all)\n",
    "dim(dstest)"
   ]
  },
  {
   "cell_type": "code",
   "execution_count": null,
   "metadata": {},
   "outputs": [],
   "source": [
    "fin_result = randomForest(x = dstrain_all, y = dstrain_y, xtest=dstune_new,ytest= dstune_y, mtry = mtry)"
   ]
  },
  {
   "cell_type": "code",
   "execution_count": 114,
   "metadata": {},
   "outputs": [],
   "source": [
    "new_features = filter_chisq(dsall, chi_threshold = chi_threshold)\n",
    "new_dall = dsall[new_features$colpos]\n",
    "# new_dall\n",
    "new_result = randomForest(x = new_dall, y = dsall[,1],  mtry = best_mtry)"
   ]
  },
  {
   "cell_type": "code",
   "execution_count": 2,
   "metadata": {
    "scrolled": true
   },
   "outputs": [
    {
     "name": "stderr",
     "output_type": "stream",
     "text": [
      "Installing package into ‘/home/alvin/R/x86_64-pc-linux-gnu-library/3.4’\n",
      "(as ‘lib’ is unspecified)\n",
      "also installing the dependencies ‘utf8’, ‘bindr’, ‘cli’, ‘pillar’, ‘purrr’, ‘assertthat’, ‘bindrcpp’, ‘pkgconfig’, ‘rlang’, ‘tibble’, ‘tidyselect’, ‘BH’, ‘plogr’\n",
      "\n",
      "Installing package into ‘/home/alvin/R/x86_64-pc-linux-gnu-library/3.4’\n",
      "(as ‘lib’ is unspecified)\n",
      "also installing the dependencies ‘bit’, ‘prettyunits’, ‘bit64’, ‘blob’, ‘gsubfn’, ‘proto’, ‘RSQLite’, ‘DBI’, ‘chron’\n",
      "\n",
      "Installing package into ‘/home/alvin/R/x86_64-pc-linux-gnu-library/3.4’\n",
      "(as ‘lib’ is unspecified)\n",
      "also installing the dependencies ‘colorspace’, ‘RColorBrewer’, ‘dichromat’, ‘munsell’, ‘labeling’, ‘viridisLite’, ‘gtable’, ‘MASS’, ‘plyr’, ‘reshape2’, ‘scales’, ‘lazyeval’\n",
      "\n",
      "Installing package into ‘/home/alvin/R/x86_64-pc-linux-gnu-library/3.4’\n",
      "(as ‘lib’ is unspecified)\n",
      "Installing package into ‘/home/alvin/R/x86_64-pc-linux-gnu-library/3.4’\n",
      "(as ‘lib’ is unspecified)\n"
     ]
    }
   ],
   "source": [
    "install.packages(\"dplyr\")\n",
    "install.packages(\"sqldf\")\n",
    "install.packages(\"ggplot2\")\n",
    "install.packages(\"reshape2\")\n",
    "install.packages(\"gridExtra\")\n"
   ]
  },
  {
   "cell_type": "code",
   "execution_count": 56,
   "metadata": {},
   "outputs": [
    {
     "name": "stderr",
     "output_type": "stream",
     "text": [
      "Installing package into ‘/home/alvin/R/x86_64-pc-linux-gnu-library/3.4’\n",
      "(as ‘lib’ is unspecified)\n",
      "also installing the dependencies ‘numDeriv’, ‘SQUAREM’, ‘abind’, ‘mnormt’, ‘foreign’, ‘KernSmooth’, ‘lava’, ‘kernlab’, ‘CVST’, ‘DEoptimR’, ‘magic’, ‘tidyr’, ‘psych’, ‘rpart’, ‘survival’, ‘nnet’, ‘prodlim’, ‘DRR’, ‘robustbase’, ‘sfsmisc’, ‘geometry’, ‘broom’, ‘ipred’, ‘dimRed’, ‘lubridate’, ‘timeDate’, ‘ddalpha’, ‘gower’, ‘RcppRoll’, ‘ModelMetrics’, ‘nlme’, ‘recipes’\n",
      "\n"
     ]
    }
   ],
   "source": [
    "install.packages(\"caret\")"
   ]
  },
  {
   "cell_type": "code",
   "execution_count": 9,
   "metadata": {
    "scrolled": true
   },
   "outputs": [],
   "source": []
  },
  {
   "cell_type": "code",
   "execution_count": 2,
   "metadata": {},
   "outputs": [],
   "source": [
    "\n"
   ]
  },
  {
   "cell_type": "code",
   "execution_count": null,
   "metadata": {},
   "outputs": [],
   "source": []
  },
  {
   "cell_type": "code",
   "execution_count": 12,
   "metadata": {},
   "outputs": [
    {
     "data": {
      "text/html": [
       "15060"
      ],
      "text/latex": [
       "15060"
      ],
      "text/markdown": [
       "15060"
      ],
      "text/plain": [
       "[1] 15060"
      ]
     },
     "metadata": {},
     "output_type": "display_data"
    }
   ],
   "source": [
    "\n",
    "library(ggplot2)\n",
    "library(reshape2)\n",
    "library(gridExtra)\n",
    "library(glmnet)\n",
    "library(randomForest)\n",
    "library(e1071)\n",
    "\n",
    "z <- load('data/50kpred.rdata')\n",
    "df_train_all <- raw1\n",
    "df_test <- raw_test\n",
    "df_all <- rbind(df_train_all, df_test)\n",
    "\n",
    "nrow(df_test)\n"
   ]
  },
  {
   "cell_type": "code",
   "execution_count": 22,
   "metadata": {},
   "outputs": [
    {
     "data": {},
     "metadata": {},
     "output_type": "display_data"
    },
    {
     "data": {
      "image/png": "[encoded data removed]",
      "text/plain": [
       "plot without title"
      ]
     },
     "metadata": {},
     "output_type": "display_data"
    }
   ],
   "source": [
    "plotPorpotion <- function(df, feature){\n",
    "    \n",
    "    occupation_above = data.frame(table(df[df[,\"y_income\" ] == TRUE,]$occupation))\n",
    "    occupation_below = data.frame(table(df[df[,\"y_income\" ] == FALSE,]$occupation))\n",
    "    occupation_all = data.frame(table(df[df[,\"y_income\" ] == FALSE,]$occupation))\n",
    "    occupation = merge(x = occupation_above, y = occupation_below, by = \"Var1\")\n",
    "    occu_names = c('occupation', 'above', 'below')\n",
    "    colnames(occupation) = occu_names\n",
    "    occupation$above_proportion = occupation$above/ (occupation$above + occupation$below)\n",
    "    ggplot(occupation, aes(x=occupation, y=above_proportion, ), xlab=\"Gender\", ylab=\"Counts\") + \n",
    "        geom_bar(stat=\"identity\", fill=\"lightgreen\", color=\"grey50\") +\n",
    "        theme(axis.text.x = element_text(angle = 45, hjust = 1))+\n",
    "        ggtitle('Proportions of above 50k with different occupation')+ \n",
    "          xlab(\"occupation\") +\n",
    "          ylab(\"proportion\") \n",
    "}\n",
    "plotPorpotion(df_all, 'occupation')"
   ]
  },
  {
   "cell_type": "code",
   "execution_count": 28,
   "metadata": {},
   "outputs": [
    {
     "data": {
      "text/plain": [
       "\n",
       "FALSE  TRUE \n",
       "34014 11208 "
      ]
     },
     "metadata": {},
     "output_type": "display_data"
    },
    {
     "data": {
      "text/html": [
       "0.247843969749237"
      ],
      "text/latex": [
       "0.247843969749237"
      ],
      "text/markdown": [
       "0.247843969749237"
      ],
      "text/plain": [
       "[1] 0.247844"
      ]
     },
     "metadata": {},
     "output_type": "display_data"
    }
   ],
   "source": [
    "table(df_all$y_income)\n",
    "sum(df_all$y_income == TRUE) / nrow(df_all)"
   ]
  },
  {
   "cell_type": "code",
   "execution_count": 29,
   "metadata": {},
   "outputs": [
    {
     "data": {
      "text/plain": [
       "\n",
       "     Adm-clerical      Armed-Forces      Craft-repair   Exec-managerial \n",
       "             5540                14              6020              5984 \n",
       "  Farming-fishing Handlers-cleaners Machine-op-inspct     Other-service \n",
       "             1480              2046              2970              4808 \n",
       "  Priv-house-serv    Prof-specialty   Protective-serv             Sales \n",
       "              232              6008               976              5408 \n",
       "     Tech-support  Transport-moving \n",
       "             1420              2316 "
      ]
     },
     "metadata": {},
     "output_type": "display_data"
    }
   ],
   "source": [
    "table(df_all$occupation)"
   ]
  },
  {
   "cell_type": "code",
   "execution_count": 2,
   "metadata": {},
   "outputs": [],
   "source": [
    "standarize <- function(x_train, x_test){\n",
    "    x_train_mean = t(apply(x_train, 2, function(x) mean(x, na.rm=TRUE)))                  \n",
    "    x_train_sd = apply(x_train, 2, function(x) sd(x, na.rm=TRUE))\n",
    "    x_train_new = sweep(x_train, 2, x_train_mean)\n",
    "    x_train_new = sweep(x_train_new, MARGIN=2, x_train_sd,`/`)\n",
    "    x_test_new = sweep(x_test, 2, x_train_mean)\n",
    "    x_test_new = sweep(x_test_new, MARGIN=2, x_train_sd,`/`)                   \n",
    "    return(list(x_train = x_train_new, x_test = x_test_new))\n",
    "}\n",
    "getFeatureClasses <- function(df, dum_features){\n",
    "    result = list()\n",
    "    i <- 1\n",
    "    for(feat in dum_features){\n",
    "        cl =  as.vector(data.frame(table(df[,feat]))[table(df[,feat]) > 50,1])\n",
    "        result[[feat]] = cl\n",
    "        i <- i + 1\n",
    "    }\n",
    "    return(result)\n",
    "}\n",
    "                    \n",
    "cbind.fill<-function(...){\n",
    "  nm <- list(...) \n",
    "  nm<-lapply(nm, as.matrix)\n",
    "  n <- max(sapply(nm, nrow)) \n",
    "  as.data.frame(do.call(cbind, lapply(nm, function (x) \n",
    "    rbind(x, matrix(, n-nrow(x), ncol(x))))))\n",
    "}"
   ]
  },
  {
   "cell_type": "code",
   "execution_count": 233,
   "metadata": {
    "scrolled": true
   },
   "outputs": [
    {
     "data": {
      "text/html": [
       "30162"
      ],
      "text/latex": [
       "30162"
      ],
      "text/markdown": [
       "30162"
      ],
      "text/plain": [
       "[1] 30162"
      ]
     },
     "metadata": {},
     "output_type": "display_data"
    },
    {
     "data": {
      "text/html": [
       "15060"
      ],
      "text/latex": [
       "15060"
      ],
      "text/markdown": [
       "15060"
      ],
      "text/plain": [
       "[1] 15060"
      ]
     },
     "metadata": {},
     "output_type": "display_data"
    }
   ],
   "source": [
    "nrow(df_train_all_dummy)\n",
    "nrow(df_train_all_cont)"
   ]
  },
  {
   "cell_type": "code",
   "execution_count": 3,
   "metadata": {},
   "outputs": [],
   "source": [
    "onehotencoding <- function(dum_features, dum_classes, df){\n",
    "    df = df[,dum_features]\n",
    "    for(feature in dum_features){\n",
    "        classes = dum_classes[feature]\n",
    "        for(c in classes){\n",
    "            dummy <- as.numeric(df[feature] == c)\n",
    "            dum_class_name = paste(feature, c, sep=\"_\")\n",
    "            df[dum_class_name] = dummy\n",
    "        }\n",
    "    }\n",
    "    return(df[ , !(names(df) %in% dum_features)])\n",
    "}\n",
    "\n",
    "\n",
    "dum_features = c(\"workclass\", \"marital_status\", \"occupation\",\"relationship\", \"race\", \"sex\", \"native_country\")\n",
    "dum_classes = getFeatureClasses(df_all, dum_features)\n",
    "df_train_all_dummy = onehotencoding(dum_features, dum_classes, df_train_all)\n",
    "df_test_dummy = onehotencoding(dum_features, dum_classes, df_test)\n",
    "\n",
    "continuous_features = c(\"age\", \"fnlwgt\", \"education_num\", \"capital_gain\", \"capital_loss\", \"hours_per_week\")\n",
    "df_train_all_cont = df_train_all[,continuous_features]\n",
    "df_test_cont = df_test[,continuous_features]\n",
    "df_train_all_cont_std = standarize(df_train_all_cont, df_test_cont)$x_train\n",
    "df_test_cont_std = standarize(df_train_all_cont, df_test_cont)$x_test\n",
    "df_train_all_x = cbind.fill(df_train_all_cont_std,df_train_all_dummy)\n",
    "df_train_all_y = df_train_all$y_income\n",
    "df_tune_x <- df_train_all_x[folds == 10,]\n",
    "df_tune_y <- df_train_all[folds == 10,]$y_income\n",
    "df_train_x <- df_train_all_x[folds!= 10, ]\n",
    "df_train_y <- df_train_all[folds != 10,]$y_income\n",
    "df_test_x = cbind.fill(df_test_cont_std,df_test_dummy)\n",
    "df_test_y = df_test$y_income"
   ]
  },
  {
   "cell_type": "code",
   "execution_count": 4,
   "metadata": {},
   "outputs": [
    {
     "data": {
      "text/html": [
       "<dl>\n",
       "\t<dt>$workclass</dt>\n",
       "\t\t<dd><ol class=list-inline>\n",
       "\t<li>'Federal-gov'</li>\n",
       "\t<li>'Local-gov'</li>\n",
       "\t<li>'Private'</li>\n",
       "\t<li>'Self-emp-inc'</li>\n",
       "\t<li>'Self-emp-not-inc'</li>\n",
       "\t<li>'State-gov'</li>\n",
       "</ol>\n",
       "</dd>\n",
       "\t<dt>$marital_status</dt>\n",
       "\t\t<dd><ol class=list-inline>\n",
       "\t<li>'Divorced'</li>\n",
       "\t<li>'Married-civ-spouse'</li>\n",
       "\t<li>'Married-spouse-absent'</li>\n",
       "\t<li>'Never-married'</li>\n",
       "\t<li>'Separated'</li>\n",
       "\t<li>'Widowed'</li>\n",
       "</ol>\n",
       "</dd>\n",
       "\t<dt>$occupation</dt>\n",
       "\t\t<dd><ol class=list-inline>\n",
       "\t<li>'Adm-clerical'</li>\n",
       "\t<li>'Craft-repair'</li>\n",
       "\t<li>'Exec-managerial'</li>\n",
       "\t<li>'Farming-fishing'</li>\n",
       "\t<li>'Handlers-cleaners'</li>\n",
       "\t<li>'Machine-op-inspct'</li>\n",
       "\t<li>'Other-service'</li>\n",
       "\t<li>'Priv-house-serv'</li>\n",
       "\t<li>'Prof-specialty'</li>\n",
       "\t<li>'Protective-serv'</li>\n",
       "\t<li>'Sales'</li>\n",
       "\t<li>'Tech-support'</li>\n",
       "\t<li>'Transport-moving'</li>\n",
       "</ol>\n",
       "</dd>\n",
       "\t<dt>$relationship</dt>\n",
       "\t\t<dd><ol class=list-inline>\n",
       "\t<li>'Husband'</li>\n",
       "\t<li>'Not-in-family'</li>\n",
       "\t<li>'Other-relative'</li>\n",
       "\t<li>'Own-child'</li>\n",
       "\t<li>'Unmarried'</li>\n",
       "\t<li>'Wife'</li>\n",
       "</ol>\n",
       "</dd>\n",
       "\t<dt>$race</dt>\n",
       "\t\t<dd><ol class=list-inline>\n",
       "\t<li>'Amer-Indian-Eskimo'</li>\n",
       "\t<li>'Asian-Pac-Islander'</li>\n",
       "\t<li>'Black'</li>\n",
       "\t<li>'Other'</li>\n",
       "\t<li>'White'</li>\n",
       "</ol>\n",
       "</dd>\n",
       "\t<dt>$sex</dt>\n",
       "\t\t<dd><ol class=list-inline>\n",
       "\t<li>'Female'</li>\n",
       "\t<li>'Male'</li>\n",
       "</ol>\n",
       "</dd>\n",
       "\t<dt>$native_country</dt>\n",
       "\t\t<dd><ol class=list-inline>\n",
       "\t<li>'Canada'</li>\n",
       "\t<li>'China'</li>\n",
       "\t<li>'Columbia'</li>\n",
       "\t<li>'Cuba'</li>\n",
       "\t<li>'Dominican-Republic'</li>\n",
       "\t<li>'El-Salvador'</li>\n",
       "\t<li>'England'</li>\n",
       "\t<li>'Germany'</li>\n",
       "\t<li>'Guatemala'</li>\n",
       "\t<li>'Haiti'</li>\n",
       "\t<li>'India'</li>\n",
       "\t<li>'Iran'</li>\n",
       "\t<li>'Italy'</li>\n",
       "\t<li>'Jamaica'</li>\n",
       "\t<li>'Japan'</li>\n",
       "\t<li>'Mexico'</li>\n",
       "\t<li>'Philippines'</li>\n",
       "\t<li>'Poland'</li>\n",
       "\t<li>'Portugal'</li>\n",
       "\t<li>'Puerto-Rico'</li>\n",
       "\t<li>'South'</li>\n",
       "\t<li>'Taiwan'</li>\n",
       "\t<li>'United-States'</li>\n",
       "\t<li>'Vietnam'</li>\n",
       "</ol>\n",
       "</dd>\n",
       "</dl>\n"
      ],
      "text/latex": [
       "\\begin{description}\n",
       "\\item[\\$workclass] \\begin{enumerate*}\n",
       "\\item 'Federal-gov'\n",
       "\\item 'Local-gov'\n",
       "\\item 'Private'\n",
       "\\item 'Self-emp-inc'\n",
       "\\item 'Self-emp-not-inc'\n",
       "\\item 'State-gov'\n",
       "\\end{enumerate*}\n",
       "\n",
       "\\item[\\$marital\\_status] \\begin{enumerate*}\n",
       "\\item 'Divorced'\n",
       "\\item 'Married-civ-spouse'\n",
       "\\item 'Married-spouse-absent'\n",
       "\\item 'Never-married'\n",
       "\\item 'Separated'\n",
       "\\item 'Widowed'\n",
       "\\end{enumerate*}\n",
       "\n",
       "\\item[\\$occupation] \\begin{enumerate*}\n",
       "\\item 'Adm-clerical'\n",
       "\\item 'Craft-repair'\n",
       "\\item 'Exec-managerial'\n",
       "\\item 'Farming-fishing'\n",
       "\\item 'Handlers-cleaners'\n",
       "\\item 'Machine-op-inspct'\n",
       "\\item 'Other-service'\n",
       "\\item 'Priv-house-serv'\n",
       "\\item 'Prof-specialty'\n",
       "\\item 'Protective-serv'\n",
       "\\item 'Sales'\n",
       "\\item 'Tech-support'\n",
       "\\item 'Transport-moving'\n",
       "\\end{enumerate*}\n",
       "\n",
       "\\item[\\$relationship] \\begin{enumerate*}\n",
       "\\item 'Husband'\n",
       "\\item 'Not-in-family'\n",
       "\\item 'Other-relative'\n",
       "\\item 'Own-child'\n",
       "\\item 'Unmarried'\n",
       "\\item 'Wife'\n",
       "\\end{enumerate*}\n",
       "\n",
       "\\item[\\$race] \\begin{enumerate*}\n",
       "\\item 'Amer-Indian-Eskimo'\n",
       "\\item 'Asian-Pac-Islander'\n",
       "\\item 'Black'\n",
       "\\item 'Other'\n",
       "\\item 'White'\n",
       "\\end{enumerate*}\n",
       "\n",
       "\\item[\\$sex] \\begin{enumerate*}\n",
       "\\item 'Female'\n",
       "\\item 'Male'\n",
       "\\end{enumerate*}\n",
       "\n",
       "\\item[\\$native\\_country] \\begin{enumerate*}\n",
       "\\item 'Canada'\n",
       "\\item 'China'\n",
       "\\item 'Columbia'\n",
       "\\item 'Cuba'\n",
       "\\item 'Dominican-Republic'\n",
       "\\item 'El-Salvador'\n",
       "\\item 'England'\n",
       "\\item 'Germany'\n",
       "\\item 'Guatemala'\n",
       "\\item 'Haiti'\n",
       "\\item 'India'\n",
       "\\item 'Iran'\n",
       "\\item 'Italy'\n",
       "\\item 'Jamaica'\n",
       "\\item 'Japan'\n",
       "\\item 'Mexico'\n",
       "\\item 'Philippines'\n",
       "\\item 'Poland'\n",
       "\\item 'Portugal'\n",
       "\\item 'Puerto-Rico'\n",
       "\\item 'South'\n",
       "\\item 'Taiwan'\n",
       "\\item 'United-States'\n",
       "\\item 'Vietnam'\n",
       "\\end{enumerate*}\n",
       "\n",
       "\\end{description}\n"
      ],
      "text/markdown": [
       "$workclass\n",
       ":   1. 'Federal-gov'\n",
       "2. 'Local-gov'\n",
       "3. 'Private'\n",
       "4. 'Self-emp-inc'\n",
       "5. 'Self-emp-not-inc'\n",
       "6. 'State-gov'\n",
       "\n",
       "\n",
       "\n",
       "$marital_status\n",
       ":   1. 'Divorced'\n",
       "2. 'Married-civ-spouse'\n",
       "3. 'Married-spouse-absent'\n",
       "4. 'Never-married'\n",
       "5. 'Separated'\n",
       "6. 'Widowed'\n",
       "\n",
       "\n",
       "\n",
       "$occupation\n",
       ":   1. 'Adm-clerical'\n",
       "2. 'Craft-repair'\n",
       "3. 'Exec-managerial'\n",
       "4. 'Farming-fishing'\n",
       "5. 'Handlers-cleaners'\n",
       "6. 'Machine-op-inspct'\n",
       "7. 'Other-service'\n",
       "8. 'Priv-house-serv'\n",
       "9. 'Prof-specialty'\n",
       "10. 'Protective-serv'\n",
       "11. 'Sales'\n",
       "12. 'Tech-support'\n",
       "13. 'Transport-moving'\n",
       "\n",
       "\n",
       "\n",
       "$relationship\n",
       ":   1. 'Husband'\n",
       "2. 'Not-in-family'\n",
       "3. 'Other-relative'\n",
       "4. 'Own-child'\n",
       "5. 'Unmarried'\n",
       "6. 'Wife'\n",
       "\n",
       "\n",
       "\n",
       "$race\n",
       ":   1. 'Amer-Indian-Eskimo'\n",
       "2. 'Asian-Pac-Islander'\n",
       "3. 'Black'\n",
       "4. 'Other'\n",
       "5. 'White'\n",
       "\n",
       "\n",
       "\n",
       "$sex\n",
       ":   1. 'Female'\n",
       "2. 'Male'\n",
       "\n",
       "\n",
       "\n",
       "$native_country\n",
       ":   1. 'Canada'\n",
       "2. 'China'\n",
       "3. 'Columbia'\n",
       "4. 'Cuba'\n",
       "5. 'Dominican-Republic'\n",
       "6. 'El-Salvador'\n",
       "7. 'England'\n",
       "8. 'Germany'\n",
       "9. 'Guatemala'\n",
       "10. 'Haiti'\n",
       "11. 'India'\n",
       "12. 'Iran'\n",
       "13. 'Italy'\n",
       "14. 'Jamaica'\n",
       "15. 'Japan'\n",
       "16. 'Mexico'\n",
       "17. 'Philippines'\n",
       "18. 'Poland'\n",
       "19. 'Portugal'\n",
       "20. 'Puerto-Rico'\n",
       "21. 'South'\n",
       "22. 'Taiwan'\n",
       "23. 'United-States'\n",
       "24. 'Vietnam'\n",
       "\n",
       "\n",
       "\n",
       "\n",
       "\n"
      ],
      "text/plain": [
       "$workclass\n",
       "[1] \"Federal-gov\"      \"Local-gov\"        \"Private\"          \"Self-emp-inc\"    \n",
       "[5] \"Self-emp-not-inc\" \"State-gov\"       \n",
       "\n",
       "$marital_status\n",
       "[1] \"Divorced\"              \"Married-civ-spouse\"    \"Married-spouse-absent\"\n",
       "[4] \"Never-married\"         \"Separated\"             \"Widowed\"              \n",
       "\n",
       "$occupation\n",
       " [1] \"Adm-clerical\"      \"Craft-repair\"      \"Exec-managerial\"  \n",
       " [4] \"Farming-fishing\"   \"Handlers-cleaners\" \"Machine-op-inspct\"\n",
       " [7] \"Other-service\"     \"Priv-house-serv\"   \"Prof-specialty\"   \n",
       "[10] \"Protective-serv\"   \"Sales\"             \"Tech-support\"     \n",
       "[13] \"Transport-moving\" \n",
       "\n",
       "$relationship\n",
       "[1] \"Husband\"        \"Not-in-family\"  \"Other-relative\" \"Own-child\"     \n",
       "[5] \"Unmarried\"      \"Wife\"          \n",
       "\n",
       "$race\n",
       "[1] \"Amer-Indian-Eskimo\" \"Asian-Pac-Islander\" \"Black\"             \n",
       "[4] \"Other\"              \"White\"             \n",
       "\n",
       "$sex\n",
       "[1] \"Female\" \"Male\"  \n",
       "\n",
       "$native_country\n",
       " [1] \"Canada\"             \"China\"              \"Columbia\"          \n",
       " [4] \"Cuba\"               \"Dominican-Republic\" \"El-Salvador\"       \n",
       " [7] \"England\"            \"Germany\"            \"Guatemala\"         \n",
       "[10] \"Haiti\"              \"India\"              \"Iran\"              \n",
       "[13] \"Italy\"              \"Jamaica\"            \"Japan\"             \n",
       "[16] \"Mexico\"             \"Philippines\"        \"Poland\"            \n",
       "[19] \"Portugal\"           \"Puerto-Rico\"        \"South\"             \n",
       "[22] \"Taiwan\"             \"United-States\"      \"Vietnam\"           \n"
      ]
     },
     "metadata": {},
     "output_type": "display_data"
    }
   ],
   "source": [
    "dum_classes"
   ]
  },
  {
   "cell_type": "code",
   "execution_count": 30,
   "metadata": {
    "scrolled": true
   },
   "outputs": [
    {
     "data": {
      "text/html": [
       "<table>\n",
       "<thead><tr><th scope=col>alpha</th><th scope=col>error_rate</th></tr></thead>\n",
       "<tbody>\n",
       "\t<tr><td>1e+00    </td><td>0.1771080</td></tr>\n",
       "\t<tr><td>1e-01    </td><td>0.1771080</td></tr>\n",
       "\t<tr><td>1e-03    </td><td>0.1815103</td></tr>\n",
       "\t<tr><td>1e-04    </td><td>0.1815103</td></tr>\n",
       "\t<tr><td>0e+00    </td><td>0.1815103</td></tr>\n",
       "</tbody>\n",
       "</table>\n"
      ],
      "text/latex": [
       "\\begin{tabular}{r|ll}\n",
       " alpha & error\\_rate\\\\\n",
       "\\hline\n",
       "\t 1e+00     & 0.1771080\\\\\n",
       "\t 1e-01     & 0.1771080\\\\\n",
       "\t 1e-03     & 0.1815103\\\\\n",
       "\t 1e-04     & 0.1815103\\\\\n",
       "\t 0e+00     & 0.1815103\\\\\n",
       "\\end{tabular}\n"
      ],
      "text/markdown": [
       "\n",
       "alpha | error_rate | \n",
       "|---|---|---|---|---|\n",
       "| 1e+00     | 0.1771080 | \n",
       "| 1e-01     | 0.1771080 | \n",
       "| 1e-03     | 0.1815103 | \n",
       "| 1e-04     | 0.1815103 | \n",
       "| 0e+00     | 0.1815103 | \n",
       "\n",
       "\n"
      ],
      "text/plain": [
       "  alpha error_rate\n",
       "1 1e+00 0.1771080 \n",
       "2 1e-01 0.1771080 \n",
       "3 1e-03 0.1815103 \n",
       "4 1e-04 0.1815103 \n",
       "5 0e+00 0.1815103 "
      ]
     },
     "metadata": {},
     "output_type": "display_data"
    }
   ],
   "source": [
    "\n",
    "\n",
    "alpha = c(1, 0.1, 0.001, 0.0001,  0)\n",
    "err_list = c()\n",
    "for(a in alpha){\n",
    "    fit <- glmnet(as.matrix(df_train_x), df_train_y, alpha = a, family=\"binomial\")\n",
    "    x_predict_result = predict(fit, as.matrix(df_tune_x), s = 0.0001, type = \"response\") >= 0.5\n",
    "    err = 1 - sum((df_tune_y == x_predict_result) == TRUE) / length(x_predict_result)\n",
    "    err_list = c(err_list,err)\n",
    "}\n",
    "data.frame(alpha = alpha, error_rate = err_list)"
   ]
  },
  {
   "cell_type": "code",
   "execution_count": 31,
   "metadata": {},
   "outputs": [
    {
     "data": {
      "text/html": [
       "0.193492695883134"
      ],
      "text/latex": [
       "0.193492695883134"
      ],
      "text/markdown": [
       "0.193492695883134"
      ],
      "text/plain": [
       "[1] 0.1934927"
      ]
     },
     "metadata": {},
     "output_type": "display_data"
    }
   ],
   "source": [
    "fit <- glmnet(as.matrix(df_train_all_x), df_train_all_y, alpha = 1, family=\"binomial\")\n",
    "x_predict_result = predict(fit, as.matrix(df_test_x), s = 0.0001, type = \"response\") >= 0.5\n",
    "err = 1-sum((df_test_y == x_predict_result) == TRUE) / length(x_predict_result)\n",
    "err"
   ]
  },
  {
   "cell_type": "code",
   "execution_count": 33,
   "metadata": {},
   "outputs": [
    {
     "data": {
      "text/html": [
       "0.193691899070385"
      ],
      "text/latex": [
       "0.193691899070385"
      ],
      "text/markdown": [
       "0.193691899070385"
      ],
      "text/plain": [
       "[1] 0.1936919"
      ]
     },
     "metadata": {},
     "output_type": "display_data"
    }
   ],
   "source": [
    "\n",
    "fit <- glmnet(as.matrix(df_train_all_x), df_train_all_y, alpha = 0.1, family=\"binomial\")\n",
    "x_predict_result = predict(fit, as.matrix(df_test_x), s = 0.0001, type = \"response\") >= 0.5\n",
    "err = 1-sum((df_test_y == x_predict_result) == TRUE) / length(x_predict_result)\n",
    "err"
   ]
  },
  {
   "cell_type": "code",
   "execution_count": 28,
   "metadata": {},
   "outputs": [
    {
     "name": "stderr",
     "output_type": "stream",
     "text": [
      "Warning message in randomForest.default(x = df_train_x, y = df_train_y, xtest = df_tune_x, :\n",
      "“The response has five or fewer unique values.  Are you sure you want to do regression?”"
     ]
    },
    {
     "name": "stdout",
     "output_type": "stream",
     "text": [
      "[1] 0.2485608\n"
     ]
    }
   ],
   "source": [
    "randomForestTuning <- function(df_train_x, df_train_y, df_tune_x, df_tune_y,  df_train_all_x, df_train_all_y, df_test_x, df_test_y, grid_length = 20,  grid_type = \"equal\", rfntree = 50 ,debuglevel=0){\n",
    "    mytest <-function (confusion){\n",
    "        precision = (confusion[2,2])/(confusion[1,2] + confusion[2,2])\n",
    "        recall = (confusion[2,2])/(confusion[2,1] + confusion[2,2])\n",
    "        f1 = 2 * (precision * recall ) / (precision + recall)\n",
    "        return(list(precision=precision, recall=recall, f1 = f1))\n",
    "    }\n",
    "\n",
    "    errtest <- function (test){\n",
    "        acc = sum (((test$pred >= 0.5) == df_tune_y) == TRUE) / length(df_tune_y)\n",
    "        return(1 - acc)\n",
    "    }\n",
    "    ncol = dim(df_train_x)[2]\n",
    "    m_min = 2\n",
    "    m_max = ncol\n",
    "    grids = NULL\n",
    "    if(grid_type == \"loglinear\"){\n",
    "        grids = unique(round(exp(seq(log(m_min), log(m_max),length=grid_length))))\n",
    "    }\n",
    "    else if(grid_type == 'equal'){\n",
    "        grids = unique(round(seq(m_min, m_max, length=grid_length )))\n",
    "    }\n",
    "    \n",
    "    best_mtry = 7\n",
    "    best_err = 1000\n",
    "    err_list = c()\n",
    "    best_rf = NULL\n",
    "    mtrys = c(2)\n",
    "    for(mtry in grids){\n",
    "        result = randomForest(x = df_train_x, y = df_train_y, xtest=df_tune_x,ytest= df_tune_y, ntree = rfntree ,mtry = mtry)\n",
    "        test_err = errtest(result$test) \n",
    "        err_list = c(err_list, test_err)\n",
    "        print(test_err)\n",
    "        if(test_err  < best_err){\n",
    "            best_err = test_err\n",
    "            best_mtry = mtry\n",
    "            best_rf = result\n",
    "        }else{\n",
    "            break;\n",
    "        }\n",
    "    } \n",
    "    return(list(best_mtry = best_mtry, mtrys = mtrys,err_list = err_list, test_err = test_err, best_rf = best_rf))\n",
    "}\n",
    "\n",
    "\n",
    "rf = randomForestTuning(df_train_x, df_train_y, df_tune_x, df_tune_y,  df_train_all_x, df_train_all_y, df_test_x, df_test_y)\n",
    "\n",
    "\n",
    "\n",
    "\n",
    "\n"
   ]
  },
  {
   "cell_type": "code",
   "execution_count": 34,
   "metadata": {
    "scrolled": true
   },
   "outputs": [
    {
     "name": "stderr",
     "output_type": "stream",
     "text": [
      "Warning message in randomForest.default(x = df_train_x, y = df_train_y, xtest = df_test_x, :\n",
      "“The response has five or fewer unique values.  Are you sure you want to do regression?”"
     ]
    }
   ],
   "source": [
    "rf = randomForest(x = df_train_x, y = df_train_y, xtest=df_test_x,ytest= df_test_y, ntree = 100 ,mtry = 11)"
   ]
  },
  {
   "cell_type": "code",
   "execution_count": 35,
   "metadata": {},
   "outputs": [
    {
     "data": {
      "text/html": [
       "0.171181938911023"
      ],
      "text/latex": [
       "0.171181938911023"
      ],
      "text/markdown": [
       "0.171181938911023"
      ],
      "text/plain": [
       "[1] 0.1711819"
      ]
     },
     "metadata": {},
     "output_type": "display_data"
    }
   ],
   "source": [
    "errtest <- function (test){\n",
    "    acc = sum (((test$pred >= 0.5) == df_test_y) == TRUE) / length(df_test_y)\n",
    "    return(1 - acc)\n",
    "}\n",
    "errtest(rf$test)"
   ]
  },
  {
   "cell_type": "code",
   "execution_count": 77,
   "metadata": {},
   "outputs": [],
   "source": [
    "pred = (rf2$test$pred >= 0.5) == df_test_y"
   ]
  },
  {
   "cell_type": "code",
   "execution_count": 6,
   "metadata": {
    "scrolled": true
   },
   "outputs": [
    {
     "data": {
      "text/html": [
       "0.834744327802235"
      ],
      "text/latex": [
       "0.834744327802235"
      ],
      "text/markdown": [
       "0.834744327802235"
      ],
      "text/plain": [
       "[1] 0.8347443"
      ]
     },
     "metadata": {},
     "output_type": "display_data"
    }
   ],
   "source": [
    "acc = sum (((rf2$test$pred >= 0.5) == df_tune_y) == TRUE) / length(df_tune_y)\n",
    "acc"
   ]
  },
  {
   "cell_type": "code",
   "execution_count": 10,
   "metadata": {},
   "outputs": [],
   "source": []
  },
  {
   "cell_type": "code",
   "execution_count": 14,
   "metadata": {
    "scrolled": true
   },
   "outputs": [],
   "source": [
    "svm_model = svm(as.matrix(df_train_x), as.matrix(df_train_y) , type = \"C\", c)"
   ]
  },
  {
   "cell_type": "code",
   "execution_count": 51,
   "metadata": {},
   "outputs": [
    {
     "data": {
      "text/html": [
       "0.181510328479512"
      ],
      "text/latex": [
       "0.181510328479512"
      ],
      "text/markdown": [
       "0.181510328479512"
      ],
      "text/plain": [
       "[1] 0.1815103"
      ]
     },
     "metadata": {},
     "output_type": "display_data"
    }
   ],
   "source": [
    "costs = c(2, 1, 0.1)\n",
    "err_list = c()\n",
    "\n",
    "svm_model = svm(as.matrix(df_train_x), as.matrix(df_train_y), type = \"C\", cost = 10, probability=TRUE)\n",
    "predict = predict(svm_model, newdata = as.matrix(df_tune_x))\n",
    "error_rate = 1 - sum((df_tune_y == predict) == TRUE) / length(df_tune_y)\n",
    "error_rate"
   ]
  },
  {
   "cell_type": "code",
   "execution_count": 52,
   "metadata": {},
   "outputs": [
    {
     "data": {
      "text/html": [
       "0.189043824701195"
      ],
      "text/latex": [
       "0.189043824701195"
      ],
      "text/markdown": [
       "0.189043824701195"
      ],
      "text/plain": [
       "[1] 0.1890438"
      ]
     },
     "metadata": {},
     "output_type": "display_data"
    }
   ],
   "source": [
    "predict = predict(svm_model, newdata = as.matrix(df_test_x),  probability=TRUE)\n",
    "error_rate = 1 - sum((df_test_y == predict) == TRUE) / length(df_test_y)\n",
    "error_rate"
   ]
  },
  {
   "cell_type": "code",
   "execution_count": 55,
   "metadata": {},
   "outputs": [
    {
     "data": {
      "text/html": [
       "<table>\n",
       "<thead><tr><th></th><th scope=col>FALSE</th><th scope=col>TRUE</th></tr></thead>\n",
       "<tbody>\n",
       "\t<tr><th scope=row>1</th><td>0.8442286</td><td>0.1557714</td></tr>\n",
       "\t<tr><th scope=row>2</th><td>0.8281356</td><td>0.1718644</td></tr>\n",
       "\t<tr><th scope=row>3</th><td>0.8790349</td><td>0.1209651</td></tr>\n",
       "\t<tr><th scope=row>4</th><td>0.1080169</td><td>0.8919831</td></tr>\n",
       "\t<tr><th scope=row>6</th><td>0.8536568</td><td>0.1463432</td></tr>\n",
       "\t<tr><th scope=row>8</th><td>0.1145552</td><td>0.8854448</td></tr>\n",
       "</tbody>\n",
       "</table>\n"
      ],
      "text/latex": [
       "\\begin{tabular}{r|ll}\n",
       "  & FALSE & TRUE\\\\\n",
       "\\hline\n",
       "\t1 & 0.8442286 & 0.1557714\\\\\n",
       "\t2 & 0.8281356 & 0.1718644\\\\\n",
       "\t3 & 0.8790349 & 0.1209651\\\\\n",
       "\t4 & 0.1080169 & 0.8919831\\\\\n",
       "\t6 & 0.8536568 & 0.1463432\\\\\n",
       "\t8 & 0.1145552 & 0.8854448\\\\\n",
       "\\end{tabular}\n"
      ],
      "text/markdown": [
       "\n",
       "| <!--/--> | FALSE | TRUE | \n",
       "|---|---|---|---|---|---|\n",
       "| 1 | 0.8442286 | 0.1557714 | \n",
       "| 2 | 0.8281356 | 0.1718644 | \n",
       "| 3 | 0.8790349 | 0.1209651 | \n",
       "| 4 | 0.1080169 | 0.8919831 | \n",
       "| 6 | 0.8536568 | 0.1463432 | \n",
       "| 8 | 0.1145552 | 0.8854448 | \n",
       "\n",
       "\n"
      ],
      "text/plain": [
       "  FALSE     TRUE     \n",
       "1 0.8442286 0.1557714\n",
       "2 0.8281356 0.1718644\n",
       "3 0.8790349 0.1209651\n",
       "4 0.1080169 0.8919831\n",
       "6 0.8536568 0.1463432\n",
       "8 0.1145552 0.8854448"
      ]
     },
     "metadata": {},
     "output_type": "display_data"
    }
   ],
   "source": [
    "head(attr(predict, \"prob\")[1:10,])"
   ]
  }
 ],
 "metadata": {
  "kernelspec": {
   "display_name": "R",
   "language": "R",
   "name": "ir"
  },
  "language_info": {
   "codemirror_mode": "r",
   "file_extension": ".r",
   "mimetype": "text/x-r-source",
   "name": "R",
   "pygments_lexer": "r",
   "version": "3.4.4"
  }
 },
 "nbformat": 4,
 "nbformat_minor": 2
}
