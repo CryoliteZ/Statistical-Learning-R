{
 "cells": [
  {
   "cell_type": "code",
   "execution_count": 1,
   "metadata": {},
   "outputs": [],
   "source": [
    "rawdat <- \n",
    "read.csv('data/Speed Dating Data.csv', header = T, stringsAsFactors = F)"
   ]
  },
  {
   "cell_type": "code",
   "execution_count": 15,
   "metadata": {
    "scrolled": true
   },
   "outputs": [
    {
     "data": {
      "text/html": [
       "<table>\n",
       "<thead><tr><th scope=col>iid</th><th scope=col>id</th><th scope=col>gender</th><th scope=col>idg</th><th scope=col>condtn</th><th scope=col>wave</th><th scope=col>round</th><th scope=col>position</th><th scope=col>positin1</th><th scope=col>order</th><th scope=col>⋯</th><th scope=col>imprace</th><th scope=col>imprelig</th><th scope=col>from</th><th scope=col>zipcode</th><th scope=col>income</th><th scope=col>goal</th><th scope=col>date</th><th scope=col>go_out</th><th scope=col>career</th><th scope=col>career_c</th></tr></thead>\n",
       "<tbody>\n",
       "\t<tr><td>1        </td><td>1        </td><td>0        </td><td>1        </td><td>1        </td><td>1        </td><td>10       </td><td>7        </td><td>NA       </td><td> 4       </td><td>⋯        </td><td>2        </td><td>4        </td><td>Chicago  </td><td>60,521   </td><td>69,487.00</td><td>2        </td><td>7        </td><td>1        </td><td>lawyer   </td><td>NA       </td></tr>\n",
       "\t<tr><td>1        </td><td>1        </td><td>0        </td><td>1        </td><td>1        </td><td>1        </td><td>10       </td><td>7        </td><td>NA       </td><td> 3       </td><td>⋯        </td><td>2        </td><td>4        </td><td>Chicago  </td><td>60,521   </td><td>69,487.00</td><td>2        </td><td>7        </td><td>1        </td><td>lawyer   </td><td>NA       </td></tr>\n",
       "\t<tr><td>1        </td><td>1        </td><td>0        </td><td>1        </td><td>1        </td><td>1        </td><td>10       </td><td>7        </td><td>NA       </td><td>10       </td><td>⋯        </td><td>2        </td><td>4        </td><td>Chicago  </td><td>60,521   </td><td>69,487.00</td><td>2        </td><td>7        </td><td>1        </td><td>lawyer   </td><td>NA       </td></tr>\n",
       "\t<tr><td>1        </td><td>1        </td><td>0        </td><td>1        </td><td>1        </td><td>1        </td><td>10       </td><td>7        </td><td>NA       </td><td> 5       </td><td>⋯        </td><td>2        </td><td>4        </td><td>Chicago  </td><td>60,521   </td><td>69,487.00</td><td>2        </td><td>7        </td><td>1        </td><td>lawyer   </td><td>NA       </td></tr>\n",
       "\t<tr><td>1        </td><td>1        </td><td>0        </td><td>1        </td><td>1        </td><td>1        </td><td>10       </td><td>7        </td><td>NA       </td><td> 7       </td><td>⋯        </td><td>2        </td><td>4        </td><td>Chicago  </td><td>60,521   </td><td>69,487.00</td><td>2        </td><td>7        </td><td>1        </td><td>lawyer   </td><td>NA       </td></tr>\n",
       "\t<tr><td>1        </td><td>1        </td><td>0        </td><td>1        </td><td>1        </td><td>1        </td><td>10       </td><td>7        </td><td>NA       </td><td> 6       </td><td>⋯        </td><td>2        </td><td>4        </td><td>Chicago  </td><td>60,521   </td><td>69,487.00</td><td>2        </td><td>7        </td><td>1        </td><td>lawyer   </td><td>NA       </td></tr>\n",
       "</tbody>\n",
       "</table>\n"
      ],
      "text/latex": [
       "\\begin{tabular}{r|llllllllllllllllllllllllllllllllllllllllllllllllll}\n",
       " iid & id & gender & idg & condtn & wave & round & position & positin1 & order & ⋯ & imprace & imprelig & from & zipcode & income & goal & date & go\\_out & career & career\\_c\\\\\n",
       "\\hline\n",
       "\t 1         & 1         & 0         & 1         & 1         & 1         & 10        & 7         & NA        &  4        & ⋯         & 2         & 4         & Chicago   & 60,521    & 69,487.00 & 2         & 7         & 1         & lawyer    & NA       \\\\\n",
       "\t 1         & 1         & 0         & 1         & 1         & 1         & 10        & 7         & NA        &  3        & ⋯         & 2         & 4         & Chicago   & 60,521    & 69,487.00 & 2         & 7         & 1         & lawyer    & NA       \\\\\n",
       "\t 1         & 1         & 0         & 1         & 1         & 1         & 10        & 7         & NA        & 10        & ⋯         & 2         & 4         & Chicago   & 60,521    & 69,487.00 & 2         & 7         & 1         & lawyer    & NA       \\\\\n",
       "\t 1         & 1         & 0         & 1         & 1         & 1         & 10        & 7         & NA        &  5        & ⋯         & 2         & 4         & Chicago   & 60,521    & 69,487.00 & 2         & 7         & 1         & lawyer    & NA       \\\\\n",
       "\t 1         & 1         & 0         & 1         & 1         & 1         & 10        & 7         & NA        &  7        & ⋯         & 2         & 4         & Chicago   & 60,521    & 69,487.00 & 2         & 7         & 1         & lawyer    & NA       \\\\\n",
       "\t 1         & 1         & 0         & 1         & 1         & 1         & 10        & 7         & NA        &  6        & ⋯         & 2         & 4         & Chicago   & 60,521    & 69,487.00 & 2         & 7         & 1         & lawyer    & NA       \\\\\n",
       "\\end{tabular}\n"
      ],
      "text/markdown": [
       "\n",
       "iid | id | gender | idg | condtn | wave | round | position | positin1 | order | ⋯ | imprace | imprelig | from | zipcode | income | goal | date | go_out | career | career_c | \n",
       "|---|---|---|---|---|---|\n",
       "| 1         | 1         | 0         | 1         | 1         | 1         | 10        | 7         | NA        |  4        | ⋯         | 2         | 4         | Chicago   | 60,521    | 69,487.00 | 2         | 7         | 1         | lawyer    | NA        | \n",
       "| 1         | 1         | 0         | 1         | 1         | 1         | 10        | 7         | NA        |  3        | ⋯         | 2         | 4         | Chicago   | 60,521    | 69,487.00 | 2         | 7         | 1         | lawyer    | NA        | \n",
       "| 1         | 1         | 0         | 1         | 1         | 1         | 10        | 7         | NA        | 10        | ⋯         | 2         | 4         | Chicago   | 60,521    | 69,487.00 | 2         | 7         | 1         | lawyer    | NA        | \n",
       "| 1         | 1         | 0         | 1         | 1         | 1         | 10        | 7         | NA        |  5        | ⋯         | 2         | 4         | Chicago   | 60,521    | 69,487.00 | 2         | 7         | 1         | lawyer    | NA        | \n",
       "| 1         | 1         | 0         | 1         | 1         | 1         | 10        | 7         | NA        |  7        | ⋯         | 2         | 4         | Chicago   | 60,521    | 69,487.00 | 2         | 7         | 1         | lawyer    | NA        | \n",
       "| 1         | 1         | 0         | 1         | 1         | 1         | 10        | 7         | NA        |  6        | ⋯         | 2         | 4         | Chicago   | 60,521    | 69,487.00 | 2         | 7         | 1         | lawyer    | NA        | \n",
       "\n",
       "\n"
      ],
      "text/plain": [
       "  iid id gender idg condtn wave round position positin1 order ⋯ imprace\n",
       "1 1   1  0      1   1      1    10    7        NA        4    ⋯ 2      \n",
       "2 1   1  0      1   1      1    10    7        NA        3    ⋯ 2      \n",
       "3 1   1  0      1   1      1    10    7        NA       10    ⋯ 2      \n",
       "4 1   1  0      1   1      1    10    7        NA        5    ⋯ 2      \n",
       "5 1   1  0      1   1      1    10    7        NA        7    ⋯ 2      \n",
       "6 1   1  0      1   1      1    10    7        NA        6    ⋯ 2      \n",
       "  imprelig from    zipcode income    goal date go_out career career_c\n",
       "1 4        Chicago 60,521  69,487.00 2    7    1      lawyer NA      \n",
       "2 4        Chicago 60,521  69,487.00 2    7    1      lawyer NA      \n",
       "3 4        Chicago 60,521  69,487.00 2    7    1      lawyer NA      \n",
       "4 4        Chicago 60,521  69,487.00 2    7    1      lawyer NA      \n",
       "5 4        Chicago 60,521  69,487.00 2    7    1      lawyer NA      \n",
       "6 4        Chicago 60,521  69,487.00 2    7    1      lawyer NA      "
      ]
     },
     "metadata": {},
     "output_type": "display_data"
    }
   ],
   "source": [
    "head(rawdat[, 1:50])"
   ]
  },
  {
   "cell_type": "code",
   "execution_count": 16,
   "metadata": {
    "scrolled": true
   },
   "outputs": [
    {
     "data": {
      "text/html": [
       "<table>\n",
       "<thead><tr><th scope=col>career_c</th><th scope=col>sports</th><th scope=col>tvsports</th><th scope=col>exercise</th><th scope=col>dining</th><th scope=col>museums</th><th scope=col>art</th><th scope=col>hiking</th><th scope=col>gaming</th><th scope=col>clubbing</th><th scope=col>⋯</th><th scope=col>tv</th><th scope=col>theater</th><th scope=col>movies</th><th scope=col>concerts</th><th scope=col>music</th><th scope=col>shopping</th><th scope=col>yoga</th><th scope=col>exphappy</th><th scope=col>expnum</th><th scope=col>attr1_1</th></tr></thead>\n",
       "<tbody>\n",
       "\t<tr><td>NA</td><td>9 </td><td>2 </td><td>8 </td><td>9 </td><td>1 </td><td>1 </td><td>5 </td><td>1 </td><td>5 </td><td>⋯ </td><td>9 </td><td>1 </td><td>10</td><td>10</td><td>9 </td><td>8 </td><td>1 </td><td>3 </td><td>2 </td><td>15</td></tr>\n",
       "\t<tr><td>NA</td><td>9 </td><td>2 </td><td>8 </td><td>9 </td><td>1 </td><td>1 </td><td>5 </td><td>1 </td><td>5 </td><td>⋯ </td><td>9 </td><td>1 </td><td>10</td><td>10</td><td>9 </td><td>8 </td><td>1 </td><td>3 </td><td>2 </td><td>15</td></tr>\n",
       "\t<tr><td>NA</td><td>9 </td><td>2 </td><td>8 </td><td>9 </td><td>1 </td><td>1 </td><td>5 </td><td>1 </td><td>5 </td><td>⋯ </td><td>9 </td><td>1 </td><td>10</td><td>10</td><td>9 </td><td>8 </td><td>1 </td><td>3 </td><td>2 </td><td>15</td></tr>\n",
       "\t<tr><td>NA</td><td>9 </td><td>2 </td><td>8 </td><td>9 </td><td>1 </td><td>1 </td><td>5 </td><td>1 </td><td>5 </td><td>⋯ </td><td>9 </td><td>1 </td><td>10</td><td>10</td><td>9 </td><td>8 </td><td>1 </td><td>3 </td><td>2 </td><td>15</td></tr>\n",
       "\t<tr><td>NA</td><td>9 </td><td>2 </td><td>8 </td><td>9 </td><td>1 </td><td>1 </td><td>5 </td><td>1 </td><td>5 </td><td>⋯ </td><td>9 </td><td>1 </td><td>10</td><td>10</td><td>9 </td><td>8 </td><td>1 </td><td>3 </td><td>2 </td><td>15</td></tr>\n",
       "\t<tr><td>NA</td><td>9 </td><td>2 </td><td>8 </td><td>9 </td><td>1 </td><td>1 </td><td>5 </td><td>1 </td><td>5 </td><td>⋯ </td><td>9 </td><td>1 </td><td>10</td><td>10</td><td>9 </td><td>8 </td><td>1 </td><td>3 </td><td>2 </td><td>15</td></tr>\n",
       "</tbody>\n",
       "</table>\n"
      ],
      "text/latex": [
       "\\begin{tabular}{r|lllllllllllllllllllll}\n",
       " career\\_c & sports & tvsports & exercise & dining & museums & art & hiking & gaming & clubbing & ⋯ & tv & theater & movies & concerts & music & shopping & yoga & exphappy & expnum & attr1\\_1\\\\\n",
       "\\hline\n",
       "\t NA & 9  & 2  & 8  & 9  & 1  & 1  & 5  & 1  & 5  & ⋯  & 9  & 1  & 10 & 10 & 9  & 8  & 1  & 3  & 2  & 15\\\\\n",
       "\t NA & 9  & 2  & 8  & 9  & 1  & 1  & 5  & 1  & 5  & ⋯  & 9  & 1  & 10 & 10 & 9  & 8  & 1  & 3  & 2  & 15\\\\\n",
       "\t NA & 9  & 2  & 8  & 9  & 1  & 1  & 5  & 1  & 5  & ⋯  & 9  & 1  & 10 & 10 & 9  & 8  & 1  & 3  & 2  & 15\\\\\n",
       "\t NA & 9  & 2  & 8  & 9  & 1  & 1  & 5  & 1  & 5  & ⋯  & 9  & 1  & 10 & 10 & 9  & 8  & 1  & 3  & 2  & 15\\\\\n",
       "\t NA & 9  & 2  & 8  & 9  & 1  & 1  & 5  & 1  & 5  & ⋯  & 9  & 1  & 10 & 10 & 9  & 8  & 1  & 3  & 2  & 15\\\\\n",
       "\t NA & 9  & 2  & 8  & 9  & 1  & 1  & 5  & 1  & 5  & ⋯  & 9  & 1  & 10 & 10 & 9  & 8  & 1  & 3  & 2  & 15\\\\\n",
       "\\end{tabular}\n"
      ],
      "text/markdown": [
       "\n",
       "career_c | sports | tvsports | exercise | dining | museums | art | hiking | gaming | clubbing | ⋯ | tv | theater | movies | concerts | music | shopping | yoga | exphappy | expnum | attr1_1 | \n",
       "|---|---|---|---|---|---|\n",
       "| NA | 9  | 2  | 8  | 9  | 1  | 1  | 5  | 1  | 5  | ⋯  | 9  | 1  | 10 | 10 | 9  | 8  | 1  | 3  | 2  | 15 | \n",
       "| NA | 9  | 2  | 8  | 9  | 1  | 1  | 5  | 1  | 5  | ⋯  | 9  | 1  | 10 | 10 | 9  | 8  | 1  | 3  | 2  | 15 | \n",
       "| NA | 9  | 2  | 8  | 9  | 1  | 1  | 5  | 1  | 5  | ⋯  | 9  | 1  | 10 | 10 | 9  | 8  | 1  | 3  | 2  | 15 | \n",
       "| NA | 9  | 2  | 8  | 9  | 1  | 1  | 5  | 1  | 5  | ⋯  | 9  | 1  | 10 | 10 | 9  | 8  | 1  | 3  | 2  | 15 | \n",
       "| NA | 9  | 2  | 8  | 9  | 1  | 1  | 5  | 1  | 5  | ⋯  | 9  | 1  | 10 | 10 | 9  | 8  | 1  | 3  | 2  | 15 | \n",
       "| NA | 9  | 2  | 8  | 9  | 1  | 1  | 5  | 1  | 5  | ⋯  | 9  | 1  | 10 | 10 | 9  | 8  | 1  | 3  | 2  | 15 | \n",
       "\n",
       "\n"
      ],
      "text/plain": [
       "  career_c sports tvsports exercise dining museums art hiking gaming clubbing ⋯\n",
       "1 NA       9      2        8        9      1       1   5      1      5        ⋯\n",
       "2 NA       9      2        8        9      1       1   5      1      5        ⋯\n",
       "3 NA       9      2        8        9      1       1   5      1      5        ⋯\n",
       "4 NA       9      2        8        9      1       1   5      1      5        ⋯\n",
       "5 NA       9      2        8        9      1       1   5      1      5        ⋯\n",
       "6 NA       9      2        8        9      1       1   5      1      5        ⋯\n",
       "  tv theater movies concerts music shopping yoga exphappy expnum attr1_1\n",
       "1 9  1       10     10       9     8        1    3        2      15     \n",
       "2 9  1       10     10       9     8        1    3        2      15     \n",
       "3 9  1       10     10       9     8        1    3        2      15     \n",
       "4 9  1       10     10       9     8        1    3        2      15     \n",
       "5 9  1       10     10       9     8        1    3        2      15     \n",
       "6 9  1       10     10       9     8        1    3        2      15     "
      ]
     },
     "metadata": {},
     "output_type": "display_data"
    }
   ],
   "source": [
    "head(rawdat[, 50:70])"
   ]
  },
  {
   "cell_type": "code",
   "execution_count": 17,
   "metadata": {},
   "outputs": [
    {
     "data": {
      "text/html": [
       "<table>\n",
       "<thead><tr><th scope=col>attr1_1</th><th scope=col>sinc1_1</th><th scope=col>intel1_1</th><th scope=col>fun1_1</th><th scope=col>amb1_1</th><th scope=col>shar1_1</th><th scope=col>attr4_1</th><th scope=col>sinc4_1</th><th scope=col>intel4_1</th><th scope=col>fun4_1</th><th scope=col>⋯</th><th scope=col>attr3_3</th><th scope=col>sinc3_3</th><th scope=col>intel3_3</th><th scope=col>fun3_3</th><th scope=col>amb3_3</th><th scope=col>attr5_3</th><th scope=col>sinc5_3</th><th scope=col>intel5_3</th><th scope=col>fun5_3</th><th scope=col>amb5_3</th></tr></thead>\n",
       "<tbody>\n",
       "\t<tr><td>15</td><td>20</td><td>20</td><td>15</td><td>15</td><td>15</td><td>NA</td><td>NA</td><td>NA</td><td>NA</td><td>⋯ </td><td>5 </td><td>7 </td><td>7 </td><td>7 </td><td>7 </td><td>NA</td><td>NA</td><td>NA</td><td>NA</td><td>NA</td></tr>\n",
       "\t<tr><td>15</td><td>20</td><td>20</td><td>15</td><td>15</td><td>15</td><td>NA</td><td>NA</td><td>NA</td><td>NA</td><td>⋯ </td><td>5 </td><td>7 </td><td>7 </td><td>7 </td><td>7 </td><td>NA</td><td>NA</td><td>NA</td><td>NA</td><td>NA</td></tr>\n",
       "\t<tr><td>15</td><td>20</td><td>20</td><td>15</td><td>15</td><td>15</td><td>NA</td><td>NA</td><td>NA</td><td>NA</td><td>⋯ </td><td>5 </td><td>7 </td><td>7 </td><td>7 </td><td>7 </td><td>NA</td><td>NA</td><td>NA</td><td>NA</td><td>NA</td></tr>\n",
       "\t<tr><td>15</td><td>20</td><td>20</td><td>15</td><td>15</td><td>15</td><td>NA</td><td>NA</td><td>NA</td><td>NA</td><td>⋯ </td><td>5 </td><td>7 </td><td>7 </td><td>7 </td><td>7 </td><td>NA</td><td>NA</td><td>NA</td><td>NA</td><td>NA</td></tr>\n",
       "\t<tr><td>15</td><td>20</td><td>20</td><td>15</td><td>15</td><td>15</td><td>NA</td><td>NA</td><td>NA</td><td>NA</td><td>⋯ </td><td>5 </td><td>7 </td><td>7 </td><td>7 </td><td>7 </td><td>NA</td><td>NA</td><td>NA</td><td>NA</td><td>NA</td></tr>\n",
       "\t<tr><td>15</td><td>20</td><td>20</td><td>15</td><td>15</td><td>15</td><td>NA</td><td>NA</td><td>NA</td><td>NA</td><td>⋯ </td><td>5 </td><td>7 </td><td>7 </td><td>7 </td><td>7 </td><td>NA</td><td>NA</td><td>NA</td><td>NA</td><td>NA</td></tr>\n",
       "</tbody>\n",
       "</table>\n"
      ],
      "text/latex": [
       "\\begin{tabular}{r|llllllllllllllllllllllllllllllllllllllllllllllllllllllllllllllllllllllllllllllllllllllllllllllllllllllllllllllllllllllllllllll}\n",
       " attr1\\_1 & sinc1\\_1 & intel1\\_1 & fun1\\_1 & amb1\\_1 & shar1\\_1 & attr4\\_1 & sinc4\\_1 & intel4\\_1 & fun4\\_1 & ⋯ & attr3\\_3 & sinc3\\_3 & intel3\\_3 & fun3\\_3 & amb3\\_3 & attr5\\_3 & sinc5\\_3 & intel5\\_3 & fun5\\_3 & amb5\\_3\\\\\n",
       "\\hline\n",
       "\t 15 & 20 & 20 & 15 & 15 & 15 & NA & NA & NA & NA & ⋯  & 5  & 7  & 7  & 7  & 7  & NA & NA & NA & NA & NA\\\\\n",
       "\t 15 & 20 & 20 & 15 & 15 & 15 & NA & NA & NA & NA & ⋯  & 5  & 7  & 7  & 7  & 7  & NA & NA & NA & NA & NA\\\\\n",
       "\t 15 & 20 & 20 & 15 & 15 & 15 & NA & NA & NA & NA & ⋯  & 5  & 7  & 7  & 7  & 7  & NA & NA & NA & NA & NA\\\\\n",
       "\t 15 & 20 & 20 & 15 & 15 & 15 & NA & NA & NA & NA & ⋯  & 5  & 7  & 7  & 7  & 7  & NA & NA & NA & NA & NA\\\\\n",
       "\t 15 & 20 & 20 & 15 & 15 & 15 & NA & NA & NA & NA & ⋯  & 5  & 7  & 7  & 7  & 7  & NA & NA & NA & NA & NA\\\\\n",
       "\t 15 & 20 & 20 & 15 & 15 & 15 & NA & NA & NA & NA & ⋯  & 5  & 7  & 7  & 7  & 7  & NA & NA & NA & NA & NA\\\\\n",
       "\\end{tabular}\n"
      ],
      "text/markdown": [
       "\n",
       "attr1_1 | sinc1_1 | intel1_1 | fun1_1 | amb1_1 | shar1_1 | attr4_1 | sinc4_1 | intel4_1 | fun4_1 | ⋯ | attr3_3 | sinc3_3 | intel3_3 | fun3_3 | amb3_3 | attr5_3 | sinc5_3 | intel5_3 | fun5_3 | amb5_3 | \n",
       "|---|---|---|---|---|---|\n",
       "| 15 | 20 | 20 | 15 | 15 | 15 | NA | NA | NA | NA | ⋯  | 5  | 7  | 7  | 7  | 7  | NA | NA | NA | NA | NA | \n",
       "| 15 | 20 | 20 | 15 | 15 | 15 | NA | NA | NA | NA | ⋯  | 5  | 7  | 7  | 7  | 7  | NA | NA | NA | NA | NA | \n",
       "| 15 | 20 | 20 | 15 | 15 | 15 | NA | NA | NA | NA | ⋯  | 5  | 7  | 7  | 7  | 7  | NA | NA | NA | NA | NA | \n",
       "| 15 | 20 | 20 | 15 | 15 | 15 | NA | NA | NA | NA | ⋯  | 5  | 7  | 7  | 7  | 7  | NA | NA | NA | NA | NA | \n",
       "| 15 | 20 | 20 | 15 | 15 | 15 | NA | NA | NA | NA | ⋯  | 5  | 7  | 7  | 7  | 7  | NA | NA | NA | NA | NA | \n",
       "| 15 | 20 | 20 | 15 | 15 | 15 | NA | NA | NA | NA | ⋯  | 5  | 7  | 7  | 7  | 7  | NA | NA | NA | NA | NA | \n",
       "\n",
       "\n"
      ],
      "text/plain": [
       "  attr1_1 sinc1_1 intel1_1 fun1_1 amb1_1 shar1_1 attr4_1 sinc4_1 intel4_1\n",
       "1 15      20      20       15     15     15      NA      NA      NA      \n",
       "2 15      20      20       15     15     15      NA      NA      NA      \n",
       "3 15      20      20       15     15     15      NA      NA      NA      \n",
       "4 15      20      20       15     15     15      NA      NA      NA      \n",
       "5 15      20      20       15     15     15      NA      NA      NA      \n",
       "6 15      20      20       15     15     15      NA      NA      NA      \n",
       "  fun4_1 ⋯ attr3_3 sinc3_3 intel3_3 fun3_3 amb3_3 attr5_3 sinc5_3 intel5_3\n",
       "1 NA     ⋯ 5       7       7        7      7      NA      NA      NA      \n",
       "2 NA     ⋯ 5       7       7        7      7      NA      NA      NA      \n",
       "3 NA     ⋯ 5       7       7        7      7      NA      NA      NA      \n",
       "4 NA     ⋯ 5       7       7        7      7      NA      NA      NA      \n",
       "5 NA     ⋯ 5       7       7        7      7      NA      NA      NA      \n",
       "6 NA     ⋯ 5       7       7        7      7      NA      NA      NA      \n",
       "  fun5_3 amb5_3\n",
       "1 NA     NA    \n",
       "2 NA     NA    \n",
       "3 NA     NA    \n",
       "4 NA     NA    \n",
       "5 NA     NA    \n",
       "6 NA     NA    "
      ]
     },
     "metadata": {},
     "output_type": "display_data"
    }
   ],
   "source": [
    "head(rawdat[, 70:195])"
   ]
  }
 ],
 "metadata": {
  "kernelspec": {
   "display_name": "R",
   "language": "R",
   "name": "ir"
  },
  "language_info": {
   "codemirror_mode": "r",
   "file_extension": ".r",
   "mimetype": "text/x-r-source",
   "name": "R",
   "pygments_lexer": "r",
   "version": "3.4.4"
  }
 },
 "nbformat": 4,
 "nbformat_minor": 2
}
