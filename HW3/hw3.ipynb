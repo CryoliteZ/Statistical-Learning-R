{
 "cells": [
  {
   "cell_type": "code",
   "execution_count": 2,
   "metadata": {},
   "outputs": [],
   "source": [
    "load(file='data/rtb2_train.rdata')"
   ]
  },
  {
   "cell_type": "code",
   "execution_count": 3,
   "metadata": {},
   "outputs": [],
   "source": [
    "nfeat=20\n",
    "rtb3 = rtb2_train[1:(nfeat+1)]\n",
    "y=as.matrix(rtb3[,1])\n",
    "xmat = model.matrix(paying_price~., data=rtb3)"
   ]
  },
  {
   "cell_type": "code",
   "execution_count": 4,
   "metadata": {},
   "outputs": [
    {
     "data": {
      "text/html": [
       "<ol class=list-inline>\n",
       "\t<li>114825</li>\n",
       "\t<li>21</li>\n",
       "</ol>\n"
      ],
      "text/latex": [
       "\\begin{enumerate*}\n",
       "\\item 114825\n",
       "\\item 21\n",
       "\\end{enumerate*}\n"
      ],
      "text/markdown": [
       "1. 114825\n",
       "2. 21\n",
       "\n",
       "\n"
      ],
      "text/plain": [
       "[1] 114825     21"
      ]
     },
     "metadata": {},
     "output_type": "display_data"
    },
    {
     "data": {
      "text/html": [
       "<ol class=list-inline>\n",
       "\t<li>114825</li>\n",
       "\t<li>2838</li>\n",
       "</ol>\n"
      ],
      "text/latex": [
       "\\begin{enumerate*}\n",
       "\\item 114825\n",
       "\\item 2838\n",
       "\\end{enumerate*}\n"
      ],
      "text/markdown": [
       "1. 114825\n",
       "2. 2838\n",
       "\n",
       "\n"
      ],
      "text/plain": [
       "[1] 114825   2838"
      ]
     },
     "metadata": {},
     "output_type": "display_data"
    },
    {
     "data": {
      "text/html": [
       "<ol class=list-inline>\n",
       "\t<li>114825</li>\n",
       "\t<li>1</li>\n",
       "</ol>\n"
      ],
      "text/latex": [
       "\\begin{enumerate*}\n",
       "\\item 114825\n",
       "\\item 1\n",
       "\\end{enumerate*}\n"
      ],
      "text/markdown": [
       "1. 114825\n",
       "2. 1\n",
       "\n",
       "\n"
      ],
      "text/plain": [
       "[1] 114825      1"
      ]
     },
     "metadata": {},
     "output_type": "display_data"
    }
   ],
   "source": [
    "dim(xmat)\n",
    "dim(rtb2_train)\n",
    "dim(y)"
   ]
  },
  {
   "cell_type": "code",
   "execution_count": 94,
   "metadata": {},
   "outputs": [
    {
     "name": "stdout",
     "output_type": "stream",
     "text": [
      "[1] \"beta\"\n"
     ]
    },
    {
     "data": {
      "text/html": [
       "0.000253633867915285"
      ],
      "text/latex": [
       "0.000253633867915285"
      ],
      "text/markdown": [
       "0.000253633867915285"
      ],
      "text/plain": [
       "[1] 0.0002536339"
      ]
     },
     "metadata": {},
     "output_type": "display_data"
    },
    {
     "name": "stdout",
     "output_type": "stream",
     "text": [
      "[1] \"alpha\"\n"
     ]
    },
    {
     "data": {
      "text/html": [
       "0.0291235088833726"
      ],
      "text/latex": [
       "0.0291235088833726"
      ],
      "text/markdown": [
       "0.0291235088833726"
      ],
      "text/plain": [
       "[1] 0.02912351"
      ]
     },
     "metadata": {},
     "output_type": "display_data"
    },
    {
     "name": "stdout",
     "output_type": "stream",
     "text": [
      "[1] \"alpha new\"\n"
     ]
    },
    {
     "data": {
      "text/html": [
       "0.00100660546029713"
      ],
      "text/latex": [
       "0.00100660546029713"
      ],
      "text/markdown": [
       "0.00100660546029713"
      ],
      "text/plain": [
       "[1] 0.001006605"
      ]
     },
     "metadata": {},
     "output_type": "display_data"
    },
    {
     "name": "stdout",
     "output_type": "stream",
     "text": [
      "[1] \"beta new\"\n"
     ]
    },
    {
     "data": {
      "text/html": [
       "0.000253602391292303"
      ],
      "text/latex": [
       "0.000253602391292303"
      ],
      "text/markdown": [
       "0.000253602391292303"
      ],
      "text/plain": [
       "[1] 0.0002536024"
      ]
     },
     "metadata": {},
     "output_type": "display_data"
    }
   ],
   "source": [
    "N = nrow(y)\n",
    "\n",
    "lambda = 0.001 * N\n",
    "M = dim(xmat)[2]\n",
    "I = diag(M)\n",
    "\n",
    "w = solve(lambda * I + t(xmat) %*% xmat) %*% t(xmat) %*% y\n",
    "e0 = y - xmat %*% w\n",
    "beta = drop(N / (t(e0) %*% e0))\n",
    "print(\"beta\")\n",
    "beta\n",
    "alpha = drop(lambda %*% beta)\n",
    "print(\"alpha\" )\n",
    "alpha\n",
    "\n",
    "\n",
    "A = alpha * I + beta * t(xmat) %*% xmat\n",
    "mN = beta * solve(A) %*% t(xmat) %*% y\n",
    "\n",
    "lambda = eigen(beta * t(xmat) %*% xmat)$values\n",
    "\n",
    "# gamma = M * (lambda/ (alpha + lambda))\n",
    "gamma = 0\n",
    "for(i in 1:M){\n",
    "    gamma = gamma + (lambda[i] / (alpha + lambda[i]))\n",
    "}\n",
    "\n",
    "print(\"alpha new\" )\n",
    "alpha_new = drop(gamma / (t(mN) %*% mN))\n",
    "alpha_new\n",
    "e1 = y - xmat %*% mN\n",
    "beta_new = drop((N - gamma) / (t(e1) %*% e1))\n",
    "print(\"beta new\")\n",
    "beta_new\n",
    "\n",
    "while(abs(alpha - alpha_new) + abs(beta - beta_new) >= 10 ** (-5)){\n",
    "    alpha = alpha_new\n",
    "    beta = beta_new\n",
    "    A = alpha * I + beta * t(xmat) %*% xmat\n",
    "    mN = beta * solve(A) %*% t(xmat) %*% y\n",
    "    lambda = eigen(beta * t(xmat) %*% xmat)$values\n",
    "    gamma = 0\n",
    "    for(i in 1:M){\n",
    "        gamma = gamma + (lambda[i] / (alpha + lambda[i]))\n",
    "    }\n",
    "    alpha_new = drop(gamma / (t(mN) %*% (mN)))\n",
    "    e1 = y - xmat %*% mN\n",
    "    beta_new = drop((N - gamma) / (t(e1) %*% e1))\n",
    "    \n",
    "}"
   ]
  },
  {
   "cell_type": "code",
   "execution_count": 105,
   "metadata": {},
   "outputs": [
    {
     "data": {
      "text/html": [
       "0.000758533437952116"
      ],
      "text/latex": [
       "0.000758533437952116"
      ],
      "text/markdown": [
       "0.000758533437952116"
      ],
      "text/plain": [
       "[1] 0.0007585334"
      ]
     },
     "metadata": {},
     "output_type": "display_data"
    },
    {
     "data": {
      "text/html": [
       "0.000253886494920236"
      ],
      "text/latex": [
       "0.000253886494920236"
      ],
      "text/markdown": [
       "0.000253886494920236"
      ],
      "text/plain": [
       "[1] 0.0002538865"
      ]
     },
     "metadata": {},
     "output_type": "display_data"
    },
    {
     "data": {
      "text/html": [
       "<table>\n",
       "<tbody>\n",
       "\t<tr><th scope=row>(Intercept)</th><td> 98.941001</td></tr>\n",
       "\t<tr><th scope=row>agent_1</th><td> 43.453947</td></tr>\n",
       "\t<tr><th scope=row>agent_2</th><td>114.196607</td></tr>\n",
       "\t<tr><th scope=row>agent_3</th><td>  6.545915</td></tr>\n",
       "\t<tr><th scope=row>agent_4</th><td>-15.585473</td></tr>\n",
       "\t<tr><th scope=row>agent_5</th><td>  1.861077</td></tr>\n",
       "\t<tr><th scope=row>agent_6</th><td>  6.271456</td></tr>\n",
       "\t<tr><th scope=row>agent_7</th><td> 17.880470</td></tr>\n",
       "\t<tr><th scope=row>agent_8</th><td>  5.386568</td></tr>\n",
       "\t<tr><th scope=row>agent_9</th><td>-12.751414</td></tr>\n",
       "\t<tr><th scope=row>agent_10</th><td> -3.897748</td></tr>\n",
       "\t<tr><th scope=row>agent_11</th><td> -7.807772</td></tr>\n",
       "\t<tr><th scope=row>agent_12</th><td> -2.450647</td></tr>\n",
       "\t<tr><th scope=row>agent_13</th><td> -4.958611</td></tr>\n",
       "\t<tr><th scope=row>agent_14</th><td>  5.725306</td></tr>\n",
       "\t<tr><th scope=row>agent_15</th><td>  8.330833</td></tr>\n",
       "\t<tr><th scope=row>agent_16</th><td>  9.684011</td></tr>\n",
       "\t<tr><th scope=row>agent_17</th><td>  1.678518</td></tr>\n",
       "\t<tr><th scope=row>agent_18</th><td> -5.641692</td></tr>\n",
       "\t<tr><th scope=row>agent_19</th><td> -9.100067</td></tr>\n",
       "\t<tr><th scope=row>agent_20</th><td> -7.277845</td></tr>\n",
       "</tbody>\n",
       "</table>\n"
      ],
      "text/latex": [
       "\\begin{tabular}{r|l}\n",
       "\t(Intercept) &  98.941001\\\\\n",
       "\tagent\\_1 &  43.453947\\\\\n",
       "\tagent\\_2 & 114.196607\\\\\n",
       "\tagent\\_3 &   6.545915\\\\\n",
       "\tagent\\_4 & -15.585473\\\\\n",
       "\tagent\\_5 &   1.861077\\\\\n",
       "\tagent\\_6 &   6.271456\\\\\n",
       "\tagent\\_7 &  17.880470\\\\\n",
       "\tagent\\_8 &   5.386568\\\\\n",
       "\tagent\\_9 & -12.751414\\\\\n",
       "\tagent\\_10 &  -3.897748\\\\\n",
       "\tagent\\_11 &  -7.807772\\\\\n",
       "\tagent\\_12 &  -2.450647\\\\\n",
       "\tagent\\_13 &  -4.958611\\\\\n",
       "\tagent\\_14 &   5.725306\\\\\n",
       "\tagent\\_15 &   8.330833\\\\\n",
       "\tagent\\_16 &   9.684011\\\\\n",
       "\tagent\\_17 &   1.678518\\\\\n",
       "\tagent\\_18 &  -5.641692\\\\\n",
       "\tagent\\_19 &  -9.100067\\\\\n",
       "\tagent\\_20 &  -7.277845\\\\\n",
       "\\end{tabular}\n"
      ],
      "text/markdown": [
       "\n",
       "| (Intercept) |  98.941001 | \n",
       "| agent_1 |  43.453947 | \n",
       "| agent_2 | 114.196607 | \n",
       "| agent_3 |   6.545915 | \n",
       "| agent_4 | -15.585473 | \n",
       "| agent_5 |   1.861077 | \n",
       "| agent_6 |   6.271456 | \n",
       "| agent_7 |  17.880470 | \n",
       "| agent_8 |   5.386568 | \n",
       "| agent_9 | -12.751414 | \n",
       "| agent_10 |  -3.897748 | \n",
       "| agent_11 |  -7.807772 | \n",
       "| agent_12 |  -2.450647 | \n",
       "| agent_13 |  -4.958611 | \n",
       "| agent_14 |   5.725306 | \n",
       "| agent_15 |   8.330833 | \n",
       "| agent_16 |   9.684011 | \n",
       "| agent_17 |   1.678518 | \n",
       "| agent_18 |  -5.641692 | \n",
       "| agent_19 |  -9.100067 | \n",
       "| agent_20 |  -7.277845 | \n",
       "\n",
       "\n"
      ],
      "text/plain": [
       "            [,1]      \n",
       "(Intercept)  98.941001\n",
       "agent_1      43.453947\n",
       "agent_2     114.196607\n",
       "agent_3       6.545915\n",
       "agent_4     -15.585473\n",
       "agent_5       1.861077\n",
       "agent_6       6.271456\n",
       "agent_7      17.880470\n",
       "agent_8       5.386568\n",
       "agent_9     -12.751414\n",
       "agent_10     -3.897748\n",
       "agent_11     -7.807772\n",
       "agent_12     -2.450647\n",
       "agent_13     -4.958611\n",
       "agent_14      5.725306\n",
       "agent_15      8.330833\n",
       "agent_16      9.684011\n",
       "agent_17      1.678518\n",
       "agent_18     -5.641692\n",
       "agent_19     -9.100067\n",
       "agent_20     -7.277845"
      ]
     },
     "metadata": {},
     "output_type": "display_data"
    },
    {
     "name": "stderr",
     "output_type": "stream",
     "text": [
      "Warning message in sqrt(solve(A)):\n",
      "“NaNs produced”"
     ]
    },
    {
     "data": {
      "text/html": [
       "<dl class=dl-horizontal>\n",
       "\t<dt>(Intercept)</dt>\n",
       "\t\t<dd>3.00525094394307</dd>\n",
       "\t<dt>agent_1</dt>\n",
       "\t\t<dd>5.64451894318348</dd>\n",
       "\t<dt>agent_2</dt>\n",
       "\t\t<dd>4.36519168628945</dd>\n",
       "\t<dt>agent_3</dt>\n",
       "\t\t<dd>5.36722459090806</dd>\n",
       "\t<dt>agent_4</dt>\n",
       "\t\t<dd>3.74519768293721</dd>\n",
       "\t<dt>agent_5</dt>\n",
       "\t\t<dd>3.20220981187121</dd>\n",
       "\t<dt>agent_6</dt>\n",
       "\t\t<dd>7.74066644723665</dd>\n",
       "\t<dt>agent_7</dt>\n",
       "\t\t<dd>7.55038498133505</dd>\n",
       "\t<dt>agent_8</dt>\n",
       "\t\t<dd>6.3772277336217</dd>\n",
       "\t<dt>agent_9</dt>\n",
       "\t\t<dd>3.93006603432461</dd>\n",
       "\t<dt>agent_10</dt>\n",
       "\t\t<dd>0.621570237315402</dd>\n",
       "\t<dt>agent_11</dt>\n",
       "\t\t<dd>1.04675247682926</dd>\n",
       "\t<dt>agent_12</dt>\n",
       "\t\t<dd>2.95947397759507</dd>\n",
       "\t<dt>agent_13</dt>\n",
       "\t\t<dd>24.2552267339626</dd>\n",
       "\t<dt>agent_14</dt>\n",
       "\t\t<dd>24.7024971959885</dd>\n",
       "\t<dt>agent_15</dt>\n",
       "\t\t<dd>11.4676216646326</dd>\n",
       "\t<dt>agent_16</dt>\n",
       "\t\t<dd>5.377234590395</dd>\n",
       "\t<dt>agent_17</dt>\n",
       "\t\t<dd>3.87499291275045</dd>\n",
       "\t<dt>agent_18</dt>\n",
       "\t\t<dd>3.64932285372309</dd>\n",
       "\t<dt>agent_19</dt>\n",
       "\t\t<dd>2.45882533435684</dd>\n",
       "\t<dt>agent_20</dt>\n",
       "\t\t<dd>3.01455660915158</dd>\n",
       "</dl>\n"
      ],
      "text/latex": [
       "\\begin{description*}\n",
       "\\item[(Intercept)] 3.00525094394307\n",
       "\\item[agent\\textbackslash{}\\_1] 5.64451894318348\n",
       "\\item[agent\\textbackslash{}\\_2] 4.36519168628945\n",
       "\\item[agent\\textbackslash{}\\_3] 5.36722459090806\n",
       "\\item[agent\\textbackslash{}\\_4] 3.74519768293721\n",
       "\\item[agent\\textbackslash{}\\_5] 3.20220981187121\n",
       "\\item[agent\\textbackslash{}\\_6] 7.74066644723665\n",
       "\\item[agent\\textbackslash{}\\_7] 7.55038498133505\n",
       "\\item[agent\\textbackslash{}\\_8] 6.3772277336217\n",
       "\\item[agent\\textbackslash{}\\_9] 3.93006603432461\n",
       "\\item[agent\\textbackslash{}\\_10] 0.621570237315402\n",
       "\\item[agent\\textbackslash{}\\_11] 1.04675247682926\n",
       "\\item[agent\\textbackslash{}\\_12] 2.95947397759507\n",
       "\\item[agent\\textbackslash{}\\_13] 24.2552267339626\n",
       "\\item[agent\\textbackslash{}\\_14] 24.7024971959885\n",
       "\\item[agent\\textbackslash{}\\_15] 11.4676216646326\n",
       "\\item[agent\\textbackslash{}\\_16] 5.377234590395\n",
       "\\item[agent\\textbackslash{}\\_17] 3.87499291275045\n",
       "\\item[agent\\textbackslash{}\\_18] 3.64932285372309\n",
       "\\item[agent\\textbackslash{}\\_19] 2.45882533435684\n",
       "\\item[agent\\textbackslash{}\\_20] 3.01455660915158\n",
       "\\end{description*}\n"
      ],
      "text/markdown": [
       "(Intercept)\n",
       ":   3.00525094394307agent_1\n",
       ":   5.64451894318348agent_2\n",
       ":   4.36519168628945agent_3\n",
       ":   5.36722459090806agent_4\n",
       ":   3.74519768293721agent_5\n",
       ":   3.20220981187121agent_6\n",
       ":   7.74066644723665agent_7\n",
       ":   7.55038498133505agent_8\n",
       ":   6.3772277336217agent_9\n",
       ":   3.93006603432461agent_10\n",
       ":   0.621570237315402agent_11\n",
       ":   1.04675247682926agent_12\n",
       ":   2.95947397759507agent_13\n",
       ":   24.2552267339626agent_14\n",
       ":   24.7024971959885agent_15\n",
       ":   11.4676216646326agent_16\n",
       ":   5.377234590395agent_17\n",
       ":   3.87499291275045agent_18\n",
       ":   3.64932285372309agent_19\n",
       ":   2.45882533435684agent_20\n",
       ":   3.01455660915158\n",
       "\n"
      ],
      "text/plain": [
       "(Intercept)     agent_1     agent_2     agent_3     agent_4     agent_5 \n",
       "  3.0052509   5.6445189   4.3651917   5.3672246   3.7451977   3.2022098 \n",
       "    agent_6     agent_7     agent_8     agent_9    agent_10    agent_11 \n",
       "  7.7406664   7.5503850   6.3772277   3.9300660   0.6215702   1.0467525 \n",
       "   agent_12    agent_13    agent_14    agent_15    agent_16    agent_17 \n",
       "  2.9594740  24.2552267  24.7024972  11.4676217   5.3772346   3.8749929 \n",
       "   agent_18    agent_19    agent_20 \n",
       "  3.6493229   2.4588253   3.0145566 "
      ]
     },
     "metadata": {},
     "output_type": "display_data"
    }
   ],
   "source": [
    "\n",
    "alpha\n",
    "beta\n",
    "mN\n",
    "diag(sqrt(solve(A)))"
   ]
  },
  {
   "cell_type": "code",
   "execution_count": 109,
   "metadata": {
    "scrolled": true
   },
   "outputs": [
    {
     "name": "stderr",
     "output_type": "stream",
     "text": [
      "Warning message in sqrt(solve(A)):\n",
      "“NaNs produced”"
     ]
    },
    {
     "data": {
      "text/html": [
       "<dl>\n",
       "\t<dt>$mN</dt>\n",
       "\t\t<dd><table>\n",
       "<tbody>\n",
       "\t<tr><th scope=row>(Intercept)</th><td> 98.941001</td></tr>\n",
       "\t<tr><th scope=row>agent_1</th><td> 43.453947</td></tr>\n",
       "\t<tr><th scope=row>agent_2</th><td>114.196607</td></tr>\n",
       "\t<tr><th scope=row>agent_3</th><td>  6.545915</td></tr>\n",
       "\t<tr><th scope=row>agent_4</th><td>-15.585473</td></tr>\n",
       "\t<tr><th scope=row>agent_5</th><td>  1.861077</td></tr>\n",
       "\t<tr><th scope=row>agent_6</th><td>  6.271456</td></tr>\n",
       "\t<tr><th scope=row>agent_7</th><td> 17.880470</td></tr>\n",
       "\t<tr><th scope=row>agent_8</th><td>  5.386568</td></tr>\n",
       "\t<tr><th scope=row>agent_9</th><td>-12.751414</td></tr>\n",
       "\t<tr><th scope=row>agent_10</th><td> -3.897748</td></tr>\n",
       "\t<tr><th scope=row>agent_11</th><td> -7.807772</td></tr>\n",
       "\t<tr><th scope=row>agent_12</th><td> -2.450647</td></tr>\n",
       "\t<tr><th scope=row>agent_13</th><td> -4.958611</td></tr>\n",
       "\t<tr><th scope=row>agent_14</th><td>  5.725306</td></tr>\n",
       "\t<tr><th scope=row>agent_15</th><td>  8.330833</td></tr>\n",
       "\t<tr><th scope=row>agent_16</th><td>  9.684011</td></tr>\n",
       "\t<tr><th scope=row>agent_17</th><td>  1.678518</td></tr>\n",
       "\t<tr><th scope=row>agent_18</th><td> -5.641692</td></tr>\n",
       "\t<tr><th scope=row>agent_19</th><td> -9.100067</td></tr>\n",
       "\t<tr><th scope=row>agent_20</th><td> -7.277845</td></tr>\n",
       "</tbody>\n",
       "</table>\n",
       "</dd>\n",
       "\t<dt>$mNsd</dt>\n",
       "\t\t<dd><dl class=dl-horizontal>\n",
       "\t<dt>(Intercept)</dt>\n",
       "\t\t<dd>3.00525094394307</dd>\n",
       "\t<dt>agent_1</dt>\n",
       "\t\t<dd>5.64451894318348</dd>\n",
       "\t<dt>agent_2</dt>\n",
       "\t\t<dd>4.36519168628945</dd>\n",
       "\t<dt>agent_3</dt>\n",
       "\t\t<dd>5.36722459090806</dd>\n",
       "\t<dt>agent_4</dt>\n",
       "\t\t<dd>3.74519768293721</dd>\n",
       "\t<dt>agent_5</dt>\n",
       "\t\t<dd>3.20220981187121</dd>\n",
       "\t<dt>agent_6</dt>\n",
       "\t\t<dd>7.74066644723665</dd>\n",
       "\t<dt>agent_7</dt>\n",
       "\t\t<dd>7.55038498133505</dd>\n",
       "\t<dt>agent_8</dt>\n",
       "\t\t<dd>6.3772277336217</dd>\n",
       "\t<dt>agent_9</dt>\n",
       "\t\t<dd>3.93006603432461</dd>\n",
       "\t<dt>agent_10</dt>\n",
       "\t\t<dd>0.621570237315402</dd>\n",
       "\t<dt>agent_11</dt>\n",
       "\t\t<dd>1.04675247682926</dd>\n",
       "\t<dt>agent_12</dt>\n",
       "\t\t<dd>2.95947397759507</dd>\n",
       "\t<dt>agent_13</dt>\n",
       "\t\t<dd>24.2552267339626</dd>\n",
       "\t<dt>agent_14</dt>\n",
       "\t\t<dd>24.7024971959885</dd>\n",
       "\t<dt>agent_15</dt>\n",
       "\t\t<dd>11.4676216646326</dd>\n",
       "\t<dt>agent_16</dt>\n",
       "\t\t<dd>5.377234590395</dd>\n",
       "\t<dt>agent_17</dt>\n",
       "\t\t<dd>3.87499291275045</dd>\n",
       "\t<dt>agent_18</dt>\n",
       "\t\t<dd>3.64932285372309</dd>\n",
       "\t<dt>agent_19</dt>\n",
       "\t\t<dd>2.45882533435684</dd>\n",
       "\t<dt>agent_20</dt>\n",
       "\t\t<dd>3.01455660915158</dd>\n",
       "</dl>\n",
       "</dd>\n",
       "\t<dt>$alpha</dt>\n",
       "\t\t<dd>0.000758533437952116</dd>\n",
       "\t<dt>$beta</dt>\n",
       "\t\t<dd>0.000253886494920236</dd>\n",
       "</dl>\n"
      ],
      "text/latex": [
       "\\begin{description}\n",
       "\\item[\\$mN] \\begin{tabular}{r|l}\n",
       "\t(Intercept) &  98.941001\\\\\n",
       "\tagent\\_1 &  43.453947\\\\\n",
       "\tagent\\_2 & 114.196607\\\\\n",
       "\tagent\\_3 &   6.545915\\\\\n",
       "\tagent\\_4 & -15.585473\\\\\n",
       "\tagent\\_5 &   1.861077\\\\\n",
       "\tagent\\_6 &   6.271456\\\\\n",
       "\tagent\\_7 &  17.880470\\\\\n",
       "\tagent\\_8 &   5.386568\\\\\n",
       "\tagent\\_9 & -12.751414\\\\\n",
       "\tagent\\_10 &  -3.897748\\\\\n",
       "\tagent\\_11 &  -7.807772\\\\\n",
       "\tagent\\_12 &  -2.450647\\\\\n",
       "\tagent\\_13 &  -4.958611\\\\\n",
       "\tagent\\_14 &   5.725306\\\\\n",
       "\tagent\\_15 &   8.330833\\\\\n",
       "\tagent\\_16 &   9.684011\\\\\n",
       "\tagent\\_17 &   1.678518\\\\\n",
       "\tagent\\_18 &  -5.641692\\\\\n",
       "\tagent\\_19 &  -9.100067\\\\\n",
       "\tagent\\_20 &  -7.277845\\\\\n",
       "\\end{tabular}\n",
       "\n",
       "\\item[\\$mNsd] \\begin{description*}\n",
       "\\item[(Intercept)] 3.00525094394307\n",
       "\\item[agent\\textbackslash{}\\_1] 5.64451894318348\n",
       "\\item[agent\\textbackslash{}\\_2] 4.36519168628945\n",
       "\\item[agent\\textbackslash{}\\_3] 5.36722459090806\n",
       "\\item[agent\\textbackslash{}\\_4] 3.74519768293721\n",
       "\\item[agent\\textbackslash{}\\_5] 3.20220981187121\n",
       "\\item[agent\\textbackslash{}\\_6] 7.74066644723665\n",
       "\\item[agent\\textbackslash{}\\_7] 7.55038498133505\n",
       "\\item[agent\\textbackslash{}\\_8] 6.3772277336217\n",
       "\\item[agent\\textbackslash{}\\_9] 3.93006603432461\n",
       "\\item[agent\\textbackslash{}\\_10] 0.621570237315402\n",
       "\\item[agent\\textbackslash{}\\_11] 1.04675247682926\n",
       "\\item[agent\\textbackslash{}\\_12] 2.95947397759507\n",
       "\\item[agent\\textbackslash{}\\_13] 24.2552267339626\n",
       "\\item[agent\\textbackslash{}\\_14] 24.7024971959885\n",
       "\\item[agent\\textbackslash{}\\_15] 11.4676216646326\n",
       "\\item[agent\\textbackslash{}\\_16] 5.377234590395\n",
       "\\item[agent\\textbackslash{}\\_17] 3.87499291275045\n",
       "\\item[agent\\textbackslash{}\\_18] 3.64932285372309\n",
       "\\item[agent\\textbackslash{}\\_19] 2.45882533435684\n",
       "\\item[agent\\textbackslash{}\\_20] 3.01455660915158\n",
       "\\end{description*}\n",
       "\n",
       "\\item[\\$alpha] 0.000758533437952116\n",
       "\\item[\\$beta] 0.000253886494920236\n",
       "\\end{description}\n"
      ],
      "text/markdown": [
       "$mN\n",
       ":   \n",
       "| (Intercept) |  98.941001 | \n",
       "| agent_1 |  43.453947 | \n",
       "| agent_2 | 114.196607 | \n",
       "| agent_3 |   6.545915 | \n",
       "| agent_4 | -15.585473 | \n",
       "| agent_5 |   1.861077 | \n",
       "| agent_6 |   6.271456 | \n",
       "| agent_7 |  17.880470 | \n",
       "| agent_8 |   5.386568 | \n",
       "| agent_9 | -12.751414 | \n",
       "| agent_10 |  -3.897748 | \n",
       "| agent_11 |  -7.807772 | \n",
       "| agent_12 |  -2.450647 | \n",
       "| agent_13 |  -4.958611 | \n",
       "| agent_14 |   5.725306 | \n",
       "| agent_15 |   8.330833 | \n",
       "| agent_16 |   9.684011 | \n",
       "| agent_17 |   1.678518 | \n",
       "| agent_18 |  -5.641692 | \n",
       "| agent_19 |  -9.100067 | \n",
       "| agent_20 |  -7.277845 | \n",
       "\n",
       "\n",
       "\n",
       "$mNsd\n",
       ":   (Intercept)\n",
       ":   3.00525094394307agent_1\n",
       ":   5.64451894318348agent_2\n",
       ":   4.36519168628945agent_3\n",
       ":   5.36722459090806agent_4\n",
       ":   3.74519768293721agent_5\n",
       ":   3.20220981187121agent_6\n",
       ":   7.74066644723665agent_7\n",
       ":   7.55038498133505agent_8\n",
       ":   6.3772277336217agent_9\n",
       ":   3.93006603432461agent_10\n",
       ":   0.621570237315402agent_11\n",
       ":   1.04675247682926agent_12\n",
       ":   2.95947397759507agent_13\n",
       ":   24.2552267339626agent_14\n",
       ":   24.7024971959885agent_15\n",
       ":   11.4676216646326agent_16\n",
       ":   5.377234590395agent_17\n",
       ":   3.87499291275045agent_18\n",
       ":   3.64932285372309agent_19\n",
       ":   2.45882533435684agent_20\n",
       ":   3.01455660915158\n",
       "\n",
       "\n",
       "$alpha\n",
       ":   0.000758533437952116\n",
       "$beta\n",
       ":   0.000253886494920236\n",
       "\n",
       "\n"
      ],
      "text/plain": [
       "$mN\n",
       "                  [,1]\n",
       "(Intercept)  98.941001\n",
       "agent_1      43.453947\n",
       "agent_2     114.196607\n",
       "agent_3       6.545915\n",
       "agent_4     -15.585473\n",
       "agent_5       1.861077\n",
       "agent_6       6.271456\n",
       "agent_7      17.880470\n",
       "agent_8       5.386568\n",
       "agent_9     -12.751414\n",
       "agent_10     -3.897748\n",
       "agent_11     -7.807772\n",
       "agent_12     -2.450647\n",
       "agent_13     -4.958611\n",
       "agent_14      5.725306\n",
       "agent_15      8.330833\n",
       "agent_16      9.684011\n",
       "agent_17      1.678518\n",
       "agent_18     -5.641692\n",
       "agent_19     -9.100067\n",
       "agent_20     -7.277845\n",
       "\n",
       "$mNsd\n",
       "(Intercept)     agent_1     agent_2     agent_3     agent_4     agent_5 \n",
       "  3.0052509   5.6445189   4.3651917   5.3672246   3.7451977   3.2022098 \n",
       "    agent_6     agent_7     agent_8     agent_9    agent_10    agent_11 \n",
       "  7.7406664   7.5503850   6.3772277   3.9300660   0.6215702   1.0467525 \n",
       "   agent_12    agent_13    agent_14    agent_15    agent_16    agent_17 \n",
       "  2.9594740  24.2552267  24.7024972  11.4676217   5.3772346   3.8749929 \n",
       "   agent_18    agent_19    agent_20 \n",
       "  3.6493229   2.4588253   3.0145566 \n",
       "\n",
       "$alpha\n",
       "[1] 0.0007585334\n",
       "\n",
       "$beta\n",
       "[1] 0.0002538865\n"
      ]
     },
     "metadata": {},
     "output_type": "display_data"
    }
   ],
   "source": [
    "lm_evmax <- function(y, xmat){\n",
    "    N = nrow(y)\n",
    "\n",
    "    lambda = 0.001 * N\n",
    "    M = dim(xmat)[2]\n",
    "    I = diag(M)\n",
    "\n",
    "    w = solve(lambda * I + t(xmat) %*% xmat) %*% t(xmat) %*% y\n",
    "    e0 = y - xmat %*% w\n",
    "    beta = drop(N / (t(e0) %*% e0))\n",
    "    alpha = drop(lambda %*% beta)\n",
    "    A = alpha * I + beta * t(xmat) %*% xmat\n",
    "    mN = beta * solve(A) %*% t(xmat) %*% y\n",
    "    lambda = eigen(beta * t(xmat) %*% xmat)$values\n",
    "    \n",
    "    # compute new alpha, beta, gamma\n",
    "    gamma = 0\n",
    "    for(i in 1:M){\n",
    "        gamma = gamma + (lambda[i] / (alpha + lambda[i]))\n",
    "    }\n",
    "    alpha_new = drop(gamma / (t(mN) %*% mN))\n",
    "    e1 = y - xmat %*% mN\n",
    "    beta_new = drop((N - gamma) / (t(e1) %*% e1))\n",
    "\n",
    "    # iterate\n",
    "    while(abs(alpha - alpha_new) + abs(beta - beta_new) >= 10 ** (-5)){\n",
    "        alpha = alpha_new\n",
    "        beta = beta_new\n",
    "        A = alpha * I + beta * t(xmat) %*% xmat\n",
    "        mN = beta * solve(A) %*% t(xmat) %*% y\n",
    "        lambda = eigen(beta * t(xmat) %*% xmat)$values\n",
    "        gamma = 0\n",
    "        for(i in 1:M){\n",
    "            gamma = gamma + (lambda[i] / (alpha + lambda[i]))\n",
    "        }\n",
    "        alpha_new = drop(gamma / (t(mN) %*% (mN)))\n",
    "        e1 = y - xmat %*% mN\n",
    "        beta_new = drop((N - gamma) / (t(e1) %*% e1))\n",
    "\n",
    "    }\n",
    "    result = list(mN = mN, mNsd = diag(sqrt(solve(A))), alpha = alpha, beta = beta)\n",
    "    return(result)\n",
    "}\n",
    "\n",
    "nfeat=20\n",
    "rtb3 = rtb2_train[1:(nfeat+1)]\n",
    "y=as.matrix(rtb3[,1])\n",
    "xmat = model.matrix(paying_price~., data=rtb3)\n",
    "lm_evmax(y,xmat )"
   ]
  },
  {
   "cell_type": "code",
   "execution_count": 2,
   "metadata": {},
   "outputs": [],
   "source": [
    "load(file=\"data/msong_slhw.rdata\")\n",
    "#defin the summary statistic function\n",
    "sumds = function(ds) {\n",
    "  nvariable = ncol(ds)\n",
    "  varnames = colnames(ds)\n",
    "  for(i in 1:nvariable) {\n",
    "    tmp1 = ds[,i]\n",
    "    #remove NA\n",
    "    tmp1 = tmp1[!is.na(tmp1)]\n",
    "    n = length(tmp1)\n",
    "    mean = mean(tmp1)\n",
    "    median = median(tmp1)\n",
    "    sd = sd(tmp1)\n",
    "    q13 = quantile(tmp1, c(0.25, 0.75))\n",
    "    min1 = min(tmp1)\n",
    "    max1 = max(tmp1)\n",
    "    arow = c(n, mean, median, sd, q13, min1, max1)\n",
    "    if(i==1) {\n",
    "      out1 = arow\n",
    "    } else {\n",
    "      out1 = rbind(out1, arow)\n",
    "    }\n",
    "  }\n",
    "  rownames(out1) = varnames\n",
    "  colnames(out1) = c(\"n\", \"mean\", \"median\", \"sd\", \"Q1\", \"Q3\", \"Min\", \"Max\")\n",
    "  return(out1)\n",
    "}\n"
   ]
  },
  {
   "cell_type": "code",
   "execution_count": 85,
   "metadata": {},
   "outputs": [],
   "source": [
    "preprocess_data <- function(msong_train, n){\n",
    "    x_train = msong_train[1:n,2:ncol(msong_train)]\n",
    "    y_train = msong_train$year[1:n]\n",
    "\n",
    "\n",
    "    x_test = msong_test[,2:ncol(msong_test)]\n",
    "    y_test = msong_test$year\n",
    "\n",
    "    org_year_mean =  mean(y_train)\n",
    "    # shift to mean\n",
    "    y_train = y_train - mean(y_train)\n",
    "\n",
    "    # x_train <- scale(x_train) fast way to standarize\n",
    "    # standarize x_train\n",
    "    x_train_mean = t(apply(x_train, 2, function(x) mean(x, na.rm=TRUE)))                  \n",
    "    x_train_sd = apply(x_train, 2, function(x) sd(x, na.rm=TRUE))\n",
    "    x_train = sweep(x_train, 2, x_train_mean)\n",
    "    x_train = sweep(x_train, MARGIN=2, x_train_sd,`/`)\n",
    "\n",
    "\n",
    "    #  standarize x_test\n",
    "    x_test = sweep(x_test, 2, x_train_mean)\n",
    "    x_test = sweep(x_test, MARGIN=2, x_train_sd,`/`)                   \n",
    "    y_test = y_test - org_year_mean\n",
    "    return(list(x_train = x_train, y_train = y_train, x_test = x_test,y_test = y_test ))\n",
    "    \n",
    "}"
   ]
  },
  {
   "cell_type": "code",
   "execution_count": 89,
   "metadata": {
    "scrolled": true
   },
   "outputs": [],
   "source": [
    "load(file=\"data/msong_slhw.rdata\")\n",
    "data = preprocess_data(msong_train, 5000)\n",
    "x_train = data$x_train\n",
    "y_train = data$y_train\n",
    "x_test = data$x_test\n",
    "y_test = data$y_test\n",
    "                   \n",
    "\n"
   ]
  },
  {
   "cell_type": "code",
   "execution_count": 166,
   "metadata": {},
   "outputs": [
    {
     "data": {
      "text/html": [
       "5000"
      ],
      "text/latex": [
       "5000"
      ],
      "text/markdown": [
       "5000"
      ],
      "text/plain": [
       "[1] 5000"
      ]
     },
     "metadata": {},
     "output_type": "display_data"
    }
   ],
   "source": [
    "length(y_train)"
   ]
  },
  {
   "cell_type": "code",
   "execution_count": 115,
   "metadata": {
    "scrolled": true
   },
   "outputs": [
    {
     "data": {
      "text/html": [
       "<table>\n",
       "<thead><tr><th scope=col>M</th><th scope=col>Training</th><th scope=col>Testing</th></tr></thead>\n",
       "<tbody>\n",
       "\t<tr><td>-5       </td><td> 9.358299</td><td> 9.600763</td></tr>\n",
       "\t<tr><td>-4       </td><td> 9.358326</td><td> 9.600712</td></tr>\n",
       "\t<tr><td>-3       </td><td> 9.358604</td><td> 9.600206</td></tr>\n",
       "\t<tr><td>-2       </td><td> 9.362082</td><td> 9.596062</td></tr>\n",
       "\t<tr><td>-1       </td><td> 9.434145</td><td> 9.608231</td></tr>\n",
       "\t<tr><td> 0       </td><td> 9.980849</td><td> 9.965681</td></tr>\n",
       "\t<tr><td> 1       </td><td>10.708267</td><td>10.559764</td></tr>\n",
       "\t<tr><td> 2       </td><td>      Inf</td><td>      Inf</td></tr>\n",
       "</tbody>\n",
       "</table>\n"
      ],
      "text/latex": [
       "\\begin{tabular}{r|lll}\n",
       " M & Training & Testing\\\\\n",
       "\\hline\n",
       "\t -5        &  9.358299 &  9.600763\\\\\n",
       "\t -4        &  9.358326 &  9.600712\\\\\n",
       "\t -3        &  9.358604 &  9.600206\\\\\n",
       "\t -2        &  9.362082 &  9.596062\\\\\n",
       "\t -1        &  9.434145 &  9.608231\\\\\n",
       "\t  0        &  9.980849 &  9.965681\\\\\n",
       "\t  1        & 10.708267 & 10.559764\\\\\n",
       "\t  2        &       Inf &       Inf\\\\\n",
       "\\end{tabular}\n"
      ],
      "text/markdown": [
       "\n",
       "M | Training | Testing | \n",
       "|---|---|---|---|---|---|---|---|\n",
       "| -5        |  9.358299 |  9.600763 | \n",
       "| -4        |  9.358326 |  9.600712 | \n",
       "| -3        |  9.358604 |  9.600206 | \n",
       "| -2        |  9.362082 |  9.596062 | \n",
       "| -1        |  9.434145 |  9.608231 | \n",
       "|  0        |  9.980849 |  9.965681 | \n",
       "|  1        | 10.708267 | 10.559764 | \n",
       "|  2        |       Inf |       Inf | \n",
       "\n",
       "\n"
      ],
      "text/plain": [
       "  M  Training  Testing  \n",
       "1 -5  9.358299  9.600763\n",
       "2 -4  9.358326  9.600712\n",
       "3 -3  9.358604  9.600206\n",
       "4 -2  9.362082  9.596062\n",
       "5 -1  9.434145  9.608231\n",
       "6  0  9.980849  9.965681\n",
       "7  1 10.708267 10.559764\n",
       "8  2       Inf       Inf"
      ]
     },
     "metadata": {},
     "output_type": "display_data"
    }
   ],
   "source": [
    "\n",
    "RMSE <- function(x_data, y_data, w){\n",
    "    RMSE = 0\n",
    "    SE = 0\n",
    "    x_data = as.matrix(x_data)\n",
    "    y_data = as.matrix(y_data)\n",
    "    for(t in 1:nrow(y_data)){\n",
    "       SE =  SE + (y_data[t] - (w %*%  x_data[t,])) **2\n",
    "    }\n",
    "    RMSE = sqrt(SE / nrow(x_data))\n",
    "    return(RMSE)\n",
    "}\n",
    "\n",
    "\n",
    "# training function\n",
    "train <- function(x_train, y_train, lambda = 1, lr = 0.00001, epochs = 300){\n",
    "    nfeat = ncol(x_train)\n",
    "    w = rep(0, nfeat)\n",
    "    lambda = 10 ** lambda\n",
    "    x_train = as.matrix(x_train)\n",
    "    # gradient descend\n",
    "    for(it in 1:epochs){\n",
    "        w_grad = rep(0, nfeat)\n",
    "        for(n in 1:nrow(x_train)){\n",
    "           w_grad =  w_grad - drop( y_train[n]-  w %*% (x_train[n,])) * x_train[n,] + lambda * w\n",
    "        }\n",
    "        w = w - lr * w_grad\n",
    "    }\n",
    "\n",
    "    result = list(train_RMSE = RMSE(x_train, y_train, w), test_RMSE = RMSE(x_test, y_test, w) )\n",
    "    return(result)\n",
    "    \n",
    "}\n",
    "\n",
    "\n",
    "data = preprocess_data(msong_train, 5000)\n",
    "x_train = data$x_train\n",
    "y_train = data$y_train\n",
    "x_test = data$x_test\n",
    "y_test = data$y_test\n",
    "\n",
    "df <- data.frame(M=integer(),\n",
    "                 Training=double(), \n",
    "                 Testing=double())\n",
    "                 \n",
    "\n",
    "lambdas  = c(-5, -4, -3, -2, -1, 0, 1, 2)\n",
    "for (i in 1:length(lambdas)){\n",
    "    result =  train(x_train, y_train,lambda = lambdas[i] )\n",
    "    df <-rbind(df, data.frame(M = lambdas[i], Training= result$train_RMSE, Testing=result$test_RMSE))\n",
    "}\n",
    "df\n",
    "\n",
    "\n"
   ]
  },
  {
   "cell_type": "code",
   "execution_count": 81,
   "metadata": {},
   "outputs": [
    {
     "data": {
      "image/png": "[encoded data removed]",
      "text/plain": [
       "plot without title"
      ]
     },
     "metadata": {},
     "output_type": "display_data"
    }
   ],
   "source": [
    "plot (x = df$M, y = df$Training, type='o', col='blue', xlab=\"M\", ylab=\"RMSE\")\n",
    "lines(x = df$M,y = df$Test,type='o' ,col=\"red\")\n",
    "legend(\"topleft\", \n",
    "  legend = c(\"Training\", \"Test\"), \n",
    "  col = c(\"blue\",\"red\"), \n",
    "  pch = c(1,1), \n",
    "  bty = \"n\", \n",
    "  pt.cex = 2, \n",
    "  cex = 1.2, \n",
    "  text.col = \"black\", \n",
    "  horiz = F , \n",
    "  inset = c(0.1, 0.1))"
   ]
  },
  {
   "cell_type": "code",
   "execution_count": 92,
   "metadata": {
    "scrolled": true
   },
   "outputs": [
    {
     "name": "stdout",
     "output_type": "stream",
     "text": [
      "[1] 1e-05\n",
      "[1] 1e-04\n",
      "[1] 0.001\n",
      "[1] 0.01\n",
      "[1] 0.1\n",
      "[1] 1\n",
      "[1] 10\n",
      "[1] 100\n"
     ]
    },
    {
     "data": {
      "text/html": [
       "<table>\n",
       "<thead><tr><th scope=col>M</th><th scope=col>Training</th><th scope=col>Testing</th></tr></thead>\n",
       "<tbody>\n",
       "\t<tr><td>-5       </td><td> 9.222957</td><td>10.35766 </td></tr>\n",
       "\t<tr><td>-4       </td><td> 9.223005</td><td>10.35760 </td></tr>\n",
       "\t<tr><td>-3       </td><td> 9.223488</td><td>10.35702 </td></tr>\n",
       "\t<tr><td>-2       </td><td> 9.228331</td><td>10.35134 </td></tr>\n",
       "\t<tr><td>-1       </td><td> 9.277509</td><td>10.30025 </td></tr>\n",
       "\t<tr><td> 0       </td><td> 9.746067</td><td>10.12186 </td></tr>\n",
       "\t<tr><td> 1       </td><td>10.956531</td><td>10.51524 </td></tr>\n",
       "\t<tr><td> 2       </td><td>11.407882</td><td>10.80863 </td></tr>\n",
       "</tbody>\n",
       "</table>\n"
      ],
      "text/latex": [
       "\\begin{tabular}{r|lll}\n",
       " M & Training & Testing\\\\\n",
       "\\hline\n",
       "\t -5        &  9.222957 & 10.35766 \\\\\n",
       "\t -4        &  9.223005 & 10.35760 \\\\\n",
       "\t -3        &  9.223488 & 10.35702 \\\\\n",
       "\t -2        &  9.228331 & 10.35134 \\\\\n",
       "\t -1        &  9.277509 & 10.30025 \\\\\n",
       "\t  0        &  9.746067 & 10.12186 \\\\\n",
       "\t  1        & 10.956531 & 10.51524 \\\\\n",
       "\t  2        & 11.407882 & 10.80863 \\\\\n",
       "\\end{tabular}\n"
      ],
      "text/markdown": [
       "\n",
       "M | Training | Testing | \n",
       "|---|---|---|---|---|---|---|---|\n",
       "| -5        |  9.222957 | 10.35766  | \n",
       "| -4        |  9.223005 | 10.35760  | \n",
       "| -3        |  9.223488 | 10.35702  | \n",
       "| -2        |  9.228331 | 10.35134  | \n",
       "| -1        |  9.277509 | 10.30025  | \n",
       "|  0        |  9.746067 | 10.12186  | \n",
       "|  1        | 10.956531 | 10.51524  | \n",
       "|  2        | 11.407882 | 10.80863  | \n",
       "\n",
       "\n"
      ],
      "text/plain": [
       "  M  Training  Testing \n",
       "1 -5  9.222957 10.35766\n",
       "2 -4  9.223005 10.35760\n",
       "3 -3  9.223488 10.35702\n",
       "4 -2  9.228331 10.35134\n",
       "5 -1  9.277509 10.30025\n",
       "6  0  9.746067 10.12186\n",
       "7  1 10.956531 10.51524\n",
       "8  2 11.407882 10.80863"
      ]
     },
     "metadata": {},
     "output_type": "display_data"
    },
    {
     "data": {
      "image/png": "[encoded data removed]",
      "text/plain": [
       "plot without title"
      ]
     },
     "metadata": {},
     "output_type": "display_data"
    }
   ],
   "source": [
    "# 3\n",
    "\n",
    "data = preprocess_data(msong_train, 500)\n",
    "x_train = data$x_train\n",
    "y_train = data$y_train\n",
    "x_test = data$x_test\n",
    "y_test = data$y_test\n",
    "                   \n",
    "df <- data.frame(M=integer(),\n",
    "                 Training=double(), \n",
    "                 Testing=double())\n",
    "                 \n",
    "\n",
    "lambdas  = c(-5, -4, -3, -2, -1, 0, 1, 2)\n",
    "for (i in 1:length(lambdas)){\n",
    "    result =  train(x_train, y_train,lambda = lambdas[i] )\n",
    "    df <-rbind(df, data.frame(M = lambdas[i], Training= result$train_RMSE, Testing=result$test_RMSE))\n",
    "}\n",
    "df\n",
    "plot (x = df$M, y = df$Training, type='o', col='blue', xlab=\"M\", ylab=\"RMSE\")\n",
    "lines(x = df$M,y = df$Test,type='o' ,col=\"red\")\n",
    "legend(\"topleft\", \n",
    "  legend = c(\"Training\", \"Test\"), \n",
    "  col = c(\"blue\",\"red\"), \n",
    "  pch = c(1,1), \n",
    "  bty = \"n\", \n",
    "  pt.cex = 2, \n",
    "  cex = 1.2, \n",
    "  text.col = \"black\", \n",
    "  horiz = F , \n",
    "  inset = c(0.1, 0.1))\n",
    "                   "
   ]
  },
  {
   "cell_type": "code",
   "execution_count": 94,
   "metadata": {},
   "outputs": [
    {
     "name": "stdout",
     "output_type": "stream",
     "text": [
      "[1] 1e-05\n",
      "[1] 1e-04\n",
      "[1] 0.001\n",
      "[1] 0.01\n",
      "[1] 0.1\n",
      "[1] 1\n",
      "[1] 10\n",
      "[1] 100\n"
     ]
    },
    {
     "data": {
      "text/html": [
       "<table>\n",
       "<thead><tr><th scope=col>M</th><th scope=col>Training</th><th scope=col>Testing</th></tr></thead>\n",
       "<tbody>\n",
       "\t<tr><td>-5       </td><td> 9.186699</td><td> 9.996829</td></tr>\n",
       "\t<tr><td>-4       </td><td> 9.186762</td><td> 9.996773</td></tr>\n",
       "\t<tr><td>-3       </td><td> 9.187394</td><td> 9.996209</td></tr>\n",
       "\t<tr><td>-2       </td><td> 9.193750</td><td> 9.990715</td></tr>\n",
       "\t<tr><td>-1       </td><td> 9.260179</td><td> 9.948582</td></tr>\n",
       "\t<tr><td> 0       </td><td> 9.836077</td><td> 9.990623</td></tr>\n",
       "\t<tr><td> 1       </td><td>10.822315</td><td>10.554785</td></tr>\n",
       "\t<tr><td> 2       </td><td>11.143176</td><td>10.814389</td></tr>\n",
       "</tbody>\n",
       "</table>\n"
      ],
      "text/latex": [
       "\\begin{tabular}{r|lll}\n",
       " M & Training & Testing\\\\\n",
       "\\hline\n",
       "\t -5        &  9.186699 &  9.996829\\\\\n",
       "\t -4        &  9.186762 &  9.996773\\\\\n",
       "\t -3        &  9.187394 &  9.996209\\\\\n",
       "\t -2        &  9.193750 &  9.990715\\\\\n",
       "\t -1        &  9.260179 &  9.948582\\\\\n",
       "\t  0        &  9.836077 &  9.990623\\\\\n",
       "\t  1        & 10.822315 & 10.554785\\\\\n",
       "\t  2        & 11.143176 & 10.814389\\\\\n",
       "\\end{tabular}\n"
      ],
      "text/markdown": [
       "\n",
       "M | Training | Testing | \n",
       "|---|---|---|---|---|---|---|---|\n",
       "| -5        |  9.186699 |  9.996829 | \n",
       "| -4        |  9.186762 |  9.996773 | \n",
       "| -3        |  9.187394 |  9.996209 | \n",
       "| -2        |  9.193750 |  9.990715 | \n",
       "| -1        |  9.260179 |  9.948582 | \n",
       "|  0        |  9.836077 |  9.990623 | \n",
       "|  1        | 10.822315 | 10.554785 | \n",
       "|  2        | 11.143176 | 10.814389 | \n",
       "\n",
       "\n"
      ],
      "text/plain": [
       "  M  Training  Testing  \n",
       "1 -5  9.186699  9.996829\n",
       "2 -4  9.186762  9.996773\n",
       "3 -3  9.187394  9.996209\n",
       "4 -2  9.193750  9.990715\n",
       "5 -1  9.260179  9.948582\n",
       "6  0  9.836077  9.990623\n",
       "7  1 10.822315 10.554785\n",
       "8  2 11.143176 10.814389"
      ]
     },
     "metadata": {},
     "output_type": "display_data"
    },
    {
     "data": {
      "text/html": [
       "10.1611131969041"
      ],
      "text/latex": [
       "10.1611131969041"
      ],
      "text/markdown": [
       "10.1611131969041"
      ],
      "text/plain": [
       "[1] 10.16111"
      ]
     },
     "metadata": {},
     "output_type": "display_data"
    },
    {
     "data": {
      "image/png": "[encoded data removed]",
      "text/plain": [
       "plot without title"
      ]
     },
     "metadata": {},
     "output_type": "display_data"
    }
   ],
   "source": [
    "\n",
    "data = preprocess_data(msong_train, 1000)\n",
    "x_train = data$x_train\n",
    "y_train = data$y_train\n",
    "x_test = data$x_test\n",
    "y_test = data$y_test\n",
    "                   \n",
    "df <- data.frame(M=integer(),\n",
    "                 Training=double(), \n",
    "                 Testing=double())\n",
    "                 \n",
    "\n",
    "lambdas  = c(-5, -4, -3, -2, -1, 0, 1, 2)\n",
    "for (i in 1:length(lambdas)){\n",
    "    result =  train(x_train, y_train,lambda = lambdas[i] )\n",
    "    df <-rbind(df, data.frame(M = lambdas[i], Training= result$train_RMSE, Testing=result$test_RMSE))\n",
    "}\n",
    "df\n",
    "mean(df$Test)\n",
    "plot (x = df$M, y = df$Training, type='o', col='blue', xlab=\"M\", ylab=\"RMSE\")\n",
    "lines(x = df$M,y = df$Test,type='o' ,col=\"red\")\n",
    "legend(\"topleft\", \n",
    "  legend = c(\"Training\", \"Test\"), \n",
    "  col = c(\"blue\",\"red\"), \n",
    "  pch = c(1,1), \n",
    "  bty = \"n\", \n",
    "  pt.cex = 2, \n",
    "  cex = 1.2, \n",
    "  text.col = \"black\", \n",
    "  horiz = F , \n",
    "  inset = c(0.1, 0.1))"
   ]
  },
  {
   "cell_type": "code",
   "execution_count": 113,
   "metadata": {},
   "outputs": [
    {
     "data": {
      "text/html": [
       "<table>\n",
       "<thead><tr><th scope=col>M</th><th scope=col>Training</th><th scope=col>Testing</th></tr></thead>\n",
       "<tbody>\n",
       "\t<tr><td>-5          </td><td>1.072318e+01</td><td>1.051386e+01</td></tr>\n",
       "\t<tr><td>-4          </td><td>1.072318e+01</td><td>1.051386e+01</td></tr>\n",
       "\t<tr><td>-3          </td><td>1.072318e+01</td><td>1.051386e+01</td></tr>\n",
       "\t<tr><td>-2          </td><td>1.072318e+01</td><td>1.051386e+01</td></tr>\n",
       "\t<tr><td>-1          </td><td>1.072318e+01</td><td>1.051386e+01</td></tr>\n",
       "\t<tr><td> 0          </td><td>1.072318e+01</td><td>1.051386e+01</td></tr>\n",
       "\t<tr><td> 1          </td><td>1.072319e+01</td><td>1.051386e+01</td></tr>\n",
       "\t<tr><td> 2          </td><td>1.072328e+01</td><td>1.051389e+01</td></tr>\n",
       "\t<tr><td> 3          </td><td>1.072425e+01</td><td>1.051423e+01</td></tr>\n",
       "\t<tr><td> 4          </td><td>1.073383e+01</td><td>1.051776e+01</td></tr>\n",
       "\t<tr><td> 5          </td><td>1.081916e+01</td><td>1.056040e+01</td></tr>\n",
       "\t<tr><td> 6          </td><td>1.106869e+01</td><td>1.074162e+01</td></tr>\n",
       "\t<tr><td> 7          </td><td>2.825668e+21</td><td>3.063843e+21</td></tr>\n",
       "</tbody>\n",
       "</table>\n"
      ],
      "text/latex": [
       "\\begin{tabular}{r|lll}\n",
       " M & Training & Testing\\\\\n",
       "\\hline\n",
       "\t -5           & 1.072318e+01 & 1.051386e+01\\\\\n",
       "\t -4           & 1.072318e+01 & 1.051386e+01\\\\\n",
       "\t -3           & 1.072318e+01 & 1.051386e+01\\\\\n",
       "\t -2           & 1.072318e+01 & 1.051386e+01\\\\\n",
       "\t -1           & 1.072318e+01 & 1.051386e+01\\\\\n",
       "\t  0           & 1.072318e+01 & 1.051386e+01\\\\\n",
       "\t  1           & 1.072319e+01 & 1.051386e+01\\\\\n",
       "\t  2           & 1.072328e+01 & 1.051389e+01\\\\\n",
       "\t  3           & 1.072425e+01 & 1.051423e+01\\\\\n",
       "\t  4           & 1.073383e+01 & 1.051776e+01\\\\\n",
       "\t  5           & 1.081916e+01 & 1.056040e+01\\\\\n",
       "\t  6           & 1.106869e+01 & 1.074162e+01\\\\\n",
       "\t  7           & 2.825668e+21 & 3.063843e+21\\\\\n",
       "\\end{tabular}\n"
      ],
      "text/markdown": [
       "\n",
       "M | Training | Testing | \n",
       "|---|---|---|---|---|---|---|---|---|---|---|---|---|\n",
       "| -5           | 1.072318e+01 | 1.051386e+01 | \n",
       "| -4           | 1.072318e+01 | 1.051386e+01 | \n",
       "| -3           | 1.072318e+01 | 1.051386e+01 | \n",
       "| -2           | 1.072318e+01 | 1.051386e+01 | \n",
       "| -1           | 1.072318e+01 | 1.051386e+01 | \n",
       "|  0           | 1.072318e+01 | 1.051386e+01 | \n",
       "|  1           | 1.072319e+01 | 1.051386e+01 | \n",
       "|  2           | 1.072328e+01 | 1.051389e+01 | \n",
       "|  3           | 1.072425e+01 | 1.051423e+01 | \n",
       "|  4           | 1.073383e+01 | 1.051776e+01 | \n",
       "|  5           | 1.081916e+01 | 1.056040e+01 | \n",
       "|  6           | 1.106869e+01 | 1.074162e+01 | \n",
       "|  7           | 2.825668e+21 | 3.063843e+21 | \n",
       "\n",
       "\n"
      ],
      "text/plain": [
       "   M  Training     Testing     \n",
       "1  -5 1.072318e+01 1.051386e+01\n",
       "2  -4 1.072318e+01 1.051386e+01\n",
       "3  -3 1.072318e+01 1.051386e+01\n",
       "4  -2 1.072318e+01 1.051386e+01\n",
       "5  -1 1.072318e+01 1.051386e+01\n",
       "6   0 1.072318e+01 1.051386e+01\n",
       "7   1 1.072319e+01 1.051386e+01\n",
       "8   2 1.072328e+01 1.051389e+01\n",
       "9   3 1.072425e+01 1.051423e+01\n",
       "10  4 1.073383e+01 1.051776e+01\n",
       "11  5 1.081916e+01 1.056040e+01\n",
       "12  6 1.106869e+01 1.074162e+01\n",
       "13  7 2.825668e+21 3.063843e+21"
      ]
     },
     "metadata": {},
     "output_type": "display_data"
    }
   ],
   "source": [
    "x_train = msong_train[1:1000,2:ncol(msong_train)]\n",
    "y_train = msong_train$year[1:1000]\n",
    "x_test = msong_test[,2:ncol(msong_test)]\n",
    "y_test = msong_test$year\n",
    "\n",
    "org_year_mean =  mean(y_train)\n",
    "y_train = y_train - org_year_mean                \n",
    "y_test = y_test - org_year_mean\n",
    "\n",
    "\n",
    "\n",
    "\n",
    "\n",
    "df <- data.frame(M=integer(),\n",
    "                 Training=double(), \n",
    "                 Testing=double())\n",
    "                 \n",
    "\n",
    "lambdas  = c(-5:7)\n",
    "for (i in 1:length(lambdas)){\n",
    "    result =  train(x_train, y_train,lambda = lambdas[i], lr= 10 ** -10, epochs = 100 )\n",
    "    df <-rbind(df, data.frame(M = lambdas[i], Training= result$train_RMSE, Testing=result$test_RMSE))\n",
    "}\n",
    "df\n",
    "plot (x = df$M, y = df$Training, type='o', col='blue', xlab=\"M\", ylab=\"RMSE\")\n",
    "lines(x = df$M,y = df$Test,type='o' ,col=\"red\")\n",
    "legend(\"topleft\", legend = c(\"Training\", \"Test\"),   col = c(\"blue\",\"red\"),   pch = c(1,1),   bty = \"n\", pt.cex = 2,   cex = 1.2,   text.col = \"black\",   horiz = F ,   inset = c(0.1, 0.1))\n",
    "\n",
    "\n"
   ]
  },
  {
   "cell_type": "code",
   "execution_count": 119,
   "metadata": {},
   "outputs": [
    {
     "data": {
      "text/html": [
       "<table>\n",
       "<thead><tr><th scope=col>M</th><th scope=col>Training</th><th scope=col>Testing</th></tr></thead>\n",
       "<tbody>\n",
       "\t<tr><td>-5      </td><td>666.6516</td><td>706.6614</td></tr>\n",
       "\t<tr><td>-4      </td><td>666.6516</td><td>706.6614</td></tr>\n",
       "\t<tr><td>-3      </td><td>666.6516</td><td>706.6614</td></tr>\n",
       "\t<tr><td>-2      </td><td>666.6516</td><td>706.6615</td></tr>\n",
       "\t<tr><td>-1      </td><td>666.6516</td><td>706.6615</td></tr>\n",
       "\t<tr><td> 0      </td><td>666.6519</td><td>706.6618</td></tr>\n",
       "\t<tr><td> 1      </td><td>666.6551</td><td>706.6651</td></tr>\n",
       "\t<tr><td> 2      </td><td>666.6869</td><td>706.6981</td></tr>\n",
       "\t<tr><td> 3      </td><td>667.0048</td><td>707.0282</td></tr>\n",
       "\t<tr><td> 4      </td><td>670.2106</td><td>710.3751</td></tr>\n",
       "\t<tr><td> 5      </td><td>701.7336</td><td>744.1500</td></tr>\n",
       "\t<tr><td> 6      </td><td>819.5337</td><td>862.5671</td></tr>\n",
       "</tbody>\n",
       "</table>\n"
      ],
      "text/latex": [
       "\\begin{tabular}{r|lll}\n",
       " M & Training & Testing\\\\\n",
       "\\hline\n",
       "\t -5       & 666.6516 & 706.6614\\\\\n",
       "\t -4       & 666.6516 & 706.6614\\\\\n",
       "\t -3       & 666.6516 & 706.6614\\\\\n",
       "\t -2       & 666.6516 & 706.6615\\\\\n",
       "\t -1       & 666.6516 & 706.6615\\\\\n",
       "\t  0       & 666.6519 & 706.6618\\\\\n",
       "\t  1       & 666.6551 & 706.6651\\\\\n",
       "\t  2       & 666.6869 & 706.6981\\\\\n",
       "\t  3       & 667.0048 & 707.0282\\\\\n",
       "\t  4       & 670.2106 & 710.3751\\\\\n",
       "\t  5       & 701.7336 & 744.1500\\\\\n",
       "\t  6       & 819.5337 & 862.5671\\\\\n",
       "\\end{tabular}\n"
      ],
      "text/markdown": [
       "\n",
       "M | Training | Testing | \n",
       "|---|---|---|---|---|---|---|---|---|---|---|---|\n",
       "| -5       | 666.6516 | 706.6614 | \n",
       "| -4       | 666.6516 | 706.6614 | \n",
       "| -3       | 666.6516 | 706.6614 | \n",
       "| -2       | 666.6516 | 706.6615 | \n",
       "| -1       | 666.6516 | 706.6615 | \n",
       "|  0       | 666.6519 | 706.6618 | \n",
       "|  1       | 666.6551 | 706.6651 | \n",
       "|  2       | 666.6869 | 706.6981 | \n",
       "|  3       | 667.0048 | 707.0282 | \n",
       "|  4       | 670.2106 | 710.3751 | \n",
       "|  5       | 701.7336 | 744.1500 | \n",
       "|  6       | 819.5337 | 862.5671 | \n",
       "\n",
       "\n"
      ],
      "text/plain": [
       "   M  Training Testing \n",
       "1  -5 666.6516 706.6614\n",
       "2  -4 666.6516 706.6614\n",
       "3  -3 666.6516 706.6614\n",
       "4  -2 666.6516 706.6615\n",
       "5  -1 666.6516 706.6615\n",
       "6   0 666.6519 706.6618\n",
       "7   1 666.6551 706.6651\n",
       "8   2 666.6869 706.6981\n",
       "9   3 667.0048 707.0282\n",
       "10  4 670.2106 710.3751\n",
       "11  5 701.7336 744.1500\n",
       "12  6 819.5337 862.5671"
      ]
     },
     "metadata": {},
     "output_type": "display_data"
    },
    {
     "data": {
      "image/png": "[encoded data removed]",
      "text/plain": [
       "plot without title"
      ]
     },
     "metadata": {},
     "output_type": "display_data"
    }
   ],
   "source": [
    "x_train = msong_train[1:1000,2:ncol(msong_train)]\n",
    "y_train = msong_train$year[1:1000]\n",
    "x_test = msong_test[,2:ncol(msong_test)]\n",
    "y_test = msong_test$year\n",
    "\n",
    "df <- data.frame(M=integer(),\n",
    "                 Training=double(), \n",
    "                 Testing=double())\n",
    "                 \n",
    "lambdas  = c(-5:6)\n",
    "for (i in 1:length(lambdas)){\n",
    "    result =  train(x_train, y_train,lambda = lambdas[i], lr= 10 ** -10, epochs = 100 )\n",
    "    df <-rbind(df, data.frame(M = lambdas[i], Training= result$train_RMSE, Testing=result$test_RMSE))\n",
    "}\n",
    "df\n",
    "plot (x = df$M, y = df$Training, type='o', col='blue', xlab=\"M\", ylab=\"RMSE\")\n",
    "lines(x = df$M,y = df$Test,type='o' ,col=\"red\")\n",
    "legend(\"topleft\", legend = c(\"Training\", \"Test\"),   col = c(\"blue\",\"red\"),   pch = c(1,1),   bty = \"n\", pt.cex = 2,   cex = 1.2,   text.col = \"black\",   horiz = F ,   inset = c(0.1, 0.1))\n"
   ]
  }
 ],
 "metadata": {
  "kernelspec": {
   "display_name": "R",
   "language": "R",
   "name": "ir"
  },
  "language_info": {
   "codemirror_mode": "r",
   "file_extension": ".r",
   "mimetype": "text/x-r-source",
   "name": "R",
   "pygments_lexer": "r",
   "version": "3.4.4"
  }
 },
 "nbformat": 4,
 "nbformat_minor": 2
}
