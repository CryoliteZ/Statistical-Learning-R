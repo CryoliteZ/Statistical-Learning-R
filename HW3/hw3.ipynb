{
 "cells": [
  {
   "cell_type": "code",
   "execution_count": 2,
   "metadata": {},
   "outputs": [],
   "source": [
    "load(file='data/rtb2_train.rdata')"
   ]
  },
  {
   "cell_type": "code",
   "execution_count": 3,
   "metadata": {},
   "outputs": [],
   "source": [
    "nfeat=20\n",
    "rtb3 = rtb2_train[1:(nfeat+1)]\n",
    "y=as.matrix(rtb3[,1])\n",
    "xmat = model.matrix(paying_price~., data=rtb3)"
   ]
  },
  {
   "cell_type": "code",
   "execution_count": 4,
   "metadata": {},
   "outputs": [
    {
     "data": {
      "text/html": [
       "<ol class=list-inline>\n",
       "\t<li>114825</li>\n",
       "\t<li>21</li>\n",
       "</ol>\n"
      ],
      "text/latex": [
       "\\begin{enumerate*}\n",
       "\\item 114825\n",
       "\\item 21\n",
       "\\end{enumerate*}\n"
      ],
      "text/markdown": [
       "1. 114825\n",
       "2. 21\n",
       "\n",
       "\n"
      ],
      "text/plain": [
       "[1] 114825     21"
      ]
     },
     "metadata": {},
     "output_type": "display_data"
    },
    {
     "data": {
      "text/html": [
       "<ol class=list-inline>\n",
       "\t<li>114825</li>\n",
       "\t<li>2838</li>\n",
       "</ol>\n"
      ],
      "text/latex": [
       "\\begin{enumerate*}\n",
       "\\item 114825\n",
       "\\item 2838\n",
       "\\end{enumerate*}\n"
      ],
      "text/markdown": [
       "1. 114825\n",
       "2. 2838\n",
       "\n",
       "\n"
      ],
      "text/plain": [
       "[1] 114825   2838"
      ]
     },
     "metadata": {},
     "output_type": "display_data"
    },
    {
     "data": {
      "text/html": [
       "<ol class=list-inline>\n",
       "\t<li>114825</li>\n",
       "\t<li>1</li>\n",
       "</ol>\n"
      ],
      "text/latex": [
       "\\begin{enumerate*}\n",
       "\\item 114825\n",
       "\\item 1\n",
       "\\end{enumerate*}\n"
      ],
      "text/markdown": [
       "1. 114825\n",
       "2. 1\n",
       "\n",
       "\n"
      ],
      "text/plain": [
       "[1] 114825      1"
      ]
     },
     "metadata": {},
     "output_type": "display_data"
    }
   ],
   "source": [
    "dim(xmat)\n",
    "dim(rtb2_train)\n",
    "dim(y)"
   ]
  },
  {
   "cell_type": "code",
   "execution_count": 94,
   "metadata": {},
   "outputs": [
    {
     "name": "stdout",
     "output_type": "stream",
     "text": [
      "[1] \"beta\"\n"
     ]
    },
    {
     "data": {
      "text/html": [
       "0.000253633867915285"
      ],
      "text/latex": [
       "0.000253633867915285"
      ],
      "text/markdown": [
       "0.000253633867915285"
      ],
      "text/plain": [
       "[1] 0.0002536339"
      ]
     },
     "metadata": {},
     "output_type": "display_data"
    },
    {
     "name": "stdout",
     "output_type": "stream",
     "text": [
      "[1] \"alpha\"\n"
     ]
    },
    {
     "data": {
      "text/html": [
       "0.0291235088833726"
      ],
      "text/latex": [
       "0.0291235088833726"
      ],
      "text/markdown": [
       "0.0291235088833726"
      ],
      "text/plain": [
       "[1] 0.02912351"
      ]
     },
     "metadata": {},
     "output_type": "display_data"
    },
    {
     "name": "stdout",
     "output_type": "stream",
     "text": [
      "[1] \"alpha new\"\n"
     ]
    },
    {
     "data": {
      "text/html": [
       "0.00100660546029713"
      ],
      "text/latex": [
       "0.00100660546029713"
      ],
      "text/markdown": [
       "0.00100660546029713"
      ],
      "text/plain": [
       "[1] 0.001006605"
      ]
     },
     "metadata": {},
     "output_type": "display_data"
    },
    {
     "name": "stdout",
     "output_type": "stream",
     "text": [
      "[1] \"beta new\"\n"
     ]
    },
    {
     "data": {
      "text/html": [
       "0.000253602391292303"
      ],
      "text/latex": [
       "0.000253602391292303"
      ],
      "text/markdown": [
       "0.000253602391292303"
      ],
      "text/plain": [
       "[1] 0.0002536024"
      ]
     },
     "metadata": {},
     "output_type": "display_data"
    }
   ],
   "source": [
    "N = nrow(y)\n",
    "\n",
    "lambda = 0.001 * N\n",
    "M = dim(xmat)[2]\n",
    "I = diag(M)\n",
    "\n",
    "w = solve(lambda * I + t(xmat) %*% xmat) %*% t(xmat) %*% y\n",
    "e0 = y - xmat %*% w\n",
    "beta = drop(N / (t(e0) %*% e0))\n",
    "print(\"beta\")\n",
    "beta\n",
    "alpha = drop(lambda %*% beta)\n",
    "print(\"alpha\" )\n",
    "alpha\n",
    "\n",
    "\n",
    "A = alpha * I + beta * t(xmat) %*% xmat\n",
    "mN = beta * solve(A) %*% t(xmat) %*% y\n",
    "\n",
    "lambda = eigen(beta * t(xmat) %*% xmat)$values\n",
    "\n",
    "# gamma = M * (lambda/ (alpha + lambda))\n",
    "gamma = 0\n",
    "for(i in 1:M){\n",
    "    gamma = gamma + (lambda[i] / (alpha + lambda[i]))\n",
    "}\n",
    "\n",
    "print(\"alpha new\" )\n",
    "alpha_new = drop(gamma / (t(mN) %*% mN))\n",
    "alpha_new\n",
    "e1 = y - xmat %*% mN\n",
    "beta_new = drop((N - gamma) / (t(e1) %*% e1))\n",
    "print(\"beta new\")\n",
    "beta_new\n",
    "\n",
    "while(abs(alpha - alpha_new) + abs(beta - beta_new) >= 10 ** (-5)){\n",
    "    alpha = alpha_new\n",
    "    beta = beta_new\n",
    "    A = alpha * I + beta * t(xmat) %*% xmat\n",
    "    mN = beta * solve(A) %*% t(xmat) %*% y\n",
    "    lambda = eigen(beta * t(xmat) %*% xmat)$values\n",
    "    gamma = 0\n",
    "    for(i in 1:M){\n",
    "        gamma = gamma + (lambda[i] / (alpha + lambda[i]))\n",
    "    }\n",
    "    alpha_new = drop(gamma / (t(mN) %*% (mN)))\n",
    "    e1 = y - xmat %*% mN\n",
    "    beta_new = drop((N - gamma) / (t(e1) %*% e1))\n",
    "    \n",
    "}"
   ]
  },
  {
   "cell_type": "code",
   "execution_count": 105,
   "metadata": {},
   "outputs": [
    {
     "data": {
      "text/html": [
       "0.000758533437952116"
      ],
      "text/latex": [
       "0.000758533437952116"
      ],
      "text/markdown": [
       "0.000758533437952116"
      ],
      "text/plain": [
       "[1] 0.0007585334"
      ]
     },
     "metadata": {},
     "output_type": "display_data"
    },
    {
     "data": {
      "text/html": [
       "0.000253886494920236"
      ],
      "text/latex": [
       "0.000253886494920236"
      ],
      "text/markdown": [
       "0.000253886494920236"
      ],
      "text/plain": [
       "[1] 0.0002538865"
      ]
     },
     "metadata": {},
     "output_type": "display_data"
    },
    {
     "data": {
      "text/html": [
       "<table>\n",
       "<tbody>\n",
       "\t<tr><th scope=row>(Intercept)</th><td> 98.941001</td></tr>\n",
       "\t<tr><th scope=row>agent_1</th><td> 43.453947</td></tr>\n",
       "\t<tr><th scope=row>agent_2</th><td>114.196607</td></tr>\n",
       "\t<tr><th scope=row>agent_3</th><td>  6.545915</td></tr>\n",
       "\t<tr><th scope=row>agent_4</th><td>-15.585473</td></tr>\n",
       "\t<tr><th scope=row>agent_5</th><td>  1.861077</td></tr>\n",
       "\t<tr><th scope=row>agent_6</th><td>  6.271456</td></tr>\n",
       "\t<tr><th scope=row>agent_7</th><td> 17.880470</td></tr>\n",
       "\t<tr><th scope=row>agent_8</th><td>  5.386568</td></tr>\n",
       "\t<tr><th scope=row>agent_9</th><td>-12.751414</td></tr>\n",
       "\t<tr><th scope=row>agent_10</th><td> -3.897748</td></tr>\n",
       "\t<tr><th scope=row>agent_11</th><td> -7.807772</td></tr>\n",
       "\t<tr><th scope=row>agent_12</th><td> -2.450647</td></tr>\n",
       "\t<tr><th scope=row>agent_13</th><td> -4.958611</td></tr>\n",
       "\t<tr><th scope=row>agent_14</th><td>  5.725306</td></tr>\n",
       "\t<tr><th scope=row>agent_15</th><td>  8.330833</td></tr>\n",
       "\t<tr><th scope=row>agent_16</th><td>  9.684011</td></tr>\n",
       "\t<tr><th scope=row>agent_17</th><td>  1.678518</td></tr>\n",
       "\t<tr><th scope=row>agent_18</th><td> -5.641692</td></tr>\n",
       "\t<tr><th scope=row>agent_19</th><td> -9.100067</td></tr>\n",
       "\t<tr><th scope=row>agent_20</th><td> -7.277845</td></tr>\n",
       "</tbody>\n",
       "</table>\n"
      ],
      "text/latex": [
       "\\begin{tabular}{r|l}\n",
       "\t(Intercept) &  98.941001\\\\\n",
       "\tagent\\_1 &  43.453947\\\\\n",
       "\tagent\\_2 & 114.196607\\\\\n",
       "\tagent\\_3 &   6.545915\\\\\n",
       "\tagent\\_4 & -15.585473\\\\\n",
       "\tagent\\_5 &   1.861077\\\\\n",
       "\tagent\\_6 &   6.271456\\\\\n",
       "\tagent\\_7 &  17.880470\\\\\n",
       "\tagent\\_8 &   5.386568\\\\\n",
       "\tagent\\_9 & -12.751414\\\\\n",
       "\tagent\\_10 &  -3.897748\\\\\n",
       "\tagent\\_11 &  -7.807772\\\\\n",
       "\tagent\\_12 &  -2.450647\\\\\n",
       "\tagent\\_13 &  -4.958611\\\\\n",
       "\tagent\\_14 &   5.725306\\\\\n",
       "\tagent\\_15 &   8.330833\\\\\n",
       "\tagent\\_16 &   9.684011\\\\\n",
       "\tagent\\_17 &   1.678518\\\\\n",
       "\tagent\\_18 &  -5.641692\\\\\n",
       "\tagent\\_19 &  -9.100067\\\\\n",
       "\tagent\\_20 &  -7.277845\\\\\n",
       "\\end{tabular}\n"
      ],
      "text/markdown": [
       "\n",
       "| (Intercept) |  98.941001 | \n",
       "| agent_1 |  43.453947 | \n",
       "| agent_2 | 114.196607 | \n",
       "| agent_3 |   6.545915 | \n",
       "| agent_4 | -15.585473 | \n",
       "| agent_5 |   1.861077 | \n",
       "| agent_6 |   6.271456 | \n",
       "| agent_7 |  17.880470 | \n",
       "| agent_8 |   5.386568 | \n",
       "| agent_9 | -12.751414 | \n",
       "| agent_10 |  -3.897748 | \n",
       "| agent_11 |  -7.807772 | \n",
       "| agent_12 |  -2.450647 | \n",
       "| agent_13 |  -4.958611 | \n",
       "| agent_14 |   5.725306 | \n",
       "| agent_15 |   8.330833 | \n",
       "| agent_16 |   9.684011 | \n",
       "| agent_17 |   1.678518 | \n",
       "| agent_18 |  -5.641692 | \n",
       "| agent_19 |  -9.100067 | \n",
       "| agent_20 |  -7.277845 | \n",
       "\n",
       "\n"
      ],
      "text/plain": [
       "            [,1]      \n",
       "(Intercept)  98.941001\n",
       "agent_1      43.453947\n",
       "agent_2     114.196607\n",
       "agent_3       6.545915\n",
       "agent_4     -15.585473\n",
       "agent_5       1.861077\n",
       "agent_6       6.271456\n",
       "agent_7      17.880470\n",
       "agent_8       5.386568\n",
       "agent_9     -12.751414\n",
       "agent_10     -3.897748\n",
       "agent_11     -7.807772\n",
       "agent_12     -2.450647\n",
       "agent_13     -4.958611\n",
       "agent_14      5.725306\n",
       "agent_15      8.330833\n",
       "agent_16      9.684011\n",
       "agent_17      1.678518\n",
       "agent_18     -5.641692\n",
       "agent_19     -9.100067\n",
       "agent_20     -7.277845"
      ]
     },
     "metadata": {},
     "output_type": "display_data"
    },
    {
     "name": "stderr",
     "output_type": "stream",
     "text": [
      "Warning message in sqrt(solve(A)):\n",
      "“NaNs produced”"
     ]
    },
    {
     "data": {
      "text/html": [
       "<dl class=dl-horizontal>\n",
       "\t<dt>(Intercept)</dt>\n",
       "\t\t<dd>3.00525094394307</dd>\n",
       "\t<dt>agent_1</dt>\n",
       "\t\t<dd>5.64451894318348</dd>\n",
       "\t<dt>agent_2</dt>\n",
       "\t\t<dd>4.36519168628945</dd>\n",
       "\t<dt>agent_3</dt>\n",
       "\t\t<dd>5.36722459090806</dd>\n",
       "\t<dt>agent_4</dt>\n",
       "\t\t<dd>3.74519768293721</dd>\n",
       "\t<dt>agent_5</dt>\n",
       "\t\t<dd>3.20220981187121</dd>\n",
       "\t<dt>agent_6</dt>\n",
       "\t\t<dd>7.74066644723665</dd>\n",
       "\t<dt>agent_7</dt>\n",
       "\t\t<dd>7.55038498133505</dd>\n",
       "\t<dt>agent_8</dt>\n",
       "\t\t<dd>6.3772277336217</dd>\n",
       "\t<dt>agent_9</dt>\n",
       "\t\t<dd>3.93006603432461</dd>\n",
       "\t<dt>agent_10</dt>\n",
       "\t\t<dd>0.621570237315402</dd>\n",
       "\t<dt>agent_11</dt>\n",
       "\t\t<dd>1.04675247682926</dd>\n",
       "\t<dt>agent_12</dt>\n",
       "\t\t<dd>2.95947397759507</dd>\n",
       "\t<dt>agent_13</dt>\n",
       "\t\t<dd>24.2552267339626</dd>\n",
       "\t<dt>agent_14</dt>\n",
       "\t\t<dd>24.7024971959885</dd>\n",
       "\t<dt>agent_15</dt>\n",
       "\t\t<dd>11.4676216646326</dd>\n",
       "\t<dt>agent_16</dt>\n",
       "\t\t<dd>5.377234590395</dd>\n",
       "\t<dt>agent_17</dt>\n",
       "\t\t<dd>3.87499291275045</dd>\n",
       "\t<dt>agent_18</dt>\n",
       "\t\t<dd>3.64932285372309</dd>\n",
       "\t<dt>agent_19</dt>\n",
       "\t\t<dd>2.45882533435684</dd>\n",
       "\t<dt>agent_20</dt>\n",
       "\t\t<dd>3.01455660915158</dd>\n",
       "</dl>\n"
      ],
      "text/latex": [
       "\\begin{description*}\n",
       "\\item[(Intercept)] 3.00525094394307\n",
       "\\item[agent\\textbackslash{}\\_1] 5.64451894318348\n",
       "\\item[agent\\textbackslash{}\\_2] 4.36519168628945\n",
       "\\item[agent\\textbackslash{}\\_3] 5.36722459090806\n",
       "\\item[agent\\textbackslash{}\\_4] 3.74519768293721\n",
       "\\item[agent\\textbackslash{}\\_5] 3.20220981187121\n",
       "\\item[agent\\textbackslash{}\\_6] 7.74066644723665\n",
       "\\item[agent\\textbackslash{}\\_7] 7.55038498133505\n",
       "\\item[agent\\textbackslash{}\\_8] 6.3772277336217\n",
       "\\item[agent\\textbackslash{}\\_9] 3.93006603432461\n",
       "\\item[agent\\textbackslash{}\\_10] 0.621570237315402\n",
       "\\item[agent\\textbackslash{}\\_11] 1.04675247682926\n",
       "\\item[agent\\textbackslash{}\\_12] 2.95947397759507\n",
       "\\item[agent\\textbackslash{}\\_13] 24.2552267339626\n",
       "\\item[agent\\textbackslash{}\\_14] 24.7024971959885\n",
       "\\item[agent\\textbackslash{}\\_15] 11.4676216646326\n",
       "\\item[agent\\textbackslash{}\\_16] 5.377234590395\n",
       "\\item[agent\\textbackslash{}\\_17] 3.87499291275045\n",
       "\\item[agent\\textbackslash{}\\_18] 3.64932285372309\n",
       "\\item[agent\\textbackslash{}\\_19] 2.45882533435684\n",
       "\\item[agent\\textbackslash{}\\_20] 3.01455660915158\n",
       "\\end{description*}\n"
      ],
      "text/markdown": [
       "(Intercept)\n",
       ":   3.00525094394307agent_1\n",
       ":   5.64451894318348agent_2\n",
       ":   4.36519168628945agent_3\n",
       ":   5.36722459090806agent_4\n",
       ":   3.74519768293721agent_5\n",
       ":   3.20220981187121agent_6\n",
       ":   7.74066644723665agent_7\n",
       ":   7.55038498133505agent_8\n",
       ":   6.3772277336217agent_9\n",
       ":   3.93006603432461agent_10\n",
       ":   0.621570237315402agent_11\n",
       ":   1.04675247682926agent_12\n",
       ":   2.95947397759507agent_13\n",
       ":   24.2552267339626agent_14\n",
       ":   24.7024971959885agent_15\n",
       ":   11.4676216646326agent_16\n",
       ":   5.377234590395agent_17\n",
       ":   3.87499291275045agent_18\n",
       ":   3.64932285372309agent_19\n",
       ":   2.45882533435684agent_20\n",
       ":   3.01455660915158\n",
       "\n"
      ],
      "text/plain": [
       "(Intercept)     agent_1     agent_2     agent_3     agent_4     agent_5 \n",
       "  3.0052509   5.6445189   4.3651917   5.3672246   3.7451977   3.2022098 \n",
       "    agent_6     agent_7     agent_8     agent_9    agent_10    agent_11 \n",
       "  7.7406664   7.5503850   6.3772277   3.9300660   0.6215702   1.0467525 \n",
       "   agent_12    agent_13    agent_14    agent_15    agent_16    agent_17 \n",
       "  2.9594740  24.2552267  24.7024972  11.4676217   5.3772346   3.8749929 \n",
       "   agent_18    agent_19    agent_20 \n",
       "  3.6493229   2.4588253   3.0145566 "
      ]
     },
     "metadata": {},
     "output_type": "display_data"
    }
   ],
   "source": [
    "\n",
    "alpha\n",
    "beta\n",
    "mN\n",
    "diag(sqrt(solve(A)))"
   ]
  },
  {
   "cell_type": "code",
   "execution_count": 109,
   "metadata": {
    "scrolled": true
   },
   "outputs": [
    {
     "name": "stderr",
     "output_type": "stream",
     "text": [
      "Warning message in sqrt(solve(A)):\n",
      "“NaNs produced”"
     ]
    },
    {
     "data": {
      "text/html": [
       "<dl>\n",
       "\t<dt>$mN</dt>\n",
       "\t\t<dd><table>\n",
       "<tbody>\n",
       "\t<tr><th scope=row>(Intercept)</th><td> 98.941001</td></tr>\n",
       "\t<tr><th scope=row>agent_1</th><td> 43.453947</td></tr>\n",
       "\t<tr><th scope=row>agent_2</th><td>114.196607</td></tr>\n",
       "\t<tr><th scope=row>agent_3</th><td>  6.545915</td></tr>\n",
       "\t<tr><th scope=row>agent_4</th><td>-15.585473</td></tr>\n",
       "\t<tr><th scope=row>agent_5</th><td>  1.861077</td></tr>\n",
       "\t<tr><th scope=row>agent_6</th><td>  6.271456</td></tr>\n",
       "\t<tr><th scope=row>agent_7</th><td> 17.880470</td></tr>\n",
       "\t<tr><th scope=row>agent_8</th><td>  5.386568</td></tr>\n",
       "\t<tr><th scope=row>agent_9</th><td>-12.751414</td></tr>\n",
       "\t<tr><th scope=row>agent_10</th><td> -3.897748</td></tr>\n",
       "\t<tr><th scope=row>agent_11</th><td> -7.807772</td></tr>\n",
       "\t<tr><th scope=row>agent_12</th><td> -2.450647</td></tr>\n",
       "\t<tr><th scope=row>agent_13</th><td> -4.958611</td></tr>\n",
       "\t<tr><th scope=row>agent_14</th><td>  5.725306</td></tr>\n",
       "\t<tr><th scope=row>agent_15</th><td>  8.330833</td></tr>\n",
       "\t<tr><th scope=row>agent_16</th><td>  9.684011</td></tr>\n",
       "\t<tr><th scope=row>agent_17</th><td>  1.678518</td></tr>\n",
       "\t<tr><th scope=row>agent_18</th><td> -5.641692</td></tr>\n",
       "\t<tr><th scope=row>agent_19</th><td> -9.100067</td></tr>\n",
       "\t<tr><th scope=row>agent_20</th><td> -7.277845</td></tr>\n",
       "</tbody>\n",
       "</table>\n",
       "</dd>\n",
       "\t<dt>$mNsd</dt>\n",
       "\t\t<dd><dl class=dl-horizontal>\n",
       "\t<dt>(Intercept)</dt>\n",
       "\t\t<dd>3.00525094394307</dd>\n",
       "\t<dt>agent_1</dt>\n",
       "\t\t<dd>5.64451894318348</dd>\n",
       "\t<dt>agent_2</dt>\n",
       "\t\t<dd>4.36519168628945</dd>\n",
       "\t<dt>agent_3</dt>\n",
       "\t\t<dd>5.36722459090806</dd>\n",
       "\t<dt>agent_4</dt>\n",
       "\t\t<dd>3.74519768293721</dd>\n",
       "\t<dt>agent_5</dt>\n",
       "\t\t<dd>3.20220981187121</dd>\n",
       "\t<dt>agent_6</dt>\n",
       "\t\t<dd>7.74066644723665</dd>\n",
       "\t<dt>agent_7</dt>\n",
       "\t\t<dd>7.55038498133505</dd>\n",
       "\t<dt>agent_8</dt>\n",
       "\t\t<dd>6.3772277336217</dd>\n",
       "\t<dt>agent_9</dt>\n",
       "\t\t<dd>3.93006603432461</dd>\n",
       "\t<dt>agent_10</dt>\n",
       "\t\t<dd>0.621570237315402</dd>\n",
       "\t<dt>agent_11</dt>\n",
       "\t\t<dd>1.04675247682926</dd>\n",
       "\t<dt>agent_12</dt>\n",
       "\t\t<dd>2.95947397759507</dd>\n",
       "\t<dt>agent_13</dt>\n",
       "\t\t<dd>24.2552267339626</dd>\n",
       "\t<dt>agent_14</dt>\n",
       "\t\t<dd>24.7024971959885</dd>\n",
       "\t<dt>agent_15</dt>\n",
       "\t\t<dd>11.4676216646326</dd>\n",
       "\t<dt>agent_16</dt>\n",
       "\t\t<dd>5.377234590395</dd>\n",
       "\t<dt>agent_17</dt>\n",
       "\t\t<dd>3.87499291275045</dd>\n",
       "\t<dt>agent_18</dt>\n",
       "\t\t<dd>3.64932285372309</dd>\n",
       "\t<dt>agent_19</dt>\n",
       "\t\t<dd>2.45882533435684</dd>\n",
       "\t<dt>agent_20</dt>\n",
       "\t\t<dd>3.01455660915158</dd>\n",
       "</dl>\n",
       "</dd>\n",
       "\t<dt>$alpha</dt>\n",
       "\t\t<dd>0.000758533437952116</dd>\n",
       "\t<dt>$beta</dt>\n",
       "\t\t<dd>0.000253886494920236</dd>\n",
       "</dl>\n"
      ],
      "text/latex": [
       "\\begin{description}\n",
       "\\item[\\$mN] \\begin{tabular}{r|l}\n",
       "\t(Intercept) &  98.941001\\\\\n",
       "\tagent\\_1 &  43.453947\\\\\n",
       "\tagent\\_2 & 114.196607\\\\\n",
       "\tagent\\_3 &   6.545915\\\\\n",
       "\tagent\\_4 & -15.585473\\\\\n",
       "\tagent\\_5 &   1.861077\\\\\n",
       "\tagent\\_6 &   6.271456\\\\\n",
       "\tagent\\_7 &  17.880470\\\\\n",
       "\tagent\\_8 &   5.386568\\\\\n",
       "\tagent\\_9 & -12.751414\\\\\n",
       "\tagent\\_10 &  -3.897748\\\\\n",
       "\tagent\\_11 &  -7.807772\\\\\n",
       "\tagent\\_12 &  -2.450647\\\\\n",
       "\tagent\\_13 &  -4.958611\\\\\n",
       "\tagent\\_14 &   5.725306\\\\\n",
       "\tagent\\_15 &   8.330833\\\\\n",
       "\tagent\\_16 &   9.684011\\\\\n",
       "\tagent\\_17 &   1.678518\\\\\n",
       "\tagent\\_18 &  -5.641692\\\\\n",
       "\tagent\\_19 &  -9.100067\\\\\n",
       "\tagent\\_20 &  -7.277845\\\\\n",
       "\\end{tabular}\n",
       "\n",
       "\\item[\\$mNsd] \\begin{description*}\n",
       "\\item[(Intercept)] 3.00525094394307\n",
       "\\item[agent\\textbackslash{}\\_1] 5.64451894318348\n",
       "\\item[agent\\textbackslash{}\\_2] 4.36519168628945\n",
       "\\item[agent\\textbackslash{}\\_3] 5.36722459090806\n",
       "\\item[agent\\textbackslash{}\\_4] 3.74519768293721\n",
       "\\item[agent\\textbackslash{}\\_5] 3.20220981187121\n",
       "\\item[agent\\textbackslash{}\\_6] 7.74066644723665\n",
       "\\item[agent\\textbackslash{}\\_7] 7.55038498133505\n",
       "\\item[agent\\textbackslash{}\\_8] 6.3772277336217\n",
       "\\item[agent\\textbackslash{}\\_9] 3.93006603432461\n",
       "\\item[agent\\textbackslash{}\\_10] 0.621570237315402\n",
       "\\item[agent\\textbackslash{}\\_11] 1.04675247682926\n",
       "\\item[agent\\textbackslash{}\\_12] 2.95947397759507\n",
       "\\item[agent\\textbackslash{}\\_13] 24.2552267339626\n",
       "\\item[agent\\textbackslash{}\\_14] 24.7024971959885\n",
       "\\item[agent\\textbackslash{}\\_15] 11.4676216646326\n",
       "\\item[agent\\textbackslash{}\\_16] 5.377234590395\n",
       "\\item[agent\\textbackslash{}\\_17] 3.87499291275045\n",
       "\\item[agent\\textbackslash{}\\_18] 3.64932285372309\n",
       "\\item[agent\\textbackslash{}\\_19] 2.45882533435684\n",
       "\\item[agent\\textbackslash{}\\_20] 3.01455660915158\n",
       "\\end{description*}\n",
       "\n",
       "\\item[\\$alpha] 0.000758533437952116\n",
       "\\item[\\$beta] 0.000253886494920236\n",
       "\\end{description}\n"
      ],
      "text/markdown": [
       "$mN\n",
       ":   \n",
       "| (Intercept) |  98.941001 | \n",
       "| agent_1 |  43.453947 | \n",
       "| agent_2 | 114.196607 | \n",
       "| agent_3 |   6.545915 | \n",
       "| agent_4 | -15.585473 | \n",
       "| agent_5 |   1.861077 | \n",
       "| agent_6 |   6.271456 | \n",
       "| agent_7 |  17.880470 | \n",
       "| agent_8 |   5.386568 | \n",
       "| agent_9 | -12.751414 | \n",
       "| agent_10 |  -3.897748 | \n",
       "| agent_11 |  -7.807772 | \n",
       "| agent_12 |  -2.450647 | \n",
       "| agent_13 |  -4.958611 | \n",
       "| agent_14 |   5.725306 | \n",
       "| agent_15 |   8.330833 | \n",
       "| agent_16 |   9.684011 | \n",
       "| agent_17 |   1.678518 | \n",
       "| agent_18 |  -5.641692 | \n",
       "| agent_19 |  -9.100067 | \n",
       "| agent_20 |  -7.277845 | \n",
       "\n",
       "\n",
       "\n",
       "$mNsd\n",
       ":   (Intercept)\n",
       ":   3.00525094394307agent_1\n",
       ":   5.64451894318348agent_2\n",
       ":   4.36519168628945agent_3\n",
       ":   5.36722459090806agent_4\n",
       ":   3.74519768293721agent_5\n",
       ":   3.20220981187121agent_6\n",
       ":   7.74066644723665agent_7\n",
       ":   7.55038498133505agent_8\n",
       ":   6.3772277336217agent_9\n",
       ":   3.93006603432461agent_10\n",
       ":   0.621570237315402agent_11\n",
       ":   1.04675247682926agent_12\n",
       ":   2.95947397759507agent_13\n",
       ":   24.2552267339626agent_14\n",
       ":   24.7024971959885agent_15\n",
       ":   11.4676216646326agent_16\n",
       ":   5.377234590395agent_17\n",
       ":   3.87499291275045agent_18\n",
       ":   3.64932285372309agent_19\n",
       ":   2.45882533435684agent_20\n",
       ":   3.01455660915158\n",
       "\n",
       "\n",
       "$alpha\n",
       ":   0.000758533437952116\n",
       "$beta\n",
       ":   0.000253886494920236\n",
       "\n",
       "\n"
      ],
      "text/plain": [
       "$mN\n",
       "                  [,1]\n",
       "(Intercept)  98.941001\n",
       "agent_1      43.453947\n",
       "agent_2     114.196607\n",
       "agent_3       6.545915\n",
       "agent_4     -15.585473\n",
       "agent_5       1.861077\n",
       "agent_6       6.271456\n",
       "agent_7      17.880470\n",
       "agent_8       5.386568\n",
       "agent_9     -12.751414\n",
       "agent_10     -3.897748\n",
       "agent_11     -7.807772\n",
       "agent_12     -2.450647\n",
       "agent_13     -4.958611\n",
       "agent_14      5.725306\n",
       "agent_15      8.330833\n",
       "agent_16      9.684011\n",
       "agent_17      1.678518\n",
       "agent_18     -5.641692\n",
       "agent_19     -9.100067\n",
       "agent_20     -7.277845\n",
       "\n",
       "$mNsd\n",
       "(Intercept)     agent_1     agent_2     agent_3     agent_4     agent_5 \n",
       "  3.0052509   5.6445189   4.3651917   5.3672246   3.7451977   3.2022098 \n",
       "    agent_6     agent_7     agent_8     agent_9    agent_10    agent_11 \n",
       "  7.7406664   7.5503850   6.3772277   3.9300660   0.6215702   1.0467525 \n",
       "   agent_12    agent_13    agent_14    agent_15    agent_16    agent_17 \n",
       "  2.9594740  24.2552267  24.7024972  11.4676217   5.3772346   3.8749929 \n",
       "   agent_18    agent_19    agent_20 \n",
       "  3.6493229   2.4588253   3.0145566 \n",
       "\n",
       "$alpha\n",
       "[1] 0.0007585334\n",
       "\n",
       "$beta\n",
       "[1] 0.0002538865\n"
      ]
     },
     "metadata": {},
     "output_type": "display_data"
    }
   ],
   "source": [
    "lm_evmax <- function(y, xmat){\n",
    "    N = nrow(y)\n",
    "\n",
    "    lambda = 0.001 * N\n",
    "    M = dim(xmat)[2]\n",
    "    I = diag(M)\n",
    "\n",
    "    w = solve(lambda * I + t(xmat) %*% xmat) %*% t(xmat) %*% y\n",
    "    e0 = y - xmat %*% w\n",
    "    beta = drop(N / (t(e0) %*% e0))\n",
    "    alpha = drop(lambda %*% beta)\n",
    "    A = alpha * I + beta * t(xmat) %*% xmat\n",
    "    mN = beta * solve(A) %*% t(xmat) %*% y\n",
    "    lambda = eigen(beta * t(xmat) %*% xmat)$values\n",
    "    \n",
    "    # compute new alpha, beta, gamma\n",
    "    gamma = 0\n",
    "    for(i in 1:M){\n",
    "        gamma = gamma + (lambda[i] / (alpha + lambda[i]))\n",
    "    }\n",
    "    alpha_new = drop(gamma / (t(mN) %*% mN))\n",
    "    e1 = y - xmat %*% mN\n",
    "    beta_new = drop((N - gamma) / (t(e1) %*% e1))\n",
    "\n",
    "    # iterate\n",
    "    while(abs(alpha - alpha_new) + abs(beta - beta_new) >= 10 ** (-5)){\n",
    "        alpha = alpha_new\n",
    "        beta = beta_new\n",
    "        A = alpha * I + beta * t(xmat) %*% xmat\n",
    "        mN = beta * solve(A) %*% t(xmat) %*% y\n",
    "        lambda = eigen(beta * t(xmat) %*% xmat)$values\n",
    "        gamma = 0\n",
    "        for(i in 1:M){\n",
    "            gamma = gamma + (lambda[i] / (alpha + lambda[i]))\n",
    "        }\n",
    "        alpha_new = drop(gamma / (t(mN) %*% (mN)))\n",
    "        e1 = y - xmat %*% mN\n",
    "        beta_new = drop((N - gamma) / (t(e1) %*% e1))\n",
    "\n",
    "    }\n",
    "    result = list(mN = mN, mNsd = diag(sqrt(solve(A))), alpha = alpha, beta = beta)\n",
    "    return(result)\n",
    "}\n",
    "\n",
    "nfeat=20\n",
    "rtb3 = rtb2_train[1:(nfeat+1)]\n",
    "y=as.matrix(rtb3[,1])\n",
    "xmat = model.matrix(paying_price~., data=rtb3)\n",
    "lm_evmax(y,xmat )"
   ]
  },
  {
   "cell_type": "code",
   "execution_count": 2,
   "metadata": {},
   "outputs": [],
   "source": [
    "load(file=\"data/msong_slhw.rdata\")\n",
    "#defin the summary statistic function\n",
    "sumds = function(ds) {\n",
    "  nvariable = ncol(ds)\n",
    "  varnames = colnames(ds)\n",
    "  for(i in 1:nvariable) {\n",
    "    tmp1 = ds[,i]\n",
    "    #remove NA\n",
    "    tmp1 = tmp1[!is.na(tmp1)]\n",
    "    n = length(tmp1)\n",
    "    mean = mean(tmp1)\n",
    "    median = median(tmp1)\n",
    "    sd = sd(tmp1)\n",
    "    q13 = quantile(tmp1, c(0.25, 0.75))\n",
    "    min1 = min(tmp1)\n",
    "    max1 = max(tmp1)\n",
    "    arow = c(n, mean, median, sd, q13, min1, max1)\n",
    "    if(i==1) {\n",
    "      out1 = arow\n",
    "    } else {\n",
    "      out1 = rbind(out1, arow)\n",
    "    }\n",
    "  }\n",
    "  rownames(out1) = varnames\n",
    "  colnames(out1) = c(\"n\", \"mean\", \"median\", \"sd\", \"Q1\", \"Q3\", \"Min\", \"Max\")\n",
    "  return(out1)\n",
    "}\n"
   ]
  },
  {
   "cell_type": "code",
   "execution_count": null,
   "metadata": {},
   "outputs": [],
   "source": []
  },
  {
   "cell_type": "code",
   "execution_count": 165,
   "metadata": {
    "scrolled": true
   },
   "outputs": [
    {
     "data": {
      "text/html": [
       "<ol class=list-inline>\n",
       "\t<li>51630</li>\n",
       "\t<li>90</li>\n",
       "</ol>\n"
      ],
      "text/latex": [
       "\\begin{enumerate*}\n",
       "\\item 51630\n",
       "\\item 90\n",
       "\\end{enumerate*}\n"
      ],
      "text/markdown": [
       "1. 51630\n",
       "2. 90\n",
       "\n",
       "\n"
      ],
      "text/plain": [
       "[1] 51630    90"
      ]
     },
     "metadata": {},
     "output_type": "display_data"
    }
   ],
   "source": [
    "x_train = msong_train[1:5000,2:ncol(msong_train)]\n",
    "y_train = msong_train$year[1:5000]\n",
    "\n",
    "\n",
    "x_test = msong_test[,2:ncol(msong_test)]\n",
    "y_test = msong_test$year\n",
    "dim(x_test)\n",
    "\n",
    "org_year_mean =  mean(y_train)\n",
    "# shift to mean\n",
    "y_train = y_train - mean(y_train)\n",
    "\n",
    "# x_train <- scale(x_train) fast way to standarize\n",
    "# standarize x_train\n",
    "x_train_mean = t(apply(x_train, 2, function(x) mean(x, na.rm=TRUE)))                  \n",
    "x_train_sd = apply(x_train, 2, function(x) sd(x, na.rm=TRUE))\n",
    "x_train = sweep(x_train, 2, x_train_mean)\n",
    "x_train = sweep(x_train, MARGIN=2, x_train_sd,`/`)\n",
    "                   \n",
    "                   \n",
    "#  standarize x_test\n",
    "x_test = sweep(x_test, 2, x_train_mean)\n",
    "x_test = sweep(x_test, MARGIN=2, x_train_sd,`/`)                   \n",
    "y_test = y_test - org_year_mean\n",
    "                   \n",
    "\n"
   ]
  },
  {
   "cell_type": "code",
   "execution_count": 166,
   "metadata": {},
   "outputs": [
    {
     "data": {
      "text/html": [
       "5000"
      ],
      "text/latex": [
       "5000"
      ],
      "text/markdown": [
       "5000"
      ],
      "text/plain": [
       "[1] 5000"
      ]
     },
     "metadata": {},
     "output_type": "display_data"
    }
   ],
   "source": [
    "length(y_train)"
   ]
  },
  {
   "cell_type": "code",
   "execution_count": 236,
   "metadata": {},
   "outputs": [
    {
     "name": "stdout",
     "output_type": "stream",
     "text": [
      "[1] 5000\n"
     ]
    },
    {
     "data": {
      "text/html": [
       "<table>\n",
       "<tbody>\n",
       "\t<tr><td>10.70827</td></tr>\n",
       "</tbody>\n",
       "</table>\n"
      ],
      "text/latex": [
       "\\begin{tabular}{l}\n",
       "\t 10.70827\\\\\n",
       "\\end{tabular}\n"
      ],
      "text/markdown": [
       "\n",
       "| 10.70827 | \n",
       "\n",
       "\n"
      ],
      "text/plain": [
       "     [,1]    \n",
       "[1,] 10.70827"
      ]
     },
     "metadata": {},
     "output_type": "display_data"
    },
    {
     "name": "stdout",
     "output_type": "stream",
     "text": [
      "[1] 51630\n"
     ]
    },
    {
     "data": {
      "text/html": [
       "<table>\n",
       "<tbody>\n",
       "\t<tr><td>10.55976</td></tr>\n",
       "</tbody>\n",
       "</table>\n"
      ],
      "text/latex": [
       "\\begin{tabular}{l}\n",
       "\t 10.55976\\\\\n",
       "\\end{tabular}\n"
      ],
      "text/markdown": [
       "\n",
       "| 10.55976 | \n",
       "\n",
       "\n"
      ],
      "text/plain": [
       "     [,1]    \n",
       "[1,] 10.55976"
      ]
     },
     "metadata": {},
     "output_type": "display_data"
    }
   ],
   "source": [
    "nfeat = ncol(x_train)\n",
    "\n",
    "w = rep(0, nfeat)\n",
    "lr = 0.00001\n",
    "lambda = 10\n",
    "w_lr = rep(0, nfeat)\n",
    "\n",
    "epochs = 300\n",
    "x_train = as.matrix(x_train)\n",
    "\n",
    "for(it in 1:epochs){\n",
    "    w_grad = rep(0, nfeat)\n",
    "    for(n in 1:nrow(x_train)){\n",
    "       w_grad =  w_grad - drop( y_train[n]-  w %*% (x_train[n,])) * x_train[n,] + lambda * w\n",
    "    }\n",
    "    w = w - lr * w_grad\n",
    "}\n",
    "\n",
    "RMSE <- function(x_data, y_data, w){\n",
    "    RMSE = 0\n",
    "    SE = 0\n",
    "    x_data = as.matrix(x_data)\n",
    "    y_data = as.matrix(y_data)\n",
    "    print(nrow(y_data))\n",
    "    for(t in 1:nrow(y_data)){\n",
    "       SE =  SE + (y_data[t] - (w %*%  x_data[t,])) **2\n",
    "    }\n",
    "    RMSE = sqrt(SE / nrow(x_data))\n",
    "    return(RMSE)\n",
    "}\n",
    "\n",
    "RMSE(x_train, y_train, w)\n",
    "RMSE(x_test, y_test, w)\n",
    "\n",
    "\n",
    "\n"
   ]
  },
  {
   "cell_type": "code",
   "execution_count": 146,
   "metadata": {},
   "outputs": [
    {
     "data": {
      "text/html": [
       "5.16613088245854e-14"
      ],
      "text/latex": [
       "5.16613088245854e-14"
      ],
      "text/markdown": [
       "5.16613088245854e-14"
      ],
      "text/plain": [
       "[1] 5.166131e-14"
      ]
     },
     "metadata": {},
     "output_type": "display_data"
    },
    {
     "data": {
      "text/html": [
       "0.308958280069779"
      ],
      "text/latex": [
       "0.308958280069779"
      ],
      "text/markdown": [
       "0.308958280069779"
      ],
      "text/plain": [
       "[1] 0.3089583"
      ]
     },
     "metadata": {},
     "output_type": "display_data"
    }
   ],
   "source": [
    "mean(y_train)\n",
    "mean(y_test)"
   ]
  },
  {
   "cell_type": "code",
   "execution_count": 108,
   "metadata": {},
   "outputs": [
    {
     "data": {
      "text/html": [
       "<dl class=dl-horizontal>\n",
       "\t<dt>x1</dt>\n",
       "\t\t<dd>4.61976920816628</dd>\n",
       "\t<dt>x2</dt>\n",
       "\t\t<dd>-0.184106180118737</dd>\n",
       "\t<dt>x3</dt>\n",
       "\t\t<dd>7.49173615714398</dd>\n",
       "\t<dt>x4</dt>\n",
       "\t\t<dd>-8.9533066131942</dd>\n",
       "\t<dt>x5</dt>\n",
       "\t\t<dd>-0.157140667515153</dd>\n",
       "\t<dt>x6</dt>\n",
       "\t\t<dd>-10.1372859930154</dd>\n",
       "\t<dt>x7</dt>\n",
       "\t\t<dd>-14.4954107145367</dd>\n",
       "\t<dt>x8</dt>\n",
       "\t\t<dd>-15.4071020774883</dd>\n",
       "\t<dt>x9</dt>\n",
       "\t\t<dd>-10.6331976557882</dd>\n",
       "\t<dt>x10</dt>\n",
       "\t\t<dd>-5.60322851516945</dd>\n",
       "\t<dt>x11</dt>\n",
       "\t\t<dd>3.27358066367161</dd>\n",
       "\t<dt>x12</dt>\n",
       "\t\t<dd>0.465103236180115</dd>\n",
       "\t<dt>x13</dt>\n",
       "\t\t<dd>-0.557177527446239</dd>\n",
       "\t<dt>x14</dt>\n",
       "\t\t<dd>-1.46637025019075</dd>\n",
       "\t<dt>x15</dt>\n",
       "\t\t<dd>-11.458573170913</dd>\n",
       "\t<dt>x16</dt>\n",
       "\t\t<dd>-13.9237847969836</dd>\n",
       "\t<dt>x17</dt>\n",
       "\t\t<dd>-13.505360096174</dd>\n",
       "\t<dt>x18</dt>\n",
       "\t\t<dd>-13.8548208325955</dd>\n",
       "\t<dt>x19</dt>\n",
       "\t\t<dd>-6.82443748272481</dd>\n",
       "\t<dt>x20</dt>\n",
       "\t\t<dd>-8.72553764266325</dd>\n",
       "\t<dt>x21</dt>\n",
       "\t\t<dd>-7.88233977425145</dd>\n",
       "\t<dt>x22</dt>\n",
       "\t\t<dd>-10.3201842511475</dd>\n",
       "\t<dt>x23</dt>\n",
       "\t\t<dd>-14.7568283834631</dd>\n",
       "\t<dt>x24</dt>\n",
       "\t\t<dd>1.27131225738636</dd>\n",
       "\t<dt>x25</dt>\n",
       "\t\t<dd>1.83819934144955</dd>\n",
       "\t<dt>x26</dt>\n",
       "\t\t<dd>-1.56753903871953</dd>\n",
       "\t<dt>x27</dt>\n",
       "\t\t<dd>7.23220302912592</dd>\n",
       "\t<dt>x28</dt>\n",
       "\t\t<dd>-5.29316127615731</dd>\n",
       "\t<dt>x29</dt>\n",
       "\t\t<dd>-5.64937319136836</dd>\n",
       "\t<dt>x30</dt>\n",
       "\t\t<dd>-7.22268152446484</dd>\n",
       "\t<dt>x31</dt>\n",
       "\t\t<dd>7.98045527277918</dd>\n",
       "\t<dt>x32</dt>\n",
       "\t\t<dd>-7.0555727703963</dd>\n",
       "\t<dt>x33</dt>\n",
       "\t\t<dd>-1.98154395545961</dd>\n",
       "\t<dt>x34</dt>\n",
       "\t\t<dd>-3.737838406815</dd>\n",
       "\t<dt>x35</dt>\n",
       "\t\t<dd>-0.510482311881166</dd>\n",
       "\t<dt>x36</dt>\n",
       "\t\t<dd>-0.321402782341685</dd>\n",
       "\t<dt>x37</dt>\n",
       "\t\t<dd>-1.76231473118346</dd>\n",
       "\t<dt>x38</dt>\n",
       "\t\t<dd>-11.8428419423042</dd>\n",
       "\t<dt>x39</dt>\n",
       "\t\t<dd>7.84754728916534</dd>\n",
       "\t<dt>x40</dt>\n",
       "\t\t<dd>-1.87575649128669</dd>\n",
       "\t<dt>x41</dt>\n",
       "\t\t<dd>-9.15359086280276</dd>\n",
       "\t<dt>x42</dt>\n",
       "\t\t<dd>-4.30037067386554</dd>\n",
       "\t<dt>x43</dt>\n",
       "\t\t<dd>14.4408319385939</dd>\n",
       "\t<dt>x44</dt>\n",
       "\t\t<dd>-10.745349559355</dd>\n",
       "\t<dt>x45</dt>\n",
       "\t\t<dd>6.67555225596815</dd>\n",
       "\t<dt>x46</dt>\n",
       "\t\t<dd>1.6925139167606</dd>\n",
       "\t<dt>x47</dt>\n",
       "\t\t<dd>1.27794615326223</dd>\n",
       "\t<dt>x48</dt>\n",
       "\t\t<dd>1.98516272458351</dd>\n",
       "\t<dt>x49</dt>\n",
       "\t\t<dd>7.5954679613928</dd>\n",
       "\t<dt>x50</dt>\n",
       "\t\t<dd>-5.34476632714586</dd>\n",
       "\t<dt>x51</dt>\n",
       "\t\t<dd>-7.08893966917266</dd>\n",
       "\t<dt>x52</dt>\n",
       "\t\t<dd>2.25196550478169</dd>\n",
       "\t<dt>x53</dt>\n",
       "\t\t<dd>-2.11732710942555</dd>\n",
       "\t<dt>x54</dt>\n",
       "\t\t<dd>3.09856220719916</dd>\n",
       "\t<dt>x55</dt>\n",
       "\t\t<dd>-3.37887228217959</dd>\n",
       "\t<dt>x56</dt>\n",
       "\t\t<dd>-4.79263473805002</dd>\n",
       "\t<dt>x57</dt>\n",
       "\t\t<dd>1.18347624058363</dd>\n",
       "\t<dt>x58</dt>\n",
       "\t\t<dd>-1.13547523716135</dd>\n",
       "\t<dt>x59</dt>\n",
       "\t\t<dd>2.64210755364024</dd>\n",
       "\t<dt>x60</dt>\n",
       "\t\t<dd>0.759333689079872</dd>\n",
       "\t<dt>x61</dt>\n",
       "\t\t<dd>-2.56503476321195</dd>\n",
       "\t<dt>x62</dt>\n",
       "\t\t<dd>9.27869079560993</dd>\n",
       "\t<dt>x63</dt>\n",
       "\t\t<dd>2.82364023341656</dd>\n",
       "\t<dt>x64</dt>\n",
       "\t\t<dd>22.0737060658133</dd>\n",
       "\t<dt>x65</dt>\n",
       "\t\t<dd>0.0141637249683781</dd>\n",
       "\t<dt>x66</dt>\n",
       "\t\t<dd>-1.31510542925027</dd>\n",
       "\t<dt>x67</dt>\n",
       "\t\t<dd>-0.784780090718788</dd>\n",
       "\t<dt>x68</dt>\n",
       "\t\t<dd>0.301117749957837</dd>\n",
       "\t<dt>x69</dt>\n",
       "\t\t<dd>9.62182482829531</dd>\n",
       "\t<dt>x70</dt>\n",
       "\t\t<dd>5.72288733514721</dd>\n",
       "\t<dt>x71</dt>\n",
       "\t\t<dd>10.4716246748823</dd>\n",
       "\t<dt>x72</dt>\n",
       "\t\t<dd>-5.88196350446773</dd>\n",
       "\t<dt>x73</dt>\n",
       "\t\t<dd>1.64450996149275</dd>\n",
       "\t<dt>x74</dt>\n",
       "\t\t<dd>-1.6977611405018</dd>\n",
       "\t<dt>x75</dt>\n",
       "\t\t<dd>-9.60224628480614</dd>\n",
       "\t<dt>x76</dt>\n",
       "\t\t<dd>0.663625098315603</dd>\n",
       "\t<dt>x77</dt>\n",
       "\t\t<dd>5.31320095041107</dd>\n",
       "\t<dt>x78</dt>\n",
       "\t\t<dd>-1.81087834909759</dd>\n",
       "\t<dt>x79</dt>\n",
       "\t\t<dd>1.34649361856813</dd>\n",
       "\t<dt>x80</dt>\n",
       "\t\t<dd>1.85035526914005</dd>\n",
       "\t<dt>x81</dt>\n",
       "\t\t<dd>-11.7156168059678</dd>\n",
       "\t<dt>x82</dt>\n",
       "\t\t<dd>14.4581609086396</dd>\n",
       "\t<dt>x83</dt>\n",
       "\t\t<dd>-3.29577302919328</dd>\n",
       "\t<dt>x84</dt>\n",
       "\t\t<dd>-10.1913974692596</dd>\n",
       "\t<dt>x85</dt>\n",
       "\t\t<dd>0.471694338760137</dd>\n",
       "\t<dt>x86</dt>\n",
       "\t\t<dd>-11.9568550669067</dd>\n",
       "\t<dt>x87</dt>\n",
       "\t\t<dd>-11.6168740642202</dd>\n",
       "\t<dt>x88</dt>\n",
       "\t\t<dd>-9.7212667783033</dd>\n",
       "\t<dt>x89</dt>\n",
       "\t\t<dd>14.571679458917</dd>\n",
       "\t<dt>x90</dt>\n",
       "\t\t<dd>-2.99370416631571</dd>\n",
       "</dl>\n"
      ],
      "text/latex": [
       "\\begin{description*}\n",
       "\\item[x1] 4.61976920816628\n",
       "\\item[x2] -0.184106180118737\n",
       "\\item[x3] 7.49173615714398\n",
       "\\item[x4] -8.9533066131942\n",
       "\\item[x5] -0.157140667515153\n",
       "\\item[x6] -10.1372859930154\n",
       "\\item[x7] -14.4954107145367\n",
       "\\item[x8] -15.4071020774883\n",
       "\\item[x9] -10.6331976557882\n",
       "\\item[x10] -5.60322851516945\n",
       "\\item[x11] 3.27358066367161\n",
       "\\item[x12] 0.465103236180115\n",
       "\\item[x13] -0.557177527446239\n",
       "\\item[x14] -1.46637025019075\n",
       "\\item[x15] -11.458573170913\n",
       "\\item[x16] -13.9237847969836\n",
       "\\item[x17] -13.505360096174\n",
       "\\item[x18] -13.8548208325955\n",
       "\\item[x19] -6.82443748272481\n",
       "\\item[x20] -8.72553764266325\n",
       "\\item[x21] -7.88233977425145\n",
       "\\item[x22] -10.3201842511475\n",
       "\\item[x23] -14.7568283834631\n",
       "\\item[x24] 1.27131225738636\n",
       "\\item[x25] 1.83819934144955\n",
       "\\item[x26] -1.56753903871953\n",
       "\\item[x27] 7.23220302912592\n",
       "\\item[x28] -5.29316127615731\n",
       "\\item[x29] -5.64937319136836\n",
       "\\item[x30] -7.22268152446484\n",
       "\\item[x31] 7.98045527277918\n",
       "\\item[x32] -7.0555727703963\n",
       "\\item[x33] -1.98154395545961\n",
       "\\item[x34] -3.737838406815\n",
       "\\item[x35] -0.510482311881166\n",
       "\\item[x36] -0.321402782341685\n",
       "\\item[x37] -1.76231473118346\n",
       "\\item[x38] -11.8428419423042\n",
       "\\item[x39] 7.84754728916534\n",
       "\\item[x40] -1.87575649128669\n",
       "\\item[x41] -9.15359086280276\n",
       "\\item[x42] -4.30037067386554\n",
       "\\item[x43] 14.4408319385939\n",
       "\\item[x44] -10.745349559355\n",
       "\\item[x45] 6.67555225596815\n",
       "\\item[x46] 1.6925139167606\n",
       "\\item[x47] 1.27794615326223\n",
       "\\item[x48] 1.98516272458351\n",
       "\\item[x49] 7.5954679613928\n",
       "\\item[x50] -5.34476632714586\n",
       "\\item[x51] -7.08893966917266\n",
       "\\item[x52] 2.25196550478169\n",
       "\\item[x53] -2.11732710942555\n",
       "\\item[x54] 3.09856220719916\n",
       "\\item[x55] -3.37887228217959\n",
       "\\item[x56] -4.79263473805002\n",
       "\\item[x57] 1.18347624058363\n",
       "\\item[x58] -1.13547523716135\n",
       "\\item[x59] 2.64210755364024\n",
       "\\item[x60] 0.759333689079872\n",
       "\\item[x61] -2.56503476321195\n",
       "\\item[x62] 9.27869079560993\n",
       "\\item[x63] 2.82364023341656\n",
       "\\item[x64] 22.0737060658133\n",
       "\\item[x65] 0.0141637249683781\n",
       "\\item[x66] -1.31510542925027\n",
       "\\item[x67] -0.784780090718788\n",
       "\\item[x68] 0.301117749957837\n",
       "\\item[x69] 9.62182482829531\n",
       "\\item[x70] 5.72288733514721\n",
       "\\item[x71] 10.4716246748823\n",
       "\\item[x72] -5.88196350446773\n",
       "\\item[x73] 1.64450996149275\n",
       "\\item[x74] -1.6977611405018\n",
       "\\item[x75] -9.60224628480614\n",
       "\\item[x76] 0.663625098315603\n",
       "\\item[x77] 5.31320095041107\n",
       "\\item[x78] -1.81087834909759\n",
       "\\item[x79] 1.34649361856813\n",
       "\\item[x80] 1.85035526914005\n",
       "\\item[x81] -11.7156168059678\n",
       "\\item[x82] 14.4581609086396\n",
       "\\item[x83] -3.29577302919328\n",
       "\\item[x84] -10.1913974692596\n",
       "\\item[x85] 0.471694338760137\n",
       "\\item[x86] -11.9568550669067\n",
       "\\item[x87] -11.6168740642202\n",
       "\\item[x88] -9.7212667783033\n",
       "\\item[x89] 14.571679458917\n",
       "\\item[x90] -2.99370416631571\n",
       "\\end{description*}\n"
      ],
      "text/markdown": [
       "x1\n",
       ":   4.61976920816628x2\n",
       ":   -0.184106180118737x3\n",
       ":   7.49173615714398x4\n",
       ":   -8.9533066131942x5\n",
       ":   -0.157140667515153x6\n",
       ":   -10.1372859930154x7\n",
       ":   -14.4954107145367x8\n",
       ":   -15.4071020774883x9\n",
       ":   -10.6331976557882x10\n",
       ":   -5.60322851516945x11\n",
       ":   3.27358066367161x12\n",
       ":   0.465103236180115x13\n",
       ":   -0.557177527446239x14\n",
       ":   -1.46637025019075x15\n",
       ":   -11.458573170913x16\n",
       ":   -13.9237847969836x17\n",
       ":   -13.505360096174x18\n",
       ":   -13.8548208325955x19\n",
       ":   -6.82443748272481x20\n",
       ":   -8.72553764266325x21\n",
       ":   -7.88233977425145x22\n",
       ":   -10.3201842511475x23\n",
       ":   -14.7568283834631x24\n",
       ":   1.27131225738636x25\n",
       ":   1.83819934144955x26\n",
       ":   -1.56753903871953x27\n",
       ":   7.23220302912592x28\n",
       ":   -5.29316127615731x29\n",
       ":   -5.64937319136836x30\n",
       ":   -7.22268152446484x31\n",
       ":   7.98045527277918x32\n",
       ":   -7.0555727703963x33\n",
       ":   -1.98154395545961x34\n",
       ":   -3.737838406815x35\n",
       ":   -0.510482311881166x36\n",
       ":   -0.321402782341685x37\n",
       ":   -1.76231473118346x38\n",
       ":   -11.8428419423042x39\n",
       ":   7.84754728916534x40\n",
       ":   -1.87575649128669x41\n",
       ":   -9.15359086280276x42\n",
       ":   -4.30037067386554x43\n",
       ":   14.4408319385939x44\n",
       ":   -10.745349559355x45\n",
       ":   6.67555225596815x46\n",
       ":   1.6925139167606x47\n",
       ":   1.27794615326223x48\n",
       ":   1.98516272458351x49\n",
       ":   7.5954679613928x50\n",
       ":   -5.34476632714586x51\n",
       ":   -7.08893966917266x52\n",
       ":   2.25196550478169x53\n",
       ":   -2.11732710942555x54\n",
       ":   3.09856220719916x55\n",
       ":   -3.37887228217959x56\n",
       ":   -4.79263473805002x57\n",
       ":   1.18347624058363x58\n",
       ":   -1.13547523716135x59\n",
       ":   2.64210755364024x60\n",
       ":   0.759333689079872x61\n",
       ":   -2.56503476321195x62\n",
       ":   9.27869079560993x63\n",
       ":   2.82364023341656x64\n",
       ":   22.0737060658133x65\n",
       ":   0.0141637249683781x66\n",
       ":   -1.31510542925027x67\n",
       ":   -0.784780090718788x68\n",
       ":   0.301117749957837x69\n",
       ":   9.62182482829531x70\n",
       ":   5.72288733514721x71\n",
       ":   10.4716246748823x72\n",
       ":   -5.88196350446773x73\n",
       ":   1.64450996149275x74\n",
       ":   -1.6977611405018x75\n",
       ":   -9.60224628480614x76\n",
       ":   0.663625098315603x77\n",
       ":   5.31320095041107x78\n",
       ":   -1.81087834909759x79\n",
       ":   1.34649361856813x80\n",
       ":   1.85035526914005x81\n",
       ":   -11.7156168059678x82\n",
       ":   14.4581609086396x83\n",
       ":   -3.29577302919328x84\n",
       ":   -10.1913974692596x85\n",
       ":   0.471694338760137x86\n",
       ":   -11.9568550669067x87\n",
       ":   -11.6168740642202x88\n",
       ":   -9.7212667783033x89\n",
       ":   14.571679458917x90\n",
       ":   -2.99370416631571\n",
       "\n"
      ],
      "text/plain": [
       "          x1           x2           x3           x4           x5           x6 \n",
       "  4.61976921  -0.18410618   7.49173616  -8.95330661  -0.15714067 -10.13728599 \n",
       "          x7           x8           x9          x10          x11          x12 \n",
       "-14.49541071 -15.40710208 -10.63319766  -5.60322852   3.27358066   0.46510324 \n",
       "         x13          x14          x15          x16          x17          x18 \n",
       " -0.55717753  -1.46637025 -11.45857317 -13.92378480 -13.50536010 -13.85482083 \n",
       "         x19          x20          x21          x22          x23          x24 \n",
       " -6.82443748  -8.72553764  -7.88233977 -10.32018425 -14.75682838   1.27131226 \n",
       "         x25          x26          x27          x28          x29          x30 \n",
       "  1.83819934  -1.56753904   7.23220303  -5.29316128  -5.64937319  -7.22268152 \n",
       "         x31          x32          x33          x34          x35          x36 \n",
       "  7.98045527  -7.05557277  -1.98154396  -3.73783841  -0.51048231  -0.32140278 \n",
       "         x37          x38          x39          x40          x41          x42 \n",
       " -1.76231473 -11.84284194   7.84754729  -1.87575649  -9.15359086  -4.30037067 \n",
       "         x43          x44          x45          x46          x47          x48 \n",
       " 14.44083194 -10.74534956   6.67555226   1.69251392   1.27794615   1.98516272 \n",
       "         x49          x50          x51          x52          x53          x54 \n",
       "  7.59546796  -5.34476633  -7.08893967   2.25196550  -2.11732711   3.09856221 \n",
       "         x55          x56          x57          x58          x59          x60 \n",
       " -3.37887228  -4.79263474   1.18347624  -1.13547524   2.64210755   0.75933369 \n",
       "         x61          x62          x63          x64          x65          x66 \n",
       " -2.56503476   9.27869080   2.82364023  22.07370607   0.01416372  -1.31510543 \n",
       "         x67          x68          x69          x70          x71          x72 \n",
       " -0.78478009   0.30111775   9.62182483   5.72288734  10.47162467  -5.88196350 \n",
       "         x73          x74          x75          x76          x77          x78 \n",
       "  1.64450996  -1.69776114  -9.60224628   0.66362510   5.31320095  -1.81087835 \n",
       "         x79          x80          x81          x82          x83          x84 \n",
       "  1.34649362   1.85035527 -11.71561681  14.45816091  -3.29577303 -10.19139747 \n",
       "         x85          x86          x87          x88          x89          x90 \n",
       "  0.47169434 -11.95685507 -11.61687406  -9.72126678  14.57167946  -2.99370417 "
      ]
     },
     "metadata": {},
     "output_type": "display_data"
    },
    {
     "name": "stderr",
     "output_type": "stream",
     "text": [
      "Warning message in (y_train[1] - w %*% (x_train[1, ])) * x_train[1, ]:\n",
      "“Recycling array of length 1 in array-vector arithmetic is deprecated.\n",
      "  Use c() or as.vector() instead.\n",
      "”"
     ]
    }
   ],
   "source": [
    "# y_train[1]\n",
    "w =rep(1, nfeat)\n",
    "# x_train[1,]\n",
    "\n",
    "x_train = as.matrix(x_train)\n",
    "\n",
    "\n",
    "w_grad = rep(0, nfeat)\n",
    "drop(y_train[1]- w %*% (x_train[1,]))* x_train[1,]\n",
    "\n",
    "\n",
    "\n",
    "w_grad =  w_grad - ( y_train[1]- w %*% (x_train[1,]))* x_train[1,]\n",
    "\n",
    "                   \n",
    "        \n",
    "                   \n",
    "                   \n",
    "                   \n",
    "                   "
   ]
  }
 ],
 "metadata": {
  "kernelspec": {
   "display_name": "R",
   "language": "R",
   "name": "ir"
  },
  "language_info": {
   "codemirror_mode": "r",
   "file_extension": ".r",
   "mimetype": "text/x-r-source",
   "name": "R",
   "pygments_lexer": "r",
   "version": "3.4.4"
  }
 },
 "nbformat": 4,
 "nbformat_minor": 2
}
